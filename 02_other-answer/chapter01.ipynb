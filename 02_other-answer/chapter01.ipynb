{
  "nbformat": 4,
  "nbformat_minor": 0,
  "metadata": {
    "colab": {
      "name": "chapter01.ipynb",
      "provenance": [],
      "collapsed_sections": [],
      "authorship_tag": "ABX9TyOEt5eqk/i10KjP8QXMRvwV"
    },
    "kernelspec": {
      "name": "python3",
      "display_name": "Python 3"
    }
  },
  "cells": [
    {
      "cell_type": "markdown",
      "metadata": {
        "id": "TF5HIiXoTzry",
        "colab_type": "text"
      },
      "source": [
        "# 第1章: 準備運動"
      ]
    },
    {
      "cell_type": "markdown",
      "metadata": {
        "id": "T7HtwX4XT4zc",
        "colab_type": "text"
      },
      "source": [
        "## 00. 文字列の逆順\n",
        "***\n",
        "文字列”stressed”の文字を逆に（末尾から先頭に向かって）並べた文字列を得よ．"
      ]
    },
    {
      "cell_type": "code",
      "metadata": {
        "id": "XlSePvcDT3JH",
        "colab_type": "code",
        "colab": {
          "base_uri": "https://localhost:8080/",
          "height": 35
        },
        "outputId": "5299532e-1630-469a-e2d6-0b747b23bb5d"
      },
      "source": [
        "str = 'stressed'\n",
        "ans = str[::-1]\n",
        "\n",
        "print(ans)"
      ],
      "execution_count": 9,
      "outputs": [
        {
          "output_type": "stream",
          "text": [
            "desserts\n"
          ],
          "name": "stdout"
        }
      ]
    },
    {
      "cell_type": "markdown",
      "metadata": {
        "id": "znMoAECvUV6s",
        "colab_type": "text"
      },
      "source": [
        "## 01. 「パタトクカシーー」\n",
        "***\n",
        "「パタトクカシーー」という文字列の1,3,5,7文字目を取り出して連結した文字列を得よ．"
      ]
    },
    {
      "cell_type": "code",
      "metadata": {
        "id": "Ivyu57SAUEZP",
        "colab_type": "code",
        "colab": {
          "base_uri": "https://localhost:8080/",
          "height": 35
        },
        "outputId": "5422af2b-3bcd-4bf2-aa7d-8e58558b0957"
      },
      "source": [
        "str = 'パタトクカシーー'\n",
        "ans = str[::2]\n",
        "\n",
        "print(ans)"
      ],
      "execution_count": 10,
      "outputs": [
        {
          "output_type": "stream",
          "text": [
            "パトカー\n"
          ],
          "name": "stdout"
        }
      ]
    },
    {
      "cell_type": "markdown",
      "metadata": {
        "id": "q03ZjV4jVDPd",
        "colab_type": "text"
      },
      "source": [
        "## 02. 「パトカー」＋「タクシー」＝「パタトクカシーー」\n",
        "***\n",
        "「パトカー」＋「タクシー」の文字を先頭から交互に連結して文字列「パタトクカシーー」を得よ．"
      ]
    },
    {
      "cell_type": "code",
      "metadata": {
        "id": "KsPQn6eXUgaF",
        "colab_type": "code",
        "colab": {
          "base_uri": "https://localhost:8080/",
          "height": 35
        },
        "outputId": "71fe5af8-ee5b-4307-e970-71a1bdfadea2"
      },
      "source": [
        "str1 = 'パトカー'\n",
        "str2 = 'タクシー'\n",
        "ans = ''.join([i + j for i, j in zip(str1, str2)])\n",
        "\n",
        "print(ans)"
      ],
      "execution_count": 11,
      "outputs": [
        {
          "output_type": "stream",
          "text": [
            "パタトクカシーー\n"
          ],
          "name": "stdout"
        }
      ]
    },
    {
      "cell_type": "markdown",
      "metadata": {
        "id": "88tWD10wWrG_",
        "colab_type": "text"
      },
      "source": [
        "## 03. 円周率\n",
        "***\n",
        "“Now I need a drink, alcoholic of course, after the heavy lectures involving quantum mechanics.”という文を単語に分解し，各単語の（アルファベットの）文字数を先頭から出現順に並べたリストを作成せよ．"
      ]
    },
    {
      "cell_type": "code",
      "metadata": {
        "id": "z5Lq8GfdVaVI",
        "colab_type": "code",
        "colab": {
          "base_uri": "https://localhost:8080/",
          "height": 35
        },
        "outputId": "3243893b-82f9-4c33-cc29-6e68e77cb9a2"
      },
      "source": [
        "import re\n",
        "\n",
        "str = 'Now I need a drink, alcoholic of course, after the heavy lectures involving quantum mechanics.'\n",
        "str = re.sub('[,\\.]', '', str)  # ,と.を除去\n",
        "splits = str.split()  # スペースで区切って単語ごとのリストを作成\n",
        "ans = [len(i) for i in splits]\n",
        "\n",
        "print(ans)"
      ],
      "execution_count": 12,
      "outputs": [
        {
          "output_type": "stream",
          "text": [
            "[3, 1, 4, 1, 5, 9, 2, 6, 5, 3, 5, 8, 9, 7, 9]\n"
          ],
          "name": "stdout"
        }
      ]
    },
    {
      "cell_type": "markdown",
      "metadata": {
        "id": "vpZfX1v8OHRk",
        "colab_type": "text"
      },
      "source": [
        "## 04. 元素記号\n",
        "***\n",
        "“Hi He Lied Because Boron Could Not Oxidize Fluorine. New Nations Might Also Sign Peace Security Clause. Arthur King Can.”という文を単語に分解し，1, 5, 6, 7, 8, 9, 15, 16, 19番目の単語は先頭の1文字，それ以外の単語は先頭に2文字を取り出し，取り出した文字列から単語の位置（先頭から何番目の単語か）への連想配列（辞書型もしくはマップ型）を作成せよ．"
      ]
    },
    {
      "cell_type": "code",
      "metadata": {
        "id": "4qloDpQOXDPP",
        "colab_type": "code",
        "colab": {
          "base_uri": "https://localhost:8080/",
          "height": 55
        },
        "outputId": "5602fafa-749a-4e63-8cd3-31c460c561ff"
      },
      "source": [
        "str = 'Hi He Lied Because Boron Could Not Oxidize Fluorine. New Nations Might Also Sign Peace Security Clause. Arthur King Can.'\n",
        "splits = str.split()\n",
        "one_ch = [1, 5, 6, 7, 8, 9, 15, 16, 19]  # 1文字を取り出す単語の番号リスト\n",
        "ans = {}\n",
        "for i, word in enumerate(splits):\n",
        "  if i + 1 in one_ch:\n",
        "    ans[word[:1]] = i + 1  # リストにあれば1文字を取得\n",
        "  else:\n",
        "    ans[word[:2]] = i + 1  # なければ2文字を取得\n",
        "    \n",
        "print(ans)"
      ],
      "execution_count": 13,
      "outputs": [
        {
          "output_type": "stream",
          "text": [
            "{'H': 1, 'He': 2, 'Li': 3, 'Be': 4, 'B': 5, 'C': 6, 'N': 7, 'O': 8, 'F': 9, 'Ne': 10, 'Na': 11, 'Mi': 12, 'Al': 13, 'Si': 14, 'P': 15, 'S': 16, 'Cl': 17, 'Ar': 18, 'K': 19, 'Ca': 20}\n"
          ],
          "name": "stdout"
        }
      ]
    },
    {
      "cell_type": "markdown",
      "metadata": {
        "id": "EYNvyOUCOJru",
        "colab_type": "text"
      },
      "source": [
        "## 05. n-gram\n",
        "***\n",
        "与えられたシーケンス（文字列やリストなど）からn-gramを作る関数を作成せよ．この関数を用い，”I am an NLPer”という文から単語bi-gram，文字bi-gramを得よ．"
      ]
    },
    {
      "cell_type": "code",
      "metadata": {
        "id": "5ebjTpjDON4B",
        "colab_type": "code",
        "colab": {
          "base_uri": "https://localhost:8080/",
          "height": 53
        },
        "outputId": "63261f6c-3824-4b60-a49c-fd271da7cc94"
      },
      "source": [
        "def ngram(n, lst):\n",
        "    return list(zip(*[lst[i:] for i in range(n)]))\n",
        "\n",
        "str = 'I am an NLPer'\n",
        "words_bi_gram = ngram(2, str.split())\n",
        "chars_bi_gram = ngram(2, str)\n",
        "\n",
        "print('単語bi-gram:', words_bi_gram)\n",
        "print('文字bi-gram:', chars_bi_gram)"
      ],
      "execution_count": 14,
      "outputs": [
        {
          "output_type": "stream",
          "text": [
            "単語bi-gram: [('I', 'am'), ('am', 'an'), ('an', 'NLPer')]\n",
            "文字bi-gram: [('I', ' '), (' ', 'a'), ('a', 'm'), ('m', ' '), (' ', 'a'), ('a', 'n'), ('n', ' '), (' ', 'N'), ('N', 'L'), ('L', 'P'), ('P', 'e'), ('e', 'r')]\n"
          ],
          "name": "stdout"
        }
      ]
    },
    {
      "cell_type": "code",
      "metadata": {
        "id": "WwC1cpYJ8P-N",
        "colab_type": "code",
        "colab": {
          "base_uri": "https://localhost:8080/",
          "height": 35
        },
        "outputId": "85138b19-2e8c-4086-aba4-2cec640aedad"
      },
      "source": [
        "\n",
        "str = 'I am an NLPer'\n",
        "[str[i:] for i in range(2)]"
      ],
      "execution_count": 15,
      "outputs": [
        {
          "output_type": "execute_result",
          "data": {
            "text/plain": [
              "['I am an NLPer', ' am an NLPer']"
            ]
          },
          "metadata": {
            "tags": []
          },
          "execution_count": 15
        }
      ]
    },
    {
      "cell_type": "markdown",
      "metadata": {
        "id": "dLPmmHDiOOf6",
        "colab_type": "text"
      },
      "source": [
        "## 06. 集合\n",
        "***\n",
        "“paraparaparadise”と”paragraph”に含まれる文字bi-gramの集合を，それぞれ, XとYとして求め，XとYの和集合，積集合，差集合を求めよ．さらに，’se’というbi-gramがXおよびYに含まれるかどうかを調べよ．"
      ]
    },
    {
      "cell_type": "code",
      "metadata": {
        "id": "oruJ1b7SOR99",
        "colab_type": "code",
        "colab": {
          "base_uri": "https://localhost:8080/",
          "height": 143
        },
        "outputId": "95c6dcf7-5434-40d8-e2fa-948a4e5ea348"
      },
      "source": [
        "str1 = 'paraparaparadise'\n",
        "str2 = 'paragraph'\n",
        "X = set(ngram(2, str1))\n",
        "Y = set(ngram(2, str2))\n",
        "union = X | Y\n",
        "intersection = X & Y\n",
        "difference = X - Y\n",
        "\n",
        "print('X:', X)\n",
        "print('Y:', Y)\n",
        "print('和集合:', union)\n",
        "print('積集合:', intersection)\n",
        "print('差集合:', difference)\n",
        "print('Xにseが含まれるか:', {('s', 'e')} <= X)\n",
        "print('Yにseが含まれるか:', {('s', 'e')} <= Y)"
      ],
      "execution_count": 16,
      "outputs": [
        {
          "output_type": "stream",
          "text": [
            "X: {('p', 'a'), ('a', 'p'), ('d', 'i'), ('i', 's'), ('a', 'd'), ('r', 'a'), ('a', 'r'), ('s', 'e')}\n",
            "Y: {('p', 'a'), ('a', 'p'), ('g', 'r'), ('p', 'h'), ('r', 'a'), ('a', 'r'), ('a', 'g')}\n",
            "和集合: {('p', 'a'), ('a', 'p'), ('d', 'i'), ('i', 's'), ('g', 'r'), ('p', 'h'), ('a', 'd'), ('r', 'a'), ('a', 'r'), ('s', 'e'), ('a', 'g')}\n",
            "積集合: {('r', 'a'), ('p', 'a'), ('a', 'p'), ('a', 'r')}\n",
            "差集合: {('i', 's'), ('s', 'e'), ('a', 'd'), ('d', 'i')}\n",
            "Xにseが含まれるか: True\n",
            "Yにseが含まれるか: False\n"
          ],
          "name": "stdout"
        }
      ]
    },
    {
      "cell_type": "markdown",
      "metadata": {
        "id": "7D_kaglGOSgL",
        "colab_type": "text"
      },
      "source": [
        "## 07. テンプレートによる文生成\n",
        "***\n",
        "引数x, y, zを受け取り「x時のyはz」という文字列を返す関数を実装せよ．さらに，x=12, y=”気温”, z=22.4として，実行結果を確認せよ．"
      ]
    },
    {
      "cell_type": "code",
      "metadata": {
        "id": "nTBSpT7VOVw6",
        "colab_type": "code",
        "colab": {
          "base_uri": "https://localhost:8080/",
          "height": 35
        },
        "outputId": "abdc3e19-3518-43ee-8a05-c9890e26c965"
      },
      "source": [
        "def generate_sentence(x, y, z):\n",
        "  print(f'{x}時のとき{y}は{z}')\n",
        "\n",
        "generate_sentence(12, '気温', 22.4)"
      ],
      "execution_count": 17,
      "outputs": [
        {
          "output_type": "stream",
          "text": [
            "12時のとき気温は22.4\n"
          ],
          "name": "stdout"
        }
      ]
    },
    {
      "cell_type": "markdown",
      "metadata": {
        "id": "CZEogrN2OWXN",
        "colab_type": "text"
      },
      "source": [
        "## 08. 暗号文\n",
        "***\n",
        "与えられた文字列の各文字を，以下の仕様で変換する関数cipherを実装せよ．\n",
        "\n",
        "英小文字ならば(219 - 文字コード)の文字に置換\n",
        "その他の文字はそのまま出力\n",
        "この関数を用い，英語のメッセージを暗号化・復号化せよ．"
      ]
    },
    {
      "cell_type": "code",
      "metadata": {
        "id": "9djc4p0rOaMY",
        "colab_type": "code",
        "colab": {
          "base_uri": "https://localhost:8080/",
          "height": 53
        },
        "outputId": "f361af2a-97ca-44d0-b4f9-dfa4e226a7de"
      },
      "source": [
        "def cipher(str):\n",
        "  rep = [chr(219 - ord(x)) if x.islower() else x for x in str]\n",
        "  \n",
        "  return ''.join(rep)\n",
        "\n",
        "message = 'the quick brown fox jumps over the lazy dog'\n",
        "message = cipher(message)\n",
        "print('暗号化:', message)\n",
        "message = cipher(message)\n",
        "print('復号化:', message)"
      ],
      "execution_count": 18,
      "outputs": [
        {
          "output_type": "stream",
          "text": [
            "暗号化: gsv jfrxp yildm ulc qfnkh levi gsv ozab wlt\n",
            "復号化: the quick brown fox jumps over the lazy dog\n"
          ],
          "name": "stdout"
        }
      ]
    },
    {
      "cell_type": "markdown",
      "metadata": {
        "id": "ckhSP3jLOatq",
        "colab_type": "text"
      },
      "source": [
        "## 09. Typoglycemia\n",
        "***\n",
        "スペースで区切られた単語列に対して，各単語の先頭と末尾の文字は残し，それ以外の文字の順序をランダムに並び替えるプログラムを作成せよ．ただし，長さが４以下の単語は並び替えないこととする．適当な英語の文（例えば”I couldn’t believe that I could actually understand what I was reading : the phenomenal power of the human mind .”）を与え，その実行結果を確認せよ．"
      ]
    },
    {
      "cell_type": "code",
      "metadata": {
        "id": "d2SFfgGiOeWP",
        "colab_type": "code",
        "colab": {
          "base_uri": "https://localhost:8080/",
          "height": 35
        },
        "outputId": "3a320787-689b-4a3a-8d8e-7fef9b0df542"
      },
      "source": [
        "import random\n",
        "\n",
        "def shuffle(words):\n",
        "  result = []\n",
        "  for word in words.split():\n",
        "    if len(word) > 4:  # 長さが4超であればシャッフル\n",
        "      word = word[:1] + ''.join(random.sample(word[1:-1], len(word) - 2)) + word[-1:]\n",
        "    result.append(word)\n",
        "\n",
        "  return ' '.join(result)\n",
        "\n",
        "words = \"I couldn't believe that I could actually understand what I was reading : the phenomenal power of the human mind .\"\n",
        "ans = shuffle(words)\n",
        "\n",
        "print(ans)"
      ],
      "execution_count": 19,
      "outputs": [
        {
          "output_type": "stream",
          "text": [
            "I conuld't bivelee that I cloud actlaluy utnensardd what I was radineg : the pheanomnel peowr of the hmaun mind .\n"
          ],
          "name": "stdout"
        }
      ]
    }
  ]
}