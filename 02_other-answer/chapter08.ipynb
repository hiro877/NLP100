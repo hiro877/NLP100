{
  "nbformat": 4,
  "nbformat_minor": 0,
  "metadata": {
    "colab": {
      "name": "chapter08.ipynb",
      "provenance": [],
      "collapsed_sections": [],
      "mount_file_id": "1VklDcot9SByYNpjW6DLG-CNx89VM-LRo",
      "authorship_tag": "ABX9TyPkw3rAzbUsFSxCd1E2kTPS"
    },
    "kernelspec": {
      "name": "python3",
      "display_name": "Python 3"
    },
    "accelerator": "GPU"
  },
  "cells": [
    {
      "cell_type": "markdown",
      "metadata": {
        "id": "iPTsG64n4nHa",
        "colab_type": "text"
      },
      "source": [
        "# 第8章: ニューラルネット\n",
        "第6章で取り組んだニュース記事のカテゴリ分類を題材として，ニューラルネットワークでカテゴリ分類モデルを実装する．なお，この章ではPyTorch, TensorFlow, Chainerなどの機械学習プラットフォームを活用せよ．"
      ]
    },
    {
      "cell_type": "markdown",
      "metadata": {
        "id": "h2KLRpGU4tVm",
        "colab_type": "text"
      },
      "source": [
        "## 70. 単語ベクトルの和による特徴量\n",
        "***\n",
        "問題50で構築した学習データ，検証データ，評価データを行列・ベクトルに変換したい．例えば，学習データについて，すべての事例$x_i$の特徴ベクトル$\\boldsymbol{x}_i$を並べた行列$X$と正解ラベルを並べた行列（ベクトル）$Y$を作成したい．\n",
        "\n",
        "$$\n",
        "X = \\begin{pmatrix} \n",
        "  \\boldsymbol{x}_1 \\\\ \n",
        "  \\boldsymbol{x}_2 \\\\ \n",
        "  \\dots \\\\ \n",
        "  \\boldsymbol{x}_n \\\\ \n",
        "\\end{pmatrix} \\in \\mathbb{R}^{n \\times d},\n",
        "Y = \\begin{pmatrix} \n",
        "  y_1 \\\\ \n",
        "  y_2 \\\\ \n",
        "  \\dots \\\\ \n",
        "  y_n \\\\ \n",
        "\\end{pmatrix} \\in \\mathbb{N}^{n}\n",
        "$$\n",
        "\n",
        "ここで，$n$は学習データの事例数であり，$\\boldsymbol x_i \\in \\mathbb{R}^d$と$y_i \\in \\mathbb N$はそれぞれ，$i \\in \\{1, \\dots, n\\}$番目の事例の特徴量ベクトルと正解ラベルを表す．\n",
        "なお，今回は「ビジネス」「科学技術」「エンターテイメント」「健康」の4カテゴリ分類である．$\\mathbb N_{<4}$で$4$未満の自然数（$0$を含む）を表すことにすれば，任意の事例の正解ラベル$y_i$は$y_i \\in \\mathbb N_{<4}$で表現できる．\n",
        "以降では，ラベルの種類数を$L$で表す（今回の分類タスクでは$L=4$である）．\n",
        "\n",
        "$i$番目の事例の特徴ベクトル$\\boldsymbol x_i$は，次式で求める．\n",
        "\n",
        "$$\\boldsymbol x_i = \\frac{1}{T_i} \\sum_{t=1}^{T_i} \\mathrm{emb}(w_{i,t})$$\n",
        "\n",
        "ここで，$i$番目の事例は$T_i$個の（記事見出しの）単語列$(w_{i,1}, w_{i,2}, \\dots, w_{i,T_i})$から構成され，$\\mathrm{emb}(w) \\in \\mathbb{R}^d$は単語$w$に対応する単語ベクトル（次元数は$d$）である．すなわち，$i$番目の事例の記事見出しを，その見出しに含まれる単語のベクトルの平均で表現したものが$\\boldsymbol x_i$である．今回は単語ベクトルとして，問題60でダウンロードしたものを用いればよい．$300$次元の単語ベクトルを用いたので，$d=300$である．\n",
        "$i$番目の事例のラベル$y_i$は，次のように定義する．\n",
        "\n",
        "$$\n",
        "y_i = \\begin{cases}\n",
        "0 & (\\mbox{記事}\\boldsymbol x_i\\mbox{が「ビジネス」カテゴリの場合}) \\\\\n",
        "1 & (\\mbox{記事}\\boldsymbol x_i\\mbox{が「科学技術」カテゴリの場合}) \\\\\n",
        "2 & (\\mbox{記事}\\boldsymbol x_i\\mbox{が「エンターテイメント」カテゴリの場合}) \\\\\n",
        "3 & (\\mbox{記事}\\boldsymbol x_i\\mbox{が「健康」カテゴリの場合}) \\\\\n",
        "\\end{cases}\n",
        "$$\n",
        "\n",
        "なお，カテゴリ名とラベルの番号が一対一で対応付いていれば，上式の通りの対応付けでなくてもよい．\n",
        "\n",
        "以上の仕様に基づき，以下の行列・ベクトルを作成し，ファイルに保存せよ．\n",
        "\n",
        "+ 学習データの特徴量行列: $X_{\\rm train} \\in \\mathbb{R}^{N_t \\times d}$\n",
        "+ 学習データのラベルベクトル: $Y_{\\rm train} \\in \\mathbb{N}^{N_t}$\n",
        "+ 検証データの特徴量行列: $X_{\\rm valid} \\in \\mathbb{R}^{N_v \\times d}$\n",
        "+ 検証データのラベルベクトル: $Y_{\\rm valid} \\in \\mathbb{N}^{N_v}$\n",
        "+ 評価データの特徴量行列: $X_{\\rm test} \\in \\mathbb{R}^{N_e \\times d}$\n",
        "+ 評価データのラベルベクトル: $Y_{\\rm test} \\in \\mathbb{N}^{N_e}$\n",
        "\n",
        "なお，$N_t, N_v, N_e$はそれぞれ，学習データの事例数，検証データの事例数，評価データの事例数である．\n"
      ]
    },
    {
      "cell_type": "code",
      "metadata": {
        "id": "SmTlGw_1BrPD",
        "colab_type": "code",
        "colab": {}
      },
      "source": [
        "!wget https://archive.ics.uci.edu/ml/machine-learning-databases/00359/NewsAggregatorDataset.zip\n",
        "!unzip NewsAggregatorDataset.zip"
      ],
      "execution_count": null,
      "outputs": []
    },
    {
      "cell_type": "code",
      "metadata": {
        "id": "dB6K4TyCAQCJ",
        "colab_type": "code",
        "colab": {
          "base_uri": "https://localhost:8080/",
          "height": 35
        },
        "outputId": "58f5c4a4-0e0a-4e95-98ed-9800e8293fdc"
      },
      "source": [
        "!wc -l ./newsCorpora.csv"
      ],
      "execution_count": 2,
      "outputs": [
        {
          "output_type": "stream",
          "text": [
            "422937 ./newsCorpora.csv\n"
          ],
          "name": "stdout"
        }
      ]
    },
    {
      "cell_type": "code",
      "metadata": {
        "id": "SUeo7V4jARyw",
        "colab_type": "code",
        "colab": {
          "base_uri": "https://localhost:8080/",
          "height": 217
        },
        "outputId": "bb7a82cc-d6f5-4bc4-db73-6f9adabf20e4"
      },
      "source": [
        "!head -10 ./newsCorpora.csv"
      ],
      "execution_count": 3,
      "outputs": [
        {
          "output_type": "stream",
          "text": [
            "1\tFed official says weak data caused by weather, should not slow taper\thttp://www.latimes.com/business/money/la-fi-mo-federal-reserve-plosser-stimulus-economy-20140310,0,1312750.story\\?track=rss\tLos Angeles Times\tb\tddUyU0VZz0BRneMioxUPQVP6sIxvM\twww.latimes.com\t1394470370698\n",
            "2\tFed's Charles Plosser sees high bar for change in pace of tapering\thttp://www.livemint.com/Politics/H2EvwJSK2VE6OF7iK1g3PP/Feds-Charles-Plosser-sees-high-bar-for-change-in-pace-of-ta.html\tLivemint\tb\tddUyU0VZz0BRneMioxUPQVP6sIxvM\twww.livemint.com\t1394470371207\n",
            "3\tUS open: Stocks fall after Fed official hints at accelerated tapering\thttp://www.ifamagazine.com/news/us-open-stocks-fall-after-fed-official-hints-at-accelerated-tapering-294436\tIFA Magazine\tb\tddUyU0VZz0BRneMioxUPQVP6sIxvM\twww.ifamagazine.com\t1394470371550\n",
            "4\tFed risks falling 'behind the curve', Charles Plosser says\thttp://www.ifamagazine.com/news/fed-risks-falling-behind-the-curve-charles-plosser-says-294430\tIFA Magazine\tb\tddUyU0VZz0BRneMioxUPQVP6sIxvM\twww.ifamagazine.com\t1394470371793\n",
            "5\tFed's Plosser: Nasty Weather Has Curbed Job Growth\thttp://www.moneynews.com/Economy/federal-reserve-charles-plosser-weather-job-growth/2014/03/10/id/557011\tMoneynews\tb\tddUyU0VZz0BRneMioxUPQVP6sIxvM\twww.moneynews.com\t1394470372027\n",
            "6\tPlosser: Fed May Have to Accelerate Tapering Pace\thttp://www.nasdaq.com/article/plosser-fed-may-have-to-accelerate-tapering-pace-20140310-00371\tNASDAQ\tb\tddUyU0VZz0BRneMioxUPQVP6sIxvM\twww.nasdaq.com\t1394470372212\n",
            "7\tFed's Plosser: Taper pace may be too slow\thttp://www.marketwatch.com/story/feds-plosser-taper-pace-may-be-too-slow-2014-03-10\\?reflink=MW_news_stmp\tMarketWatch\tb\tddUyU0VZz0BRneMioxUPQVP6sIxvM\twww.marketwatch.com\t1394470372405\n",
            "8\tFed's Plosser expects US unemployment to fall to 6.2% by the end of 2014\thttp://www.fxstreet.com/news/forex-news/article.aspx\\?storyid=23285020-b1b5-47ed-a8c4-96124bb91a39\tFXstreet.com\tb\tddUyU0VZz0BRneMioxUPQVP6sIxvM\twww.fxstreet.com\t1394470372615\n",
            "9\tUS jobs growth last month hit by weather:Fed President Charles Plosser\thttp://economictimes.indiatimes.com/news/international/business/us-jobs-growth-last-month-hit-by-weatherfed-president-charles-plosser/articleshow/31788000.cms\tEconomic Times\tb\tddUyU0VZz0BRneMioxUPQVP6sIxvM\teconomictimes.indiatimes.com\t1394470372792\n",
            "10\tECB unlikely to end sterilisation of SMP purchases - traders\thttp://www.iii.co.uk/news-opinion/reuters/news/152615\tInteractive Investor\tb\tdPhGU51DcrolUIMxbRm0InaHGA2XM\twww.iii.co.uk\t1394470501265\n"
          ],
          "name": "stdout"
        }
      ]
    },
    {
      "cell_type": "code",
      "metadata": {
        "id": "dpukqu3JANOn",
        "colab_type": "code",
        "colab": {}
      },
      "source": [
        "# 読込時のエラー回避のためダブルクォーテーションをシングルクォーテーションに置換\n",
        "!sed -e 's/\"/'\\''/g' ./newsCorpora.csv > ./newsCorpora_re.csv"
      ],
      "execution_count": 4,
      "outputs": []
    },
    {
      "cell_type": "code",
      "metadata": {
        "id": "9ywtU3BPATTC",
        "colab_type": "code",
        "colab": {
          "base_uri": "https://localhost:8080/",
          "height": 341
        },
        "outputId": "0c0341bb-4308-4c06-c64c-698c3f8557e1"
      },
      "source": [
        "import pandas as pd\n",
        "from sklearn.model_selection import train_test_split\n",
        "\n",
        "# データの読込\n",
        "df = pd.read_csv('./newsCorpora_re.csv', header=None, sep='\\t', names=['ID', 'TITLE', 'URL', 'PUBLISHER', 'CATEGORY', 'STORY', 'HOSTNAME', 'TIMESTAMP'])\n",
        "\n",
        "# データの抽出\n",
        "df = df.loc[df['PUBLISHER'].isin(['Reuters', 'Huffington Post', 'Businessweek', 'Contactmusic.com', 'Daily Mail']), ['TITLE', 'CATEGORY']]\n",
        "\n",
        "# データの分割\n",
        "train, valid_test = train_test_split(df, test_size=0.2, shuffle=True, random_state=123, stratify=df['CATEGORY'])\n",
        "valid, test = train_test_split(valid_test, test_size=0.5, shuffle=True, random_state=123, stratify=valid_test['CATEGORY'])\n",
        "\n",
        "# 事例数の確認\n",
        "print('【学習データ】')\n",
        "print(train['CATEGORY'].value_counts())\n",
        "print('【検証データ】')\n",
        "print(valid['CATEGORY'].value_counts())\n",
        "print('【評価データ】')\n",
        "print(test['CATEGORY'].value_counts())"
      ],
      "execution_count": 5,
      "outputs": [
        {
          "output_type": "stream",
          "text": [
            "【学習データ】\n",
            "b    4501\n",
            "e    4235\n",
            "t    1220\n",
            "m     728\n",
            "Name: CATEGORY, dtype: int64\n",
            "【検証データ】\n",
            "b    563\n",
            "e    529\n",
            "t    153\n",
            "m     91\n",
            "Name: CATEGORY, dtype: int64\n",
            "【評価データ】\n",
            "b    563\n",
            "e    530\n",
            "t    152\n",
            "m     91\n",
            "Name: CATEGORY, dtype: int64\n"
          ],
          "name": "stdout"
        }
      ]
    },
    {
      "cell_type": "code",
      "metadata": {
        "id": "edMv6gonEMOz",
        "colab_type": "code",
        "colab": {}
      },
      "source": [
        "train.to_csv('drive/My Drive/nlp100/data/train.tsv', index=False, sep='\\t', header=False)\n",
        "valid.to_csv('drive/My Drive/nlp100/data/valid.tsv', index=False, sep='\\t', header=False)\n",
        "test.to_csv('drive/My Drive/nlp100/data/test.tsv', index=False, sep='\\t', header=False)"
      ],
      "execution_count": 6,
      "outputs": []
    },
    {
      "cell_type": "code",
      "metadata": {
        "id": "vO0UOr25AeUP",
        "colab_type": "code",
        "colab": {}
      },
      "source": [
        "import gdown\n",
        "from gensim.models import KeyedVectors\n",
        "\n",
        "# 学習済み単語ベクトルのダウンロード\n",
        "url = \"https://drive.google.com/uc?id=0B7XkCwpI5KDYNlNUTTlSS21pQmM\"\n",
        "output = 'GoogleNews-vectors-negative300.bin.gz'\n",
        "gdown.download(url, output, quiet=True)\n",
        " \n",
        "# ダウンロードファイルのロード\n",
        "model = KeyedVectors.load_word2vec_format('GoogleNews-vectors-negative300.bin.gz', binary=True)"
      ],
      "execution_count": null,
      "outputs": []
    },
    {
      "cell_type": "code",
      "metadata": {
        "id": "NQZGRL-0Xy-M",
        "colab_type": "code",
        "colab": {}
      },
      "source": [
        "import string\n",
        "import torch\n",
        "\n",
        "def transform_w2v(text):\n",
        "  table = str.maketrans(string.punctuation, ' '*len(string.punctuation))\n",
        "  words = text.translate(table).split()  # 記号をスペースに置換後、スペースで分割してリスト化\n",
        "  vec = [model[word] for word in words if word in model]  # 1語ずつベクトル化\n",
        "\n",
        "  return torch.tensor(sum(vec) / len(vec))  # 平均ベクトルをTensor型に変換して出力"
      ],
      "execution_count": 10,
      "outputs": []
    },
    {
      "cell_type": "code",
      "metadata": {
        "id": "HT9kkVBaEL-q",
        "colab_type": "code",
        "colab": {
          "base_uri": "https://localhost:8080/",
          "height": 161
        },
        "outputId": "a67f9890-d4f7-4cd7-a223-da53cd74e5ac"
      },
      "source": [
        "# 特徴ベクトルの作成\n",
        "X_train = torch.stack([transform_w2v(text) for text in train['TITLE']])\n",
        "X_valid = torch.stack([transform_w2v(text) for text in valid['TITLE']])\n",
        "X_test = torch.stack([transform_w2v(text) for text in test['TITLE']])\n",
        "\n",
        "print(X_train.size())\n",
        "print(X_train)"
      ],
      "execution_count": 11,
      "outputs": [
        {
          "output_type": "stream",
          "text": [
            "torch.Size([10684, 300])\n",
            "tensor([[ 0.0837,  0.0056,  0.0068,  ...,  0.0751,  0.0433, -0.0868],\n",
            "        [ 0.0272,  0.0266, -0.0947,  ..., -0.1046, -0.0489, -0.0092],\n",
            "        [ 0.0577, -0.0159, -0.0780,  ..., -0.0421,  0.1229,  0.0876],\n",
            "        ...,\n",
            "        [ 0.0392, -0.0052,  0.0686,  ..., -0.0175,  0.0061, -0.0224],\n",
            "        [ 0.0798,  0.1017,  0.1066,  ..., -0.0752,  0.0623,  0.1138],\n",
            "        [ 0.1664,  0.0451,  0.0508,  ..., -0.0531, -0.0183, -0.0039]])\n"
          ],
          "name": "stdout"
        }
      ]
    },
    {
      "cell_type": "code",
      "metadata": {
        "id": "knjF3W5JEPlt",
        "colab_type": "code",
        "colab": {
          "base_uri": "https://localhost:8080/",
          "height": 53
        },
        "outputId": "f09862c3-b19a-44e8-f4ad-6d1ee4b33cc2"
      },
      "source": [
        "# ラベルベクトルの作成\n",
        "category_dict = {'b': 0, 't': 1, 'e':2, 'm':3}\n",
        "y_train = torch.LongTensor(train['CATEGORY'].map(lambda x: category_dict[x]).values)\n",
        "y_valid = torch.LongTensor(valid['CATEGORY'].map(lambda x: category_dict[x]).values)\n",
        "y_test = torch.LongTensor(test['CATEGORY'].map(lambda x: category_dict[x]).values)\n",
        "\n",
        "print(y_train.size())\n",
        "print(y_train)"
      ],
      "execution_count": 12,
      "outputs": [
        {
          "output_type": "stream",
          "text": [
            "torch.Size([10684])\n",
            "tensor([0, 1, 3,  ..., 0, 3, 2])\n"
          ],
          "name": "stdout"
        }
      ]
    },
    {
      "cell_type": "code",
      "metadata": {
        "id": "AwOvPAp-IPfd",
        "colab_type": "code",
        "colab": {}
      },
      "source": [
        "# 保存\n",
        "torch.save(X_train, 'X_train.pt')\n",
        "torch.save(X_valid, 'X_valid.pt')\n",
        "torch.save(X_test, 'X_test.pt')\n",
        "torch.save(y_train, 'y_train.pt')\n",
        "torch.save(y_valid, 'y_valid.pt')\n",
        "torch.save(y_test, 'y_test.pt')"
      ],
      "execution_count": 13,
      "outputs": []
    },
    {
      "cell_type": "markdown",
      "metadata": {
        "id": "vXDSM3xI5Rf7",
        "colab_type": "text"
      },
      "source": [
        "## 71. 単層ニューラルネットワークによる予測\n",
        "***\n",
        "問題70で保存した行列を読み込み，学習データについて以下の計算を実行せよ．\n",
        "\n",
        "$$\n",
        "\\hat{y}_1=softmax(x_1W),\\\\\\hat{Y}=softmax(X_{[1:4]}W)\n",
        "$$\n",
        "\n",
        "ただし，$softmax$はソフトマックス関数，$X_{[1:4]}∈\\mathbb{R}^{4×d}$は特徴ベクトル$x_1$,$x_2$,$x_3$,$x_4$を縦に並べた行列である．\n",
        "\n",
        "$$\n",
        "X_{[1:4]}=\\begin{pmatrix}x_1\\\\x_2\\\\x_3\\\\x_4\\end{pmatrix}\n",
        "$$\n",
        "\n",
        "行列$W \\in \\mathbb{R}^{d \\times L}$は単層ニューラルネットワークの重み行列で，ここではランダムな値で初期化すればよい（問題73以降で学習して求める）．なお，$\\hat{\\boldsymbol y_1} \\in \\mathbb{R}^L$は未学習の行列$W$で事例$x_1$を分類したときに，各カテゴリに属する確率を表すベクトルである．\n",
        "同様に，$\\hat{Y} \\in \\mathbb{R}^{n \\times L}$は，学習データの事例$x_1, x_2, x_3, x_4$について，各カテゴリに属する確率を行列として表現している．\n",
        "\n"
      ]
    },
    {
      "cell_type": "code",
      "metadata": {
        "id": "lsXmUzagMkGH",
        "colab_type": "code",
        "colab": {}
      },
      "source": [
        "from torch import nn\n",
        "torch.manual_seed(0)\n",
        "\n",
        "class SLPNet(nn.Module):\n",
        "  def __init__(self, input_size, output_size):\n",
        "    super().__init__()\n",
        "    self.fc = nn.Linear(input_size, output_size, bias=False)  # Linear(入力次元数, 出力次元数)\n",
        "    nn.init.normal_(self.fc.weight, 0.0, 1.0)  # 正規乱数で重みを初期化\n",
        "\n",
        "  def forward(self, x):\n",
        "    x = self.fc(x)\n",
        "    return x"
      ],
      "execution_count": 14,
      "outputs": []
    },
    {
      "cell_type": "code",
      "metadata": {
        "id": "W3oMZllHP_tL",
        "colab_type": "code",
        "colab": {
          "base_uri": "https://localhost:8080/",
          "height": 35
        },
        "outputId": "7fd0e3b9-bb82-429e-e7d7-84af25ebb3b9"
      },
      "source": [
        "model = SLPNet(300, 4)\n",
        "y_hat_1 = torch.softmax(model.forward(X_train[:1]), dim=-1)\n",
        "print(y_hat_1)"
      ],
      "execution_count": 15,
      "outputs": [
        {
          "output_type": "stream",
          "text": [
            "tensor([[0.4273, 0.0958, 0.2492, 0.2277]], grad_fn=<SoftmaxBackward>)\n"
          ],
          "name": "stdout"
        }
      ]
    },
    {
      "cell_type": "code",
      "metadata": {
        "id": "04obRw26eYqV",
        "colab_type": "code",
        "colab": {
          "base_uri": "https://localhost:8080/",
          "height": 89
        },
        "outputId": "84dac0a5-1776-4289-90fb-804a290eeb8e"
      },
      "source": [
        "Y_hat = torch.softmax(model.forward(X_train[:4]), dim=-1)\n",
        "print(Y_hat)"
      ],
      "execution_count": 16,
      "outputs": [
        {
          "output_type": "stream",
          "text": [
            "tensor([[0.4273, 0.0958, 0.2492, 0.2277],\n",
            "        [0.2445, 0.2431, 0.0197, 0.4927],\n",
            "        [0.7853, 0.1132, 0.0291, 0.0724],\n",
            "        [0.5279, 0.2319, 0.0873, 0.1529]], grad_fn=<SoftmaxBackward>)\n"
          ],
          "name": "stdout"
        }
      ]
    },
    {
      "cell_type": "markdown",
      "metadata": {
        "id": "7Ph2yFA45fKk",
        "colab_type": "text"
      },
      "source": [
        "## 72. 損失と勾配の計算\n",
        "***\n",
        "学習データの事例$x_1$と事例集合$x_1$,$x_2$,$x_3$,$x_4$に対して，クロスエントロピー損失と，行列$W$に対する勾配を計算せよ．なお，ある事例$x_i$に対して損失は次式で計算される．\n",
        "\n",
        "$$l_i=−log[事例x_iがy_iに分類される確率]$$\n",
        "\n",
        "ただし，事例集合に対するクロスエントロピー損失は，その集合に含まれる各事例の損失の平均とする．"
      ]
    },
    {
      "cell_type": "code",
      "metadata": {
        "id": "hvPpkbMufffU",
        "colab_type": "code",
        "colab": {}
      },
      "source": [
        "criterion = nn.CrossEntropyLoss()"
      ],
      "execution_count": 17,
      "outputs": []
    },
    {
      "cell_type": "code",
      "metadata": {
        "id": "oW1r1hU65noO",
        "colab_type": "code",
        "colab": {
          "base_uri": "https://localhost:8080/",
          "height": 125
        },
        "outputId": "ad5adc01-6122-4ac3-d44d-f625861be047"
      },
      "source": [
        "l_1 = criterion(model.forward(X_train[:1]), y_train[:1])  # 入力ベクトルはsoftmax前の値\n",
        "model.zero_grad()  # 勾配をゼロで初期化\n",
        "l_1.backward()  # 勾配を計算\n",
        "print(f'損失: {l_1:.4f}')\n",
        "print(f'勾配:\\n{model.fc.weight.grad}')"
      ],
      "execution_count": 18,
      "outputs": [
        {
          "output_type": "stream",
          "text": [
            "損失: 0.8503\n",
            "勾配:\n",
            "tensor([[-0.0479, -0.0032, -0.0039,  ..., -0.0430, -0.0248,  0.0497],\n",
            "        [ 0.0080,  0.0005,  0.0007,  ...,  0.0072,  0.0041, -0.0083],\n",
            "        [ 0.0208,  0.0014,  0.0017,  ...,  0.0187,  0.0108, -0.0216],\n",
            "        [ 0.0190,  0.0013,  0.0016,  ...,  0.0171,  0.0099, -0.0198]])\n"
          ],
          "name": "stdout"
        }
      ]
    },
    {
      "cell_type": "code",
      "metadata": {
        "id": "L7f9IQKLgbH6",
        "colab_type": "code",
        "colab": {
          "base_uri": "https://localhost:8080/",
          "height": 125
        },
        "outputId": "c2c63087-e5ce-47dd-e64d-1b3a794de9f6"
      },
      "source": [
        "l = criterion(model.forward(X_train[:4]), y_train[:4])\n",
        "model.zero_grad()\n",
        "l.backward()\n",
        "print(f'損失: {l:.4f}')\n",
        "print(f'勾配:\\n{model.fc.weight.grad}')"
      ],
      "execution_count": 19,
      "outputs": [
        {
          "output_type": "stream",
          "text": [
            "損失: 1.8321\n",
            "勾配:\n",
            "tensor([[-0.0063,  0.0042, -0.0139,  ..., -0.0272,  0.0201,  0.0263],\n",
            "        [-0.0047, -0.0025,  0.0195,  ...,  0.0196,  0.0160,  0.0009],\n",
            "        [ 0.0184, -0.0110, -0.0148,  ...,  0.0070, -0.0055, -0.0001],\n",
            "        [-0.0074,  0.0092,  0.0092,  ...,  0.0006, -0.0306, -0.0272]])\n"
          ],
          "name": "stdout"
        }
      ]
    },
    {
      "cell_type": "markdown",
      "metadata": {
        "id": "82tY9cQC5wsy",
        "colab_type": "text"
      },
      "source": [
        "## 73. 確率的勾配降下法による学習\n",
        "***\n",
        "確率的勾配降下法（SGD: Stochastic Gradient Descent）を用いて，行列$W$を学習せよ．なお，学習は適当な基準で終了させればよい（例えば「100エポックで終了」など）．"
      ]
    },
    {
      "cell_type": "code",
      "metadata": {
        "id": "thm2knQo5WhQ",
        "colab_type": "code",
        "colab": {}
      },
      "source": [
        "from torch.utils.data import Dataset\n",
        "\n",
        "class CreateDataset(Dataset):\n",
        "  def __init__(self, X, y):  # datasetの構成要素を指定\n",
        "    self.X = X\n",
        "    self.y = y\n",
        "\n",
        "  def __len__(self):  # len(dataset)で返す値を指定\n",
        "    return len(self.y)\n",
        "\n",
        "  def __getitem__(self, idx):  # dataset[idx]で返す値を指定\n",
        "    if isinstance(idx, torch.Tensor):\n",
        "      idx = idx.tolist()\n",
        "    return [self.X[idx], self.y[idx]]"
      ],
      "execution_count": 20,
      "outputs": []
    },
    {
      "cell_type": "code",
      "metadata": {
        "id": "-TlxGSU47AwY",
        "colab_type": "code",
        "colab": {
          "base_uri": "https://localhost:8080/",
          "height": 1000
        },
        "outputId": "1523724e-7a7e-431b-9fa4-e0cfdb15ac0d"
      },
      "source": [
        "from torch.utils.data import DataLoader\n",
        "\n",
        "dataset_train = CreateDataset(X_train, y_train)\n",
        "dataset_valid = CreateDataset(X_valid, y_valid)\n",
        "dataset_test = CreateDataset(X_test, y_test)\n",
        "dataloader_train = DataLoader(dataset_train, batch_size=1, shuffle=True)\n",
        "dataloader_valid = DataLoader(dataset_valid, batch_size=len(dataset_valid), shuffle=False)\n",
        "dataloader_test = DataLoader(dataset_test, batch_size=len(dataset_test), shuffle=False)\n",
        "\n",
        "print(len(dataset_train))\n",
        "print(next(iter(dataloader_train)))"
      ],
      "execution_count": 21,
      "outputs": [
        {
          "output_type": "stream",
          "text": [
            "10684\n",
            "[tensor([[-2.2791e-02, -1.6650e-02,  1.2573e-02,  1.1694e-02, -2.0509e-02,\n",
            "         -4.1607e-02, -1.1132e-01, -4.7964e-02,  7.6147e-02,  9.4415e-02,\n",
            "         -3.7549e-02,  7.2437e-02, -3.8168e-02,  7.9443e-02, -6.0207e-02,\n",
            "         -5.1074e-02, -1.8954e-02,  7.6978e-02,  8.1055e-02, -8.3789e-02,\n",
            "         -1.3208e-02,  2.0891e-01,  9.6887e-02, -2.3356e-02, -7.3456e-02,\n",
            "          5.9668e-02, -4.8009e-02,  8.0090e-02,  2.8123e-02, -1.6791e-02,\n",
            "          2.0227e-02, -9.6387e-02,  1.6510e-02, -1.6281e-02, -4.0601e-02,\n",
            "         -8.2489e-02,  9.8975e-02,  1.4099e-03,  1.4362e-02,  3.9368e-02,\n",
            "          7.6392e-02, -1.3135e-01,  1.3572e-01, -1.4496e-03, -8.1097e-02,\n",
            "         -6.5753e-02, -9.6622e-02,  2.0679e-02,  4.8145e-02,  5.0012e-02,\n",
            "          7.2842e-02,  4.8761e-02,  4.9164e-02,  1.1853e-01,  2.7307e-02,\n",
            "         -6.8723e-02,  4.0675e-02, -2.6984e-02, -1.6510e-02, -1.6882e-01,\n",
            "          5.8417e-02, -2.1912e-02, -4.8096e-02, -9.4360e-02, -6.9186e-02,\n",
            "         -1.2361e-02, -7.6489e-02,  5.1843e-02,  1.5080e-01,  5.7861e-03,\n",
            "         -6.3660e-02, -9.0894e-02,  1.1075e-01,  3.5229e-02, -1.0220e-01,\n",
            "         -2.4133e-02,  1.8951e-02,  1.0651e-01,  1.5167e-02,  8.7891e-03,\n",
            "         -5.8649e-02, -4.8902e-02, -1.7447e-02, -5.0873e-03,  2.0083e-02,\n",
            "         -3.3643e-02, -1.1077e-01,  9.6948e-02, -4.5068e-02, -4.8102e-02,\n",
            "          1.9116e-02, -1.7224e-02, -1.0402e-01, -4.5465e-02, -3.8379e-02,\n",
            "         -1.8384e-02,  6.0464e-02, -1.7932e-02,  8.9215e-02, -6.3168e-02,\n",
            "          1.6414e-02, -4.4244e-02,  6.6852e-02,  8.0658e-03, -7.7148e-02,\n",
            "         -1.0146e-01, -1.1623e-01,  1.1017e-02, -2.3859e-02, -5.6921e-02,\n",
            "         -8.0200e-03,  3.2812e-02, -2.6733e-02, -6.9550e-03,  8.5193e-02,\n",
            "         -1.1182e-02, -1.3623e-02, -4.4067e-02,  1.0166e-01,  9.5972e-02,\n",
            "          1.8344e-02,  5.8070e-02,  4.4479e-04,  5.7736e-02,  8.2104e-02,\n",
            "         -4.7461e-02,  1.7114e-02, -2.7600e-02, -8.2092e-03,  6.6895e-02,\n",
            "          3.8300e-02, -1.7280e-01,  1.5320e-02, -9.0527e-02, -5.0513e-02,\n",
            "         -9.0625e-02, -3.4372e-02,  4.9023e-02, -1.0402e-01,  5.3085e-02,\n",
            "          1.6299e-01, -2.0200e-01,  6.9128e-02, -3.4766e-02, -1.2520e-01,\n",
            "          4.7406e-02,  3.7939e-02, -2.7258e-02,  4.7699e-03, -4.1489e-02,\n",
            "          1.5836e-01, -3.4470e-02,  7.9187e-02,  7.0186e-02, -9.9365e-03,\n",
            "          5.1636e-03, -7.1176e-02, -6.1713e-02, -1.4331e-02, -7.9578e-02,\n",
            "          2.8979e-02,  4.8320e-02,  6.1710e-02,  6.6895e-03,  3.5571e-02,\n",
            "         -2.9993e-02,  1.0642e-01,  7.7972e-03,  3.1024e-02, -3.0566e-02,\n",
            "         -1.3335e-01,  4.5648e-02,  2.7258e-02, -1.3228e-01, -3.9993e-03,\n",
            "         -4.0796e-02, -1.0620e-02,  2.3071e-02,  1.1028e-01, -7.1956e-02,\n",
            "         -1.2183e-01, -1.0478e-01, -5.9741e-02, -1.5576e-02, -5.0122e-02,\n",
            "         -1.0491e-01,  6.6578e-02,  8.7109e-02,  7.7832e-02,  7.1664e-02,\n",
            "         -1.4240e-02,  1.6156e-02,  9.9219e-02,  3.7555e-02, -1.4541e-01,\n",
            "          7.7380e-02, -7.4424e-02, -1.5622e-02, -7.6538e-02, -1.1675e-01,\n",
            "         -7.0117e-02, -2.4982e-02, -2.1033e-02, -1.0903e-01, -7.1951e-02,\n",
            "         -7.8564e-02, -3.1067e-02, -1.0606e-02,  9.1476e-02, -1.1772e-01,\n",
            "         -7.9239e-02,  1.0401e-01, -5.2237e-02,  5.0278e-02, -9.8535e-02,\n",
            "          1.4659e-02,  5.7626e-02, -3.9384e-02, -2.1252e-01,  4.3774e-02,\n",
            "          3.9404e-02,  9.2145e-02, -9.3225e-02, -4.1455e-02, -1.4404e-02,\n",
            "          5.6091e-03,  8.7646e-03, -3.4631e-02, -1.5869e-03,  3.8266e-02,\n",
            "         -7.5806e-03,  2.2644e-02,  9.0625e-02, -8.6884e-03, -2.5506e-02,\n",
            "          1.8097e-03,  1.1675e-01, -5.1315e-02,  4.1077e-02, -5.5695e-03,\n",
            "          2.9001e-02,  3.6060e-02, -8.0099e-02, -8.0518e-02, -9.3018e-03,\n",
            "         -3.3798e-02,  1.8066e-02,  9.7656e-03,  5.8420e-02, -1.0171e-01,\n",
            "         -5.9680e-02,  7.2296e-02, -4.7632e-02,  4.5984e-02, -6.7035e-02,\n",
            "         -5.9448e-02,  6.5326e-02,  9.1699e-02,  3.5828e-02, -3.7921e-02,\n",
            "         -1.2726e-03,  4.9103e-02,  2.4626e-02,  8.0011e-02, -1.2207e-05,\n",
            "          1.6797e-01, -6.0141e-02, -1.0533e-01,  1.0718e-02,  4.2593e-02,\n",
            "         -3.4094e-02,  8.3630e-02,  3.6023e-02, -4.1527e-02,  4.7495e-02,\n",
            "          2.9892e-03, -9.2068e-03,  2.6147e-02, -3.7276e-02,  8.0615e-02,\n",
            "         -8.7317e-02, -1.7491e-02,  2.1057e-02,  1.0767e-01,  4.3916e-02,\n",
            "         -3.1616e-03, -1.0800e-01,  2.4817e-02,  1.6101e-02,  5.0292e-02,\n",
            "         -8.6255e-02, -5.5252e-03, -4.6820e-02,  5.6238e-02,  8.2507e-02,\n",
            "          5.3406e-03,  8.2825e-03,  2.1946e-02,  2.3987e-03, -4.1766e-02]]), tensor([0])]\n"
          ],
          "name": "stdout"
        }
      ]
    },
    {
      "cell_type": "code",
      "metadata": {
        "id": "Ef6BcfQT-8jd",
        "colab_type": "code",
        "colab": {
          "base_uri": "https://localhost:8080/",
          "height": 197
        },
        "outputId": "de2532aa-89ae-499b-9caf-9a79d6cd90ee"
      },
      "source": [
        "# モデルの定義\n",
        "model = SLPNet(300, 4)\n",
        "\n",
        "# 損失関数の定義\n",
        "criterion = nn.CrossEntropyLoss()\n",
        "\n",
        "# オプティマイザの定義\n",
        "optimizer = torch.optim.SGD(model.parameters(), lr=1e-1)\n",
        "\n",
        "# 学習\n",
        "num_epochs = 10\n",
        "for epoch in range(num_epochs):\n",
        "  # 訓練モードに設定\n",
        "  model.train()\n",
        "  loss_train = 0.0\n",
        "  for i, (inputs, labels) in enumerate(dataloader_train):\n",
        "    # 勾配をゼロで初期化\n",
        "    optimizer.zero_grad()\n",
        "\n",
        "    # 順伝播 + 誤差逆伝播 + 重み更新\n",
        "    outputs = model.forward(inputs)\n",
        "    loss = criterion(outputs, labels)\n",
        "    loss.backward()\n",
        "    optimizer.step()\n",
        "\n",
        "    # 損失を記録\n",
        "    loss_train += loss.item()\n",
        " \n",
        "  # バッチ単位の平均損失計算\n",
        "  loss_train = loss_train / i\n",
        "\n",
        "  # 検証データの損失計算\n",
        "  model.eval() \n",
        "  with torch.no_grad():\n",
        "    inputs, labels = next(iter(dataloader_valid))\n",
        "    outputs = model.forward(inputs)\n",
        "    loss_valid = criterion(outputs, labels)\n",
        "\n",
        "  # ログを出力\n",
        "  print(f'epoch: {epoch + 1}, loss_train: {loss_train:.4f}, loss_valid: {loss_valid:.4f}')  "
      ],
      "execution_count": 22,
      "outputs": [
        {
          "output_type": "stream",
          "text": [
            "epoch: 1, loss_train: 0.4686, loss_valid: 0.3738\n",
            "epoch: 2, loss_train: 0.3159, loss_valid: 0.3349\n",
            "epoch: 3, loss_train: 0.2846, loss_valid: 0.3248\n",
            "epoch: 4, loss_train: 0.2689, loss_valid: 0.3194\n",
            "epoch: 5, loss_train: 0.2580, loss_valid: 0.3094\n",
            "epoch: 6, loss_train: 0.2503, loss_valid: 0.3089\n",
            "epoch: 7, loss_train: 0.2437, loss_valid: 0.3068\n",
            "epoch: 8, loss_train: 0.2401, loss_valid: 0.3083\n",
            "epoch: 9, loss_train: 0.2358, loss_valid: 0.3077\n",
            "epoch: 10, loss_train: 0.2338, loss_valid: 0.3052\n"
          ],
          "name": "stdout"
        }
      ]
    },
    {
      "cell_type": "markdown",
      "metadata": {
        "id": "mI8cqXg450yu",
        "colab_type": "text"
      },
      "source": [
        "## 74. 正解率の計測\n",
        "***\n",
        "問題73で求めた行列を用いて学習データおよび評価データの事例を分類したとき，その正解率をそれぞれ求めよ．"
      ]
    },
    {
      "cell_type": "code",
      "metadata": {
        "id": "FYRYNeB5-6ei",
        "colab_type": "code",
        "colab": {}
      },
      "source": [
        "def calculate_accuracy(model, X, y):\n",
        "  model.eval()\n",
        "  with torch.no_grad():\n",
        "    outputs = model(X)\n",
        "    pred = torch.argmax(outputs, dim=-1)\n",
        "\n",
        "  return (pred == y).sum().item() / len(y)"
      ],
      "execution_count": 23,
      "outputs": []
    },
    {
      "cell_type": "code",
      "metadata": {
        "id": "5pANKBTEKisM",
        "colab_type": "code",
        "colab": {
          "base_uri": "https://localhost:8080/",
          "height": 53
        },
        "outputId": "c024f5f1-57f0-4788-c68d-06ef19f42641"
      },
      "source": [
        "# 正解率の確認\n",
        "acc_train = calculate_accuracy(model, X_train, y_train)\n",
        "acc_test = calculate_accuracy(model, X_test, y_test)\n",
        "print(f'正解率（学習データ）：{acc_train:.3f}')\n",
        "print(f'正解率（評価データ）：{acc_test:.3f}')"
      ],
      "execution_count": 24,
      "outputs": [
        {
          "output_type": "stream",
          "text": [
            "正解率（学習データ）：0.925\n",
            "正解率（評価データ）：0.902\n"
          ],
          "name": "stdout"
        }
      ]
    },
    {
      "cell_type": "markdown",
      "metadata": {
        "id": "5pJZg6qk56Ag",
        "colab_type": "text"
      },
      "source": [
        "## 75. 損失と正解率のプロット\n",
        "***\n",
        "問題73のコードを改変し，各エポックのパラメータ更新が完了するたびに，訓練データでの損失，正解率，検証データでの損失，正解率をグラフにプロットし，学習の進捗状況を確認できるようにせよ．"
      ]
    },
    {
      "cell_type": "code",
      "metadata": {
        "id": "sYabMIiqXwUT",
        "colab_type": "code",
        "colab": {}
      },
      "source": [
        "def calculate_loss_and_accuracy(model, criterion, loader):\n",
        "  model.eval()\n",
        "  loss = 0.0\n",
        "  total = 0\n",
        "  correct = 0\n",
        "  with torch.no_grad():\n",
        "    for inputs, labels in loader:\n",
        "      outputs = model(inputs)\n",
        "      loss += criterion(outputs, labels).item()\n",
        "      pred = torch.argmax(outputs, dim=-1)\n",
        "      total += len(inputs)\n",
        "      correct += (pred == labels).sum().item()\n",
        "      \n",
        "  return loss / len(loader), correct / total"
      ],
      "execution_count": 25,
      "outputs": []
    },
    {
      "cell_type": "code",
      "metadata": {
        "id": "o8DQzJxELzur",
        "colab_type": "code",
        "colab": {
          "base_uri": "https://localhost:8080/",
          "height": 557
        },
        "outputId": "ae5275ba-379e-4be3-f451-0656cd36eb27"
      },
      "source": [
        "# モデルの定義\n",
        "model = SLPNet(300, 4)\n",
        "\n",
        "# 損失関数の定義\n",
        "criterion = nn.CrossEntropyLoss()\n",
        "\n",
        "# オプティマイザの定義\n",
        "optimizer = torch.optim.SGD(model.parameters(), lr=1e-1)\n",
        "\n",
        "# 学習\n",
        "num_epochs = 30\n",
        "log_train = []\n",
        "log_valid = []\n",
        "for epoch in range(num_epochs):\n",
        "  # 訓練モードに設定\n",
        "  model.train()\n",
        "  for i, (inputs, labels) in enumerate(dataloader_train):\n",
        "    # 勾配をゼロで初期化\n",
        "    optimizer.zero_grad()\n",
        "\n",
        "    # 順伝播 + 誤差逆伝播 + 重み更新\n",
        "    outputs = model.forward(inputs)\n",
        "    loss = criterion(outputs, labels)\n",
        "    loss.backward()\n",
        "    optimizer.step()\n",
        " \n",
        "  # 損失と正解率の算出\n",
        "  loss_train, acc_train = calculate_loss_and_accuracy(model, criterion, dataloader_train)\n",
        "  loss_valid, acc_valid = calculate_loss_and_accuracy(model, criterion, dataloader_valid)\n",
        "  log_train.append([loss_train, acc_train])\n",
        "  log_valid.append([loss_valid, acc_valid])\n",
        "\n",
        "  # ログを出力\n",
        "  print(f'epoch: {epoch + 1}, loss_train: {loss_train:.4f}, accuracy_train: {acc_train:.4f}, loss_valid: {loss_valid:.4f}, accuracy_valid: {acc_valid:.4f}')  "
      ],
      "execution_count": 26,
      "outputs": [
        {
          "output_type": "stream",
          "text": [
            "epoch: 1, loss_train: 0.3308, accuracy_train: 0.8853, loss_valid: 0.3681, accuracy_valid: 0.8705\n",
            "epoch: 2, loss_train: 0.2887, accuracy_train: 0.8999, loss_valid: 0.3364, accuracy_valid: 0.8802\n",
            "epoch: 3, loss_train: 0.2660, accuracy_train: 0.9109, loss_valid: 0.3182, accuracy_valid: 0.8907\n",
            "epoch: 4, loss_train: 0.2582, accuracy_train: 0.9138, loss_valid: 0.3143, accuracy_valid: 0.8855\n",
            "epoch: 5, loss_train: 0.2447, accuracy_train: 0.9181, loss_valid: 0.3056, accuracy_valid: 0.8952\n",
            "epoch: 6, loss_train: 0.2390, accuracy_train: 0.9190, loss_valid: 0.3047, accuracy_valid: 0.8967\n",
            "epoch: 7, loss_train: 0.2362, accuracy_train: 0.9205, loss_valid: 0.3079, accuracy_valid: 0.8937\n",
            "epoch: 8, loss_train: 0.2350, accuracy_train: 0.9186, loss_valid: 0.3126, accuracy_valid: 0.8922\n",
            "epoch: 9, loss_train: 0.2276, accuracy_train: 0.9234, loss_valid: 0.3049, accuracy_valid: 0.8952\n",
            "epoch: 10, loss_train: 0.2272, accuracy_train: 0.9218, loss_valid: 0.3094, accuracy_valid: 0.8967\n",
            "epoch: 11, loss_train: 0.2246, accuracy_train: 0.9240, loss_valid: 0.3080, accuracy_valid: 0.8922\n",
            "epoch: 12, loss_train: 0.2225, accuracy_train: 0.9238, loss_valid: 0.3104, accuracy_valid: 0.8967\n",
            "epoch: 13, loss_train: 0.2194, accuracy_train: 0.9248, loss_valid: 0.3090, accuracy_valid: 0.8945\n",
            "epoch: 14, loss_train: 0.2194, accuracy_train: 0.9249, loss_valid: 0.3099, accuracy_valid: 0.8930\n",
            "epoch: 15, loss_train: 0.2165, accuracy_train: 0.9275, loss_valid: 0.3092, accuracy_valid: 0.8930\n",
            "epoch: 16, loss_train: 0.2162, accuracy_train: 0.9286, loss_valid: 0.3100, accuracy_valid: 0.8922\n",
            "epoch: 17, loss_train: 0.2140, accuracy_train: 0.9255, loss_valid: 0.3124, accuracy_valid: 0.8937\n",
            "epoch: 18, loss_train: 0.2179, accuracy_train: 0.9257, loss_valid: 0.3151, accuracy_valid: 0.8907\n",
            "epoch: 19, loss_train: 0.2146, accuracy_train: 0.9258, loss_valid: 0.3161, accuracy_valid: 0.8967\n",
            "epoch: 20, loss_train: 0.2124, accuracy_train: 0.9281, loss_valid: 0.3151, accuracy_valid: 0.8960\n",
            "epoch: 21, loss_train: 0.2125, accuracy_train: 0.9277, loss_valid: 0.3180, accuracy_valid: 0.8945\n",
            "epoch: 22, loss_train: 0.2136, accuracy_train: 0.9276, loss_valid: 0.3205, accuracy_valid: 0.8892\n",
            "epoch: 23, loss_train: 0.2171, accuracy_train: 0.9262, loss_valid: 0.3259, accuracy_valid: 0.8900\n",
            "epoch: 24, loss_train: 0.2095, accuracy_train: 0.9296, loss_valid: 0.3198, accuracy_valid: 0.8915\n",
            "epoch: 25, loss_train: 0.2092, accuracy_train: 0.9296, loss_valid: 0.3195, accuracy_valid: 0.8915\n",
            "epoch: 26, loss_train: 0.2093, accuracy_train: 0.9291, loss_valid: 0.3204, accuracy_valid: 0.8892\n",
            "epoch: 27, loss_train: 0.2086, accuracy_train: 0.9297, loss_valid: 0.3226, accuracy_valid: 0.8915\n",
            "epoch: 28, loss_train: 0.2090, accuracy_train: 0.9297, loss_valid: 0.3242, accuracy_valid: 0.8922\n",
            "epoch: 29, loss_train: 0.2076, accuracy_train: 0.9300, loss_valid: 0.3228, accuracy_valid: 0.8915\n",
            "epoch: 30, loss_train: 0.2066, accuracy_train: 0.9303, loss_valid: 0.3248, accuracy_valid: 0.8915\n"
          ],
          "name": "stdout"
        }
      ]
    },
    {
      "cell_type": "code",
      "metadata": {
        "id": "QUnqNHDmL1hm",
        "colab_type": "code",
        "colab": {
          "base_uri": "https://localhost:8080/",
          "height": 334
        },
        "outputId": "9153782d-5886-4d02-bbc0-ce8d242ada58"
      },
      "source": [
        "import numpy as np\n",
        "from matplotlib import pyplot as plt\n",
        "\n",
        "# 可視化\n",
        "fig, ax = plt.subplots(1, 2, figsize=(15, 5))\n",
        "ax[0].plot(np.array(log_train).T[0], label='train')\n",
        "ax[0].plot(np.array(log_valid).T[0], label='valid')\n",
        "ax[0].set_xlabel('epoch')\n",
        "ax[0].set_ylabel('loss')\n",
        "ax[0].legend()\n",
        "ax[1].plot(np.array(log_train).T[1], label='train')\n",
        "ax[1].plot(np.array(log_valid).T[1], label='valid')\n",
        "ax[1].set_xlabel('epoch')\n",
        "ax[1].set_ylabel('accuracy')\n",
        "ax[1].legend()\n",
        "plt.show()"
      ],
      "execution_count": 28,
      "outputs": [
        {
          "output_type": "display_data",
          "data": {
            "image/png": "[encoded data removed]",
            "text/plain": [
              "<Figure size 1080x360 with 2 Axes>"
            ]
          },
          "metadata": {
            "tags": [],
            "needs_background": "light"
          }
        }
      ]
    },
    {
      "cell_type": "markdown",
      "metadata": {
        "id": "uhiVlsvV5_-x",
        "colab_type": "text"
      },
      "source": [
        "## 76. チェックポイント\n",
        "***\n",
        "問題75のコードを改変し，各エポックのパラメータ更新が完了するたびに，チェックポイント（学習途中のパラメータ（重み行列など）の値や最適化アルゴリズムの内部状態）をファイルに書き出せ．"
      ]
    },
    {
      "cell_type": "code",
      "metadata": {
        "id": "BswEwOPjbqvj",
        "colab_type": "code",
        "colab": {
          "base_uri": "https://localhost:8080/",
          "height": 197
        },
        "outputId": "0a162741-eb4f-44af-a544-377da63a9598"
      },
      "source": [
        "# モデルの定義\n",
        "model = SLPNet(300, 4)\n",
        "\n",
        "# 損失関数の定義\n",
        "criterion = nn.CrossEntropyLoss()\n",
        "\n",
        "# オプティマイザの定義\n",
        "optimizer = torch.optim.SGD(model.parameters(), lr=1e-1)\n",
        "\n",
        "# 学習\n",
        "num_epochs = 10\n",
        "log_train = []\n",
        "log_valid = []\n",
        "for epoch in range(num_epochs):\n",
        "  # 訓練モードに設定\n",
        "  model.train()\n",
        "  for inputs, labels in dataloader_train:\n",
        "    # 勾配をゼロで初期化\n",
        "    optimizer.zero_grad()\n",
        "\n",
        "    # 順伝播 + 誤差逆伝播 + 重み更新\n",
        "    outputs = model.forward(inputs)\n",
        "    loss = criterion(outputs, labels)\n",
        "    loss.backward()\n",
        "    optimizer.step()\n",
        " \n",
        "  # 損失と正解率の算出\n",
        "  loss_train, acc_train = calculate_loss_and_accuracy(model, criterion, dataloader_train)\n",
        "  loss_valid, acc_valid = calculate_loss_and_accuracy(model, criterion, dataloader_valid)\n",
        "  log_train.append([loss_train, acc_train])\n",
        "  log_valid.append([loss_valid, acc_valid])\n",
        "\n",
        "  # チェックポイントの保存\n",
        "  torch.save({'epoch': epoch, 'model_state_dict': model.state_dict(), 'optimizer_state_dict': optimizer.state_dict()}, f'checkpoint{epoch + 1}.pt')\n",
        "\n",
        "  # ログを出力\n",
        "  print(f'epoch: {epoch + 1}, loss_train: {loss_train:.4f}, accuracy_train: {acc_train:.4f}, loss_valid: {loss_valid:.4f}, accuracy_valid: {acc_valid:.4f}')  "
      ],
      "execution_count": 29,
      "outputs": [
        {
          "output_type": "stream",
          "text": [
            "epoch: 1, loss_train: 0.3281, accuracy_train: 0.8886, loss_valid: 0.3622, accuracy_valid: 0.8698\n",
            "epoch: 2, loss_train: 0.2928, accuracy_train: 0.9040, loss_valid: 0.3351, accuracy_valid: 0.8832\n",
            "epoch: 3, loss_train: 0.2638, accuracy_train: 0.9125, loss_valid: 0.3138, accuracy_valid: 0.8870\n",
            "epoch: 4, loss_train: 0.2571, accuracy_train: 0.9131, loss_valid: 0.3097, accuracy_valid: 0.8892\n",
            "epoch: 5, loss_train: 0.2450, accuracy_train: 0.9185, loss_valid: 0.3049, accuracy_valid: 0.8915\n",
            "epoch: 6, loss_train: 0.2428, accuracy_train: 0.9194, loss_valid: 0.3054, accuracy_valid: 0.8952\n",
            "epoch: 7, loss_train: 0.2400, accuracy_train: 0.9220, loss_valid: 0.3083, accuracy_valid: 0.8960\n",
            "epoch: 8, loss_train: 0.2306, accuracy_train: 0.9232, loss_valid: 0.3035, accuracy_valid: 0.8967\n",
            "epoch: 9, loss_train: 0.2293, accuracy_train: 0.9243, loss_valid: 0.3058, accuracy_valid: 0.8930\n",
            "epoch: 10, loss_train: 0.2270, accuracy_train: 0.9254, loss_valid: 0.3054, accuracy_valid: 0.8952\n"
          ],
          "name": "stdout"
        }
      ]
    },
    {
      "cell_type": "markdown",
      "metadata": {
        "id": "DfUVIfNf6GgG",
        "colab_type": "text"
      },
      "source": [
        "## 77. ミニバッチ化\n",
        "***\n",
        "問題76のコードを改変し，$B$事例ごとに損失・勾配を計算し，行列$W$の値を更新せよ（ミニバッチ化）．$B$の値を$1,2,4,8,…$と変化させながら，1エポックの学習に要する時間を比較せよ．"
      ]
    },
    {
      "cell_type": "code",
      "metadata": {
        "id": "Dl5Jm025mdQg",
        "colab_type": "code",
        "colab": {}
      },
      "source": [
        "import time\n",
        "\n",
        "def train_model(dataset_train, dataset_valid, batch_size, model, criterion, optimizer, num_epochs):\n",
        "  # dataloaderの作成\n",
        "  dataloader_train = DataLoader(dataset_train, batch_size=batch_size, shuffle=True)\n",
        "  dataloader_valid = DataLoader(dataset_valid, batch_size=len(dataset_valid), shuffle=False)\n",
        "\n",
        "  # 学習\n",
        "  log_train = []\n",
        "  log_valid = []\n",
        "  for epoch in range(num_epochs):\n",
        "    # 開始時刻の記録\n",
        "    s_time = time.time()\n",
        "\n",
        "    # 訓練モードに設定\n",
        "    model.train()\n",
        "    for inputs, labels in dataloader_train:\n",
        "      # 勾配をゼロで初期化\n",
        "      optimizer.zero_grad()\n",
        "\n",
        "      # 順伝播 + 誤差逆伝播 + 重み更新\n",
        "      outputs = model.forward(inputs)\n",
        "      loss = criterion(outputs, labels)\n",
        "      loss.backward()\n",
        "      optimizer.step()\n",
        "  \n",
        "    # 損失と正解率の算出\n",
        "    loss_train, acc_train = calculate_loss_and_accuracy(model, criterion, dataloader_train)\n",
        "    loss_valid, acc_valid = calculate_loss_and_accuracy(model, criterion, dataloader_valid)\n",
        "    log_train.append([loss_train, acc_train])\n",
        "    log_valid.append([loss_valid, acc_valid])\n",
        "\n",
        "    # チェックポイントの保存\n",
        "    torch.save({'epoch': epoch, 'model_state_dict': model.state_dict(), 'optimizer_state_dict': optimizer.state_dict()}, f'checkpoint{epoch + 1}.pt')\n",
        "\n",
        "    # 終了時刻の記録\n",
        "    e_time = time.time()\n",
        "\n",
        "    # ログを出力\n",
        "    print(f'epoch: {epoch + 1}, loss_train: {loss_train:.4f}, accuracy_train: {acc_train:.4f}, loss_valid: {loss_valid:.4f}, accuracy_valid: {acc_valid:.4f}, {(e_time - s_time):.4f}sec') \n",
        "\n",
        "  return {'train': log_train, 'valid': log_valid}"
      ],
      "execution_count": 30,
      "outputs": []
    },
    {
      "cell_type": "code",
      "metadata": {
        "id": "reXuH18SpnDH",
        "colab_type": "code",
        "colab": {
          "base_uri": "https://localhost:8080/",
          "height": 413
        },
        "outputId": "d00e1021-6a47-4f08-a199-84fe165170de"
      },
      "source": [
        "# datasetの作成\n",
        "dataset_train = CreateDataset(X_train, y_train)\n",
        "dataset_valid = CreateDataset(X_valid, y_valid)\n",
        "\n",
        "# モデルの定義\n",
        "model = SLPNet(300, 4)\n",
        "\n",
        "# 損失関数の定義\n",
        "criterion = nn.CrossEntropyLoss()\n",
        "\n",
        "# オプティマイザの定義\n",
        "optimizer = torch.optim.SGD(model.parameters(), lr=1e-1)\n",
        "\n",
        "# モデルの学習\n",
        "for batch_size in [2 ** i for i in range(11)]:\n",
        "  print(f'バッチサイズ: {batch_size}')\n",
        "  log = train_model(dataset_train, dataset_valid, batch_size, model, criterion, optimizer, 1)"
      ],
      "execution_count": 31,
      "outputs": [
        {
          "output_type": "stream",
          "text": [
            "バッチサイズ: 1\n",
            "epoch: 1, loss_train: 0.3310, accuracy_train: 0.8858, loss_valid: 0.3579, accuracy_valid: 0.8795, 4.1217sec\n",
            "バッチサイズ: 2\n",
            "epoch: 1, loss_train: 0.2985, accuracy_train: 0.8967, loss_valid: 0.3289, accuracy_valid: 0.8907, 2.3251sec\n",
            "バッチサイズ: 4\n",
            "epoch: 1, loss_train: 0.2895, accuracy_train: 0.9000, loss_valid: 0.3226, accuracy_valid: 0.8900, 1.2911sec\n",
            "バッチサイズ: 8\n",
            "epoch: 1, loss_train: 0.2870, accuracy_train: 0.9003, loss_valid: 0.3213, accuracy_valid: 0.8870, 0.7291sec\n",
            "バッチサイズ: 16\n",
            "epoch: 1, loss_train: 0.2843, accuracy_train: 0.9027, loss_valid: 0.3189, accuracy_valid: 0.8915, 0.4637sec\n",
            "バッチサイズ: 32\n",
            "epoch: 1, loss_train: 0.2833, accuracy_train: 0.9029, loss_valid: 0.3182, accuracy_valid: 0.8937, 0.3330sec\n",
            "バッチサイズ: 64\n",
            "epoch: 1, loss_train: 0.2829, accuracy_train: 0.9028, loss_valid: 0.3180, accuracy_valid: 0.8930, 0.2453sec\n",
            "バッチサイズ: 128\n",
            "epoch: 1, loss_train: 0.2822, accuracy_train: 0.9029, loss_valid: 0.3179, accuracy_valid: 0.8930, 0.2005sec\n",
            "バッチサイズ: 256\n",
            "epoch: 1, loss_train: 0.2837, accuracy_train: 0.9028, loss_valid: 0.3178, accuracy_valid: 0.8930, 0.1747sec\n",
            "バッチサイズ: 512\n",
            "epoch: 1, loss_train: 0.2823, accuracy_train: 0.9028, loss_valid: 0.3178, accuracy_valid: 0.8930, 0.1724sec\n",
            "バッチサイズ: 1024\n",
            "epoch: 1, loss_train: 0.2869, accuracy_train: 0.9028, loss_valid: 0.3178, accuracy_valid: 0.8930, 0.1432sec\n"
          ],
          "name": "stdout"
        }
      ]
    },
    {
      "cell_type": "markdown",
      "metadata": {
        "id": "bbhSXdpG6Lit",
        "colab_type": "text"
      },
      "source": [
        "## 78. GPU上での学習\n",
        "***\n",
        "問題77のコードを改変し，GPU上で学習を実行せよ．"
      ]
    },
    {
      "cell_type": "code",
      "metadata": {
        "id": "K4VwRApLqdtP",
        "colab_type": "code",
        "colab": {}
      },
      "source": [
        "def calculate_loss_and_accuracy(model, criterion, loader, device):\n",
        "  model.eval()\n",
        "  loss = 0.0\n",
        "  total = 0\n",
        "  correct = 0\n",
        "  with torch.no_grad():\n",
        "    for inputs, labels in loader:\n",
        "      inputs = inputs.to(device)\n",
        "      labels = labels.to(device)\n",
        "      outputs = model(inputs)\n",
        "      loss += criterion(outputs, labels).item()\n",
        "      pred = torch.argmax(outputs, dim=-1)\n",
        "      total += len(inputs)\n",
        "      correct += (pred == labels).sum().item()\n",
        "      \n",
        "  return loss / len(loader), correct / total\n",
        "  \n",
        "\n",
        "def train_model(dataset_train, dataset_valid, batch_size, model, criterion, optimizer, num_epochs, device=None):\n",
        "  # GPUに送る\n",
        "  model.to(device)\n",
        "\n",
        "  # dataloaderの作成\n",
        "  dataloader_train = DataLoader(dataset_train, batch_size=batch_size, shuffle=True)\n",
        "  dataloader_valid = DataLoader(dataset_valid, batch_size=len(dataset_valid), shuffle=False)\n",
        "\n",
        "  # 学習\n",
        "  log_train = []\n",
        "  log_valid = []\n",
        "  for epoch in range(num_epochs):\n",
        "    # 開始時刻の記録\n",
        "    s_time = time.time()\n",
        "\n",
        "    # 訓練モードに設定\n",
        "    model.train()\n",
        "    for inputs, labels in dataloader_train:\n",
        "      # 勾配をゼロで初期化\n",
        "      optimizer.zero_grad()\n",
        "\n",
        "      # 順伝播 + 誤差逆伝播 + 重み更新\n",
        "      inputs = inputs.to(device)\n",
        "      labels = labels.to(device)\n",
        "      outputs = model.forward(inputs)\n",
        "      loss = criterion(outputs, labels)\n",
        "      loss.backward()\n",
        "      optimizer.step()\n",
        "    \n",
        "    # 損失と正解率の算出\n",
        "    loss_train, acc_train = calculate_loss_and_accuracy(model, criterion, dataloader_train, device)\n",
        "    loss_valid, acc_valid = calculate_loss_and_accuracy(model, criterion, dataloader_valid, device)\n",
        "    log_train.append([loss_train, acc_train])\n",
        "    log_valid.append([loss_valid, acc_valid])\n",
        "\n",
        "    # チェックポイントの保存\n",
        "    torch.save({'epoch': epoch, 'model_state_dict': model.state_dict(), 'optimizer_state_dict': optimizer.state_dict()}, f'checkpoint{epoch + 1}.pt')\n",
        "\n",
        "    # 終了時刻の記録\n",
        "    e_time = time.time()\n",
        "\n",
        "    # ログを出力\n",
        "    print(f'epoch: {epoch + 1}, loss_train: {loss_train:.4f}, accuracy_train: {acc_train:.4f}, loss_valid: {loss_valid:.4f}, accuracy_valid: {acc_valid:.4f}, {(e_time - s_time):.4f}sec') \n",
        "\n",
        "  return {'train': log_train, 'valid': log_valid}"
      ],
      "execution_count": 32,
      "outputs": []
    },
    {
      "cell_type": "code",
      "metadata": {
        "id": "21p8nm8Bs7i8",
        "colab_type": "code",
        "colab": {
          "base_uri": "https://localhost:8080/",
          "height": 413
        },
        "outputId": "49f5fa36-e9f6-469b-8e7b-7cc21ff05e0e"
      },
      "source": [
        "# datasetの作成\n",
        "dataset_train = CreateDataset(X_train, y_train)\n",
        "dataset_valid = CreateDataset(X_valid, y_valid)\n",
        "\n",
        "# モデルの定義\n",
        "model = SLPNet(300, 4)\n",
        "\n",
        "# 損失関数の定義\n",
        "criterion = nn.CrossEntropyLoss()\n",
        "\n",
        "# オプティマイザの定義\n",
        "optimizer = torch.optim.SGD(model.parameters(), lr=1e-1)\n",
        "\n",
        "# デバイスの指定\n",
        "device = torch.device('cuda')\n",
        "for batch_size in [2 ** i for i in range(11)]:\n",
        "  print(f'バッチサイズ: {batch_size}')\n",
        "  log = train_model(dataset_train, dataset_valid, batch_size, model, criterion, optimizer, 1, device=device)"
      ],
      "execution_count": 33,
      "outputs": [
        {
          "output_type": "stream",
          "text": [
            "バッチサイズ: 1\n",
            "epoch: 1, loss_train: 0.3322, accuracy_train: 0.8842, loss_valid: 0.3676, accuracy_valid: 0.8780, 10.2910sec\n",
            "バッチサイズ: 2\n",
            "epoch: 1, loss_train: 0.3038, accuracy_train: 0.8983, loss_valid: 0.3469, accuracy_valid: 0.8840, 5.0635sec\n",
            "バッチサイズ: 4\n",
            "epoch: 1, loss_train: 0.2929, accuracy_train: 0.9013, loss_valid: 0.3390, accuracy_valid: 0.8832, 2.5709sec\n",
            "バッチサイズ: 8\n",
            "epoch: 1, loss_train: 0.2885, accuracy_train: 0.9024, loss_valid: 0.3352, accuracy_valid: 0.8877, 1.3670sec\n",
            "バッチサイズ: 16\n",
            "epoch: 1, loss_train: 0.2865, accuracy_train: 0.9038, loss_valid: 0.3334, accuracy_valid: 0.8855, 0.7702sec\n",
            "バッチサイズ: 32\n",
            "epoch: 1, loss_train: 0.2857, accuracy_train: 0.9039, loss_valid: 0.3329, accuracy_valid: 0.8855, 0.4686sec\n",
            "バッチサイズ: 64\n",
            "epoch: 1, loss_train: 0.2851, accuracy_train: 0.9041, loss_valid: 0.3327, accuracy_valid: 0.8855, 0.3011sec\n",
            "バッチサイズ: 128\n",
            "epoch: 1, loss_train: 0.2845, accuracy_train: 0.9041, loss_valid: 0.3325, accuracy_valid: 0.8855, 0.2226sec\n",
            "バッチサイズ: 256\n",
            "epoch: 1, loss_train: 0.2850, accuracy_train: 0.9041, loss_valid: 0.3325, accuracy_valid: 0.8855, 0.1862sec\n",
            "バッチサイズ: 512\n",
            "epoch: 1, loss_train: 0.2849, accuracy_train: 0.9041, loss_valid: 0.3324, accuracy_valid: 0.8855, 0.1551sec\n",
            "バッチサイズ: 1024\n",
            "epoch: 1, loss_train: 0.2847, accuracy_train: 0.9041, loss_valid: 0.3324, accuracy_valid: 0.8855, 0.1477sec\n"
          ],
          "name": "stdout"
        }
      ]
    },
    {
      "cell_type": "markdown",
      "metadata": {
        "id": "O2Hyc7XdRelw",
        "colab_type": "text"
      },
      "source": [
        "## 79. 多層ニューラルネットワーク\n",
        "***\n",
        "問題78のコードを改変し，バイアス項の導入や多層化など，ニューラルネットワークの形状を変更しながら，高性能なカテゴリ分類器を構築せよ．"
      ]
    },
    {
      "cell_type": "code",
      "metadata": {
        "id": "BV7eXCAjvAYe",
        "colab_type": "code",
        "colab": {}
      },
      "source": [
        "from torch.nn import functional as F\n",
        "\n",
        "class MLPNet(nn.Module):\n",
        "  def __init__(self, input_size, mid_size, output_size, mid_layers):\n",
        "    super().__init__()\n",
        "    self.mid_layers = mid_layers\n",
        "    self.fc = nn.Linear(input_size, mid_size)\n",
        "    self.fc_mid = nn.Linear(mid_size, mid_size)\n",
        "    self.fc_out = nn.Linear(mid_size, output_size) \n",
        "    self.bn = nn.BatchNorm1d(mid_size)\n",
        "\n",
        "  def forward(self, x):\n",
        "    x = F.relu(self.fc(x))\n",
        "    for _ in range(self.mid_layers):\n",
        "      x = F.relu(self.bn(self.fc_mid(x)))\n",
        "    x = F.relu(self.fc_out(x))\n",
        " \n",
        "    return x"
      ],
      "execution_count": 34,
      "outputs": []
    },
    {
      "cell_type": "code",
      "metadata": {
        "id": "MkyEmH8Xt_zD",
        "colab_type": "code",
        "colab": {}
      },
      "source": [
        "from torch import optim\n",
        "\n",
        "def calculate_loss_and_accuracy(model, criterion, loader, device):\n",
        "  model.eval()\n",
        "  loss = 0.0\n",
        "  total = 0\n",
        "  correct = 0\n",
        "  with torch.no_grad():\n",
        "    for inputs, labels in loader:\n",
        "      inputs = inputs.to(device)\n",
        "      labels = labels.to(device)\n",
        "      outputs = model(inputs)\n",
        "      loss += criterion(outputs, labels).item()\n",
        "      pred = torch.argmax(outputs, dim=-1)\n",
        "      total += len(inputs)\n",
        "      correct += (pred == labels).sum().item()\n",
        "      \n",
        "  return loss / len(loader), correct / total\n",
        "  \n",
        "\n",
        "def train_model(dataset_train, dataset_valid, batch_size, model, criterion, optimizer, num_epochs, device=None):\n",
        "  # GPUに送る\n",
        "  model.to(device)\n",
        "\n",
        "  # dataloaderの作成\n",
        "  dataloader_train = DataLoader(dataset_train, batch_size=batch_size, shuffle=True)\n",
        "  dataloader_valid = DataLoader(dataset_valid, batch_size=len(dataset_valid), shuffle=False)\n",
        "\n",
        "  # スケジューラの設定\n",
        "  scheduler = optim.lr_scheduler.CosineAnnealingLR(optimizer, num_epochs, eta_min=1e-5, last_epoch=-1)\n",
        "\n",
        "  # 学習\n",
        "  log_train = []\n",
        "  log_valid = []\n",
        "  for epoch in range(num_epochs):\n",
        "    # 開始時刻の記録\n",
        "    s_time = time.time()\n",
        "\n",
        "    # 訓練モードに設定\n",
        "    model.train()\n",
        "    for inputs, labels in dataloader_train:\n",
        "      # 勾配をゼロで初期化\n",
        "      optimizer.zero_grad()\n",
        "\n",
        "      # 順伝播 + 誤差逆伝播 + 重み更新\n",
        "      inputs = inputs.to(device)\n",
        "      labels = labels.to(device)\n",
        "      outputs = model.forward(inputs)\n",
        "      loss = criterion(outputs, labels)\n",
        "      loss.backward()\n",
        "      optimizer.step()\n",
        "    \n",
        "    # 損失と正解率の算出\n",
        "    loss_train, acc_train = calculate_loss_and_accuracy(model, criterion, dataloader_train, device)\n",
        "    loss_valid, acc_valid = calculate_loss_and_accuracy(model, criterion, dataloader_valid, device)\n",
        "    log_train.append([loss_train, acc_train])\n",
        "    log_valid.append([loss_valid, acc_valid])\n",
        "\n",
        "    # チェックポイントの保存\n",
        "    torch.save({'epoch': epoch, 'model_state_dict': model.state_dict(), 'optimizer_state_dict': optimizer.state_dict()}, f'checkpoint{epoch + 1}.pt')\n",
        "\n",
        "    # 終了時刻の記録\n",
        "    e_time = time.time()\n",
        "\n",
        "    # ログを出力\n",
        "    print(f'epoch: {epoch + 1}, loss_train: {loss_train:.4f}, accuracy_train: {acc_train:.4f}, loss_valid: {loss_valid:.4f}, accuracy_valid: {acc_valid:.4f}, {(e_time - s_time):.4f}sec') \n",
        "\n",
        "    # 検証データの損失が3エポック連続で低下しなかった場合は学習終了\n",
        "    if epoch > 2 and log_valid[epoch - 3][0] <= log_valid[epoch - 2][0] <= log_valid[epoch - 1][0] <= log_valid[epoch][0]:\n",
        "      break\n",
        "\n",
        "    # スケジューラを1ステップ進める\n",
        "    scheduler.step()\n",
        "\n",
        "  return {'train': log_train, 'valid': log_valid}"
      ],
      "execution_count": 35,
      "outputs": []
    },
    {
      "cell_type": "code",
      "metadata": {
        "id": "_x_ZcgDtnr5d",
        "colab_type": "code",
        "colab": {
          "base_uri": "https://localhost:8080/",
          "height": 1000
        },
        "outputId": "6f1b394c-4a95-4983-e268-91fa20a0aa52"
      },
      "source": [
        "# datasetの作成\n",
        "dataset_train = CreateDataset(X_train, y_train)\n",
        "dataset_valid = CreateDataset(X_valid, y_valid)\n",
        "\n",
        "# モデルの定義\n",
        "model = MLPNet(300, 200, 4, 1)\n",
        "\n",
        "# 損失関数の定義\n",
        "criterion = nn.CrossEntropyLoss()\n",
        "\n",
        "# オプティマイザの定義\n",
        "optimizer = torch.optim.SGD(model.parameters(), lr=1e-3)\n",
        "\n",
        "# デバイスの指定\n",
        "device = torch.device('cuda')\n",
        "log = train_model(dataset_train, dataset_valid, 64, model, criterion, optimizer, 1000, device)"
      ],
      "execution_count": 36,
      "outputs": [
        {
          "output_type": "stream",
          "text": [
            "epoch: 1, loss_train: 0.9282, accuracy_train: 0.7431, loss_valid: 0.9309, accuracy_valid: 0.7485, 0.4775sec\n",
            "epoch: 2, loss_train: 0.7333, accuracy_train: 0.7686, loss_valid: 0.7376, accuracy_valid: 0.7650, 0.4934sec\n",
            "epoch: 3, loss_train: 0.6493, accuracy_train: 0.7748, loss_valid: 0.6565, accuracy_valid: 0.7747, 0.4844sec\n",
            "epoch: 4, loss_train: 0.6009, accuracy_train: 0.7845, loss_valid: 0.6096, accuracy_valid: 0.7844, 0.4872sec\n",
            "epoch: 5, loss_train: 0.5634, accuracy_train: 0.7930, loss_valid: 0.5751, accuracy_valid: 0.7934, 0.4708sec\n",
            "epoch: 6, loss_train: 0.5342, accuracy_train: 0.8095, loss_valid: 0.5474, accuracy_valid: 0.8106, 0.5088sec\n",
            "epoch: 7, loss_train: 0.5039, accuracy_train: 0.8236, loss_valid: 0.5186, accuracy_valid: 0.8286, 0.4774sec\n",
            "epoch: 8, loss_train: 0.4821, accuracy_train: 0.8366, loss_valid: 0.4980, accuracy_valid: 0.8323, 0.4826sec\n",
            "epoch: 9, loss_train: 0.4572, accuracy_train: 0.8505, loss_valid: 0.4740, accuracy_valid: 0.8398, 0.4772sec\n",
            "epoch: 10, loss_train: 0.4339, accuracy_train: 0.8586, loss_valid: 0.4523, accuracy_valid: 0.8458, 0.4982sec\n",
            "epoch: 11, loss_train: 0.4146, accuracy_train: 0.8689, loss_valid: 0.4339, accuracy_valid: 0.8525, 0.4773sec\n",
            "epoch: 12, loss_train: 0.4014, accuracy_train: 0.8747, loss_valid: 0.4217, accuracy_valid: 0.8593, 0.4854sec\n",
            "epoch: 13, loss_train: 0.3852, accuracy_train: 0.8808, loss_valid: 0.4067, accuracy_valid: 0.8683, 0.4861sec\n",
            "epoch: 14, loss_train: 0.3711, accuracy_train: 0.8853, loss_valid: 0.3938, accuracy_valid: 0.8690, 0.4838sec\n",
            "epoch: 15, loss_train: 0.3600, accuracy_train: 0.8868, loss_valid: 0.3840, accuracy_valid: 0.8720, 0.4851sec\n",
            "epoch: 16, loss_train: 0.3495, accuracy_train: 0.8892, loss_valid: 0.3745, accuracy_valid: 0.8750, 0.4820sec\n",
            "epoch: 17, loss_train: 0.3404, accuracy_train: 0.8944, loss_valid: 0.3664, accuracy_valid: 0.8750, 0.4785sec\n",
            "epoch: 18, loss_train: 0.3315, accuracy_train: 0.8971, loss_valid: 0.3582, accuracy_valid: 0.8817, 0.4858sec\n",
            "epoch: 19, loss_train: 0.3264, accuracy_train: 0.8965, loss_valid: 0.3536, accuracy_valid: 0.8847, 0.4797sec\n",
            "epoch: 20, loss_train: 0.3179, accuracy_train: 0.8992, loss_valid: 0.3467, accuracy_valid: 0.8825, 0.4690sec\n",
            "epoch: 21, loss_train: 0.3110, accuracy_train: 0.9008, loss_valid: 0.3404, accuracy_valid: 0.8870, 0.5023sec\n",
            "epoch: 22, loss_train: 0.3065, accuracy_train: 0.9037, loss_valid: 0.3368, accuracy_valid: 0.8945, 0.4727sec\n",
            "epoch: 23, loss_train: 0.3004, accuracy_train: 0.9036, loss_valid: 0.3326, accuracy_valid: 0.8900, 0.4938sec\n",
            "epoch: 24, loss_train: 0.2952, accuracy_train: 0.9049, loss_valid: 0.3282, accuracy_valid: 0.8937, 0.4866sec\n",
            "epoch: 25, loss_train: 0.2891, accuracy_train: 0.9057, loss_valid: 0.3238, accuracy_valid: 0.8915, 0.4758sec\n",
            "epoch: 26, loss_train: 0.2905, accuracy_train: 0.9065, loss_valid: 0.3258, accuracy_valid: 0.8885, 0.4759sec\n",
            "epoch: 27, loss_train: 0.2833, accuracy_train: 0.9073, loss_valid: 0.3196, accuracy_valid: 0.8960, 0.4889sec\n",
            "epoch: 28, loss_train: 0.2789, accuracy_train: 0.9086, loss_valid: 0.3165, accuracy_valid: 0.8952, 0.4782sec\n",
            "epoch: 29, loss_train: 0.2755, accuracy_train: 0.9113, loss_valid: 0.3139, accuracy_valid: 0.8937, 0.4820sec\n",
            "epoch: 30, loss_train: 0.2713, accuracy_train: 0.9117, loss_valid: 0.3117, accuracy_valid: 0.8937, 0.4950sec\n",
            "epoch: 31, loss_train: 0.2682, accuracy_train: 0.9135, loss_valid: 0.3093, accuracy_valid: 0.8945, 0.4862sec\n",
            "epoch: 32, loss_train: 0.2643, accuracy_train: 0.9137, loss_valid: 0.3073, accuracy_valid: 0.8967, 0.4850sec\n",
            "epoch: 33, loss_train: 0.2618, accuracy_train: 0.9150, loss_valid: 0.3057, accuracy_valid: 0.8967, 0.4811sec\n",
            "epoch: 34, loss_train: 0.2597, accuracy_train: 0.9160, loss_valid: 0.3045, accuracy_valid: 0.8967, 0.4927sec\n",
            "epoch: 35, loss_train: 0.2581, accuracy_train: 0.9163, loss_valid: 0.3042, accuracy_valid: 0.8990, 0.4921sec\n",
            "epoch: 36, loss_train: 0.2539, accuracy_train: 0.9188, loss_valid: 0.3013, accuracy_valid: 0.8997, 0.4833sec\n",
            "epoch: 37, loss_train: 0.2511, accuracy_train: 0.9181, loss_valid: 0.2999, accuracy_valid: 0.8990, 0.4838sec\n",
            "epoch: 38, loss_train: 0.2482, accuracy_train: 0.9191, loss_valid: 0.2986, accuracy_valid: 0.9012, 0.4892sec\n",
            "epoch: 39, loss_train: 0.2457, accuracy_train: 0.9218, loss_valid: 0.2970, accuracy_valid: 0.8982, 0.4948sec\n",
            "epoch: 40, loss_train: 0.2440, accuracy_train: 0.9219, loss_valid: 0.2970, accuracy_valid: 0.8997, 0.4939sec\n",
            "epoch: 41, loss_train: 0.2413, accuracy_train: 0.9217, loss_valid: 0.2954, accuracy_valid: 0.9019, 0.4853sec\n",
            "epoch: 42, loss_train: 0.2401, accuracy_train: 0.9219, loss_valid: 0.2950, accuracy_valid: 0.8997, 0.4851sec\n",
            "epoch: 43, loss_train: 0.2378, accuracy_train: 0.9251, loss_valid: 0.2940, accuracy_valid: 0.8997, 0.4834sec\n",
            "epoch: 44, loss_train: 0.2345, accuracy_train: 0.9242, loss_valid: 0.2928, accuracy_valid: 0.9004, 0.5006sec\n",
            "epoch: 45, loss_train: 0.2334, accuracy_train: 0.9269, loss_valid: 0.2919, accuracy_valid: 0.8990, 0.4869sec\n",
            "epoch: 46, loss_train: 0.2309, accuracy_train: 0.9261, loss_valid: 0.2912, accuracy_valid: 0.8997, 0.4804sec\n",
            "epoch: 47, loss_train: 0.2295, accuracy_train: 0.9282, loss_valid: 0.2907, accuracy_valid: 0.9027, 0.4832sec\n",
            "epoch: 48, loss_train: 0.2270, accuracy_train: 0.9280, loss_valid: 0.2899, accuracy_valid: 0.8997, 0.4867sec\n",
            "epoch: 49, loss_train: 0.2250, accuracy_train: 0.9298, loss_valid: 0.2892, accuracy_valid: 0.9034, 0.5102sec\n",
            "epoch: 50, loss_train: 0.2238, accuracy_train: 0.9292, loss_valid: 0.2893, accuracy_valid: 0.9034, 0.4798sec\n",
            "epoch: 51, loss_train: 0.2220, accuracy_train: 0.9300, loss_valid: 0.2885, accuracy_valid: 0.9034, 0.4805sec\n",
            "epoch: 52, loss_train: 0.2197, accuracy_train: 0.9313, loss_valid: 0.2875, accuracy_valid: 0.9042, 0.4750sec\n",
            "epoch: 53, loss_train: 0.2186, accuracy_train: 0.9318, loss_valid: 0.2871, accuracy_valid: 0.9034, 0.4846sec\n",
            "epoch: 54, loss_train: 0.2163, accuracy_train: 0.9313, loss_valid: 0.2871, accuracy_valid: 0.9012, 0.4905sec\n",
            "epoch: 55, loss_train: 0.2152, accuracy_train: 0.9318, loss_valid: 0.2870, accuracy_valid: 0.9042, 0.4972sec\n",
            "epoch: 56, loss_train: 0.2125, accuracy_train: 0.9330, loss_valid: 0.2857, accuracy_valid: 0.9019, 0.4787sec\n",
            "epoch: 57, loss_train: 0.2116, accuracy_train: 0.9319, loss_valid: 0.2858, accuracy_valid: 0.9042, 0.4794sec\n",
            "epoch: 58, loss_train: 0.2104, accuracy_train: 0.9334, loss_valid: 0.2857, accuracy_valid: 0.9034, 0.4769sec\n",
            "epoch: 59, loss_train: 0.2094, accuracy_train: 0.9347, loss_valid: 0.2854, accuracy_valid: 0.9004, 0.4834sec\n",
            "epoch: 60, loss_train: 0.2063, accuracy_train: 0.9351, loss_valid: 0.2843, accuracy_valid: 0.9012, 0.4869sec\n",
            "epoch: 61, loss_train: 0.2060, accuracy_train: 0.9346, loss_valid: 0.2851, accuracy_valid: 0.9027, 0.4856sec\n",
            "epoch: 62, loss_train: 0.2033, accuracy_train: 0.9360, loss_valid: 0.2841, accuracy_valid: 0.9027, 0.4784sec\n",
            "epoch: 63, loss_train: 0.2032, accuracy_train: 0.9351, loss_valid: 0.2847, accuracy_valid: 0.9042, 0.4896sec\n",
            "epoch: 64, loss_train: 0.2018, accuracy_train: 0.9374, loss_valid: 0.2842, accuracy_valid: 0.9049, 0.4809sec\n",
            "epoch: 65, loss_train: 0.1999, accuracy_train: 0.9373, loss_valid: 0.2839, accuracy_valid: 0.9027, 0.4869sec\n",
            "epoch: 66, loss_train: 0.1980, accuracy_train: 0.9374, loss_valid: 0.2839, accuracy_valid: 0.9042, 0.4919sec\n",
            "epoch: 67, loss_train: 0.1980, accuracy_train: 0.9396, loss_valid: 0.2837, accuracy_valid: 0.9034, 0.4725sec\n",
            "epoch: 68, loss_train: 0.1953, accuracy_train: 0.9395, loss_valid: 0.2833, accuracy_valid: 0.9034, 0.4791sec\n",
            "epoch: 69, loss_train: 0.1941, accuracy_train: 0.9392, loss_valid: 0.2833, accuracy_valid: 0.9034, 0.4753sec\n",
            "epoch: 70, loss_train: 0.1922, accuracy_train: 0.9396, loss_valid: 0.2826, accuracy_valid: 0.9049, 0.4933sec\n",
            "epoch: 71, loss_train: 0.1920, accuracy_train: 0.9398, loss_valid: 0.2824, accuracy_valid: 0.9049, 0.4952sec\n",
            "epoch: 72, loss_train: 0.1908, accuracy_train: 0.9400, loss_valid: 0.2836, accuracy_valid: 0.9042, 0.4832sec\n",
            "epoch: 73, loss_train: 0.1887, accuracy_train: 0.9410, loss_valid: 0.2825, accuracy_valid: 0.9027, 0.4889sec\n",
            "epoch: 74, loss_train: 0.1870, accuracy_train: 0.9418, loss_valid: 0.2821, accuracy_valid: 0.9027, 0.4898sec\n",
            "epoch: 75, loss_train: 0.1864, accuracy_train: 0.9423, loss_valid: 0.2820, accuracy_valid: 0.9042, 0.4891sec\n",
            "epoch: 76, loss_train: 0.1843, accuracy_train: 0.9428, loss_valid: 0.2823, accuracy_valid: 0.9042, 0.4904sec\n",
            "epoch: 77, loss_train: 0.1829, accuracy_train: 0.9431, loss_valid: 0.2825, accuracy_valid: 0.9042, 0.4853sec\n",
            "epoch: 78, loss_train: 0.1810, accuracy_train: 0.9432, loss_valid: 0.2821, accuracy_valid: 0.9034, 0.4963sec\n",
            "epoch: 79, loss_train: 0.1804, accuracy_train: 0.9436, loss_valid: 0.2820, accuracy_valid: 0.9042, 0.4861sec\n",
            "epoch: 80, loss_train: 0.1800, accuracy_train: 0.9444, loss_valid: 0.2826, accuracy_valid: 0.9012, 0.4809sec\n",
            "epoch: 81, loss_train: 0.1784, accuracy_train: 0.9441, loss_valid: 0.2823, accuracy_valid: 0.9064, 0.4777sec\n",
            "epoch: 82, loss_train: 0.1782, accuracy_train: 0.9447, loss_valid: 0.2836, accuracy_valid: 0.9027, 0.4794sec\n",
            "epoch: 83, loss_train: 0.1762, accuracy_train: 0.9449, loss_valid: 0.2823, accuracy_valid: 0.9034, 0.4850sec\n",
            "epoch: 84, loss_train: 0.1750, accuracy_train: 0.9462, loss_valid: 0.2833, accuracy_valid: 0.9057, 0.5037sec\n",
            "epoch: 85, loss_train: 0.1753, accuracy_train: 0.9461, loss_valid: 0.2840, accuracy_valid: 0.9064, 0.4919sec\n",
            "epoch: 86, loss_train: 0.1723, accuracy_train: 0.9469, loss_valid: 0.2823, accuracy_valid: 0.9042, 0.4919sec\n",
            "epoch: 87, loss_train: 0.1709, accuracy_train: 0.9476, loss_valid: 0.2823, accuracy_valid: 0.9072, 0.4874sec\n",
            "epoch: 88, loss_train: 0.1702, accuracy_train: 0.9473, loss_valid: 0.2824, accuracy_valid: 0.9049, 0.4909sec\n",
            "epoch: 89, loss_train: 0.1683, accuracy_train: 0.9480, loss_valid: 0.2823, accuracy_valid: 0.9027, 0.4870sec\n",
            "epoch: 90, loss_train: 0.1676, accuracy_train: 0.9484, loss_valid: 0.2826, accuracy_valid: 0.9042, 0.4772sec\n",
            "epoch: 91, loss_train: 0.1657, accuracy_train: 0.9485, loss_valid: 0.2825, accuracy_valid: 0.9049, 0.4935sec\n",
            "epoch: 92, loss_train: 0.1652, accuracy_train: 0.9491, loss_valid: 0.2834, accuracy_valid: 0.9049, 0.4998sec\n",
            "epoch: 93, loss_train: 0.1638, accuracy_train: 0.9496, loss_valid: 0.2833, accuracy_valid: 0.9064, 0.4804sec\n",
            "epoch: 94, loss_train: 0.1640, accuracy_train: 0.9499, loss_valid: 0.2838, accuracy_valid: 0.9064, 0.4907sec\n",
            "epoch: 95, loss_train: 0.1619, accuracy_train: 0.9501, loss_valid: 0.2829, accuracy_valid: 0.9034, 0.4808sec\n",
            "epoch: 96, loss_train: 0.1604, accuracy_train: 0.9506, loss_valid: 0.2832, accuracy_valid: 0.9057, 0.4832sec\n",
            "epoch: 97, loss_train: 0.1600, accuracy_train: 0.9514, loss_valid: 0.2830, accuracy_valid: 0.9012, 0.4855sec\n",
            "epoch: 98, loss_train: 0.1591, accuracy_train: 0.9516, loss_valid: 0.2831, accuracy_valid: 0.8997, 0.4824sec\n",
            "epoch: 99, loss_train: 0.1581, accuracy_train: 0.9518, loss_valid: 0.2840, accuracy_valid: 0.9019, 0.4816sec\n",
            "epoch: 100, loss_train: 0.1559, accuracy_train: 0.9520, loss_valid: 0.2837, accuracy_valid: 0.9057, 0.4907sec\n",
            "epoch: 101, loss_train: 0.1561, accuracy_train: 0.9521, loss_valid: 0.2847, accuracy_valid: 0.9057, 0.4827sec\n",
            "epoch: 102, loss_train: 0.1554, accuracy_train: 0.9527, loss_valid: 0.2845, accuracy_valid: 0.9004, 0.4884sec\n",
            "epoch: 103, loss_train: 0.1527, accuracy_train: 0.9528, loss_valid: 0.2845, accuracy_valid: 0.9049, 0.4875sec\n",
            "epoch: 104, loss_train: 0.1519, accuracy_train: 0.9542, loss_valid: 0.2833, accuracy_valid: 0.9012, 0.4773sec\n",
            "epoch: 105, loss_train: 0.1521, accuracy_train: 0.9542, loss_valid: 0.2846, accuracy_valid: 0.9042, 0.4895sec\n",
            "epoch: 106, loss_train: 0.1491, accuracy_train: 0.9542, loss_valid: 0.2838, accuracy_valid: 0.9027, 0.4813sec\n",
            "epoch: 107, loss_train: 0.1484, accuracy_train: 0.9551, loss_valid: 0.2834, accuracy_valid: 0.9049, 0.4903sec\n",
            "epoch: 108, loss_train: 0.1472, accuracy_train: 0.9546, loss_valid: 0.2836, accuracy_valid: 0.9057, 0.4866sec\n",
            "epoch: 109, loss_train: 0.1466, accuracy_train: 0.9554, loss_valid: 0.2849, accuracy_valid: 0.9042, 0.4862sec\n",
            "epoch: 110, loss_train: 0.1446, accuracy_train: 0.9563, loss_valid: 0.2841, accuracy_valid: 0.9064, 0.4882sec\n",
            "epoch: 111, loss_train: 0.1440, accuracy_train: 0.9561, loss_valid: 0.2841, accuracy_valid: 0.9057, 0.4883sec\n",
            "epoch: 112, loss_train: 0.1419, accuracy_train: 0.9572, loss_valid: 0.2846, accuracy_valid: 0.9064, 0.4904sec\n",
            "epoch: 113, loss_train: 0.1409, accuracy_train: 0.9585, loss_valid: 0.2838, accuracy_valid: 0.9057, 0.4929sec\n",
            "epoch: 114, loss_train: 0.1410, accuracy_train: 0.9571, loss_valid: 0.2851, accuracy_valid: 0.9027, 0.4888sec\n",
            "epoch: 115, loss_train: 0.1399, accuracy_train: 0.9584, loss_valid: 0.2841, accuracy_valid: 0.9034, 0.4802sec\n",
            "epoch: 116, loss_train: 0.1383, accuracy_train: 0.9584, loss_valid: 0.2841, accuracy_valid: 0.9072, 0.4962sec\n",
            "epoch: 117, loss_train: 0.1385, accuracy_train: 0.9587, loss_valid: 0.2853, accuracy_valid: 0.9049, 0.5010sec\n",
            "epoch: 118, loss_train: 0.1364, accuracy_train: 0.9597, loss_valid: 0.2854, accuracy_valid: 0.9049, 0.4854sec\n",
            "epoch: 119, loss_train: 0.1353, accuracy_train: 0.9598, loss_valid: 0.2856, accuracy_valid: 0.9064, 0.4734sec\n"
          ],
          "name": "stdout"
        }
      ]
    },
    {
      "cell_type": "code",
      "metadata": {
        "id": "0m9njy72pDdx",
        "colab_type": "code",
        "colab": {
          "base_uri": "https://localhost:8080/",
          "height": 334
        },
        "outputId": "2e2d13b2-5fd5-4212-da8b-2598bf736c6f"
      },
      "source": [
        "# 可視化\n",
        "fig, ax = plt.subplots(1, 2, figsize=(15, 5))\n",
        "ax[0].plot(np.array(log['train']).T[0], label='train')\n",
        "ax[0].plot(np.array(log['valid']).T[0], label='valid')\n",
        "ax[0].set_xlabel('epoch')\n",
        "ax[0].set_ylabel('loss')\n",
        "ax[0].legend()\n",
        "ax[1].plot(np.array(log['train']).T[1], label='train')\n",
        "ax[1].plot(np.array(log['valid']).T[1], label='valid')\n",
        "ax[1].set_xlabel('epoch')\n",
        "ax[1].set_ylabel('accuracy')\n",
        "ax[1].legend()\n",
        "plt.show()"
      ],
      "execution_count": 37,
      "outputs": [
        {
          "output_type": "display_data",
          "data": {
            "image/png": "[encoded data removed]",
            "text/plain": [
              "<Figure size 1080x360 with 2 Axes>"
            ]
          },
          "metadata": {
            "tags": [],
            "needs_background": "light"
          }
        }
      ]
    },
    {
      "cell_type": "code",
      "metadata": {
        "id": "2fTxRUL_sIXR",
        "colab_type": "code",
        "colab": {}
      },
      "source": [
        "def calculate_accuracy(model, X, y, device):\n",
        "  model.eval()\n",
        "  with torch.no_grad():\n",
        "    inputs = X.to(device)\n",
        "    outputs = model(inputs)\n",
        "    pred = torch.argmax(outputs, dim=-1).cpu()\n",
        "\n",
        "  return (pred == y).sum().item() / len(y)"
      ],
      "execution_count": 44,
      "outputs": []
    },
    {
      "cell_type": "code",
      "metadata": {
        "id": "KDUa4xY1p-Eo",
        "colab_type": "code",
        "colab": {
          "base_uri": "https://localhost:8080/",
          "height": 53
        },
        "outputId": "962d8f2c-303e-4f78-bb08-5cc6e8b1df09"
      },
      "source": [
        "# 正解率の確認\n",
        "acc_train = calculate_accuracy(model, X_train, y_train, device)\n",
        "acc_test = calculate_accuracy(model, X_test, y_test, device)\n",
        "print(f'正解率（学習データ）：{acc_train:.3f}')\n",
        "print(f'正解率（評価データ）：{acc_test:.3f}')"
      ],
      "execution_count": 45,
      "outputs": [
        {
          "output_type": "stream",
          "text": [
            "正解率（学習データ）：0.960\n",
            "正解率（評価データ）：0.913\n"
          ],
          "name": "stdout"
        }
      ]
    }
  ]
}