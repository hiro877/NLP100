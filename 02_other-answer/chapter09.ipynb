{
  "nbformat": 4,
  "nbformat_minor": 0,
  "metadata": {
    "colab": {
      "name": "chapter09.ipynb",
      "provenance": [],
      "collapsed_sections": [],
      "authorship_tag": "ABX9TyOz2WvHnfUICRuQZRayLCTX"
    },
    "kernelspec": {
      "name": "python3",
      "display_name": "Python 3"
    },
    "accelerator": "GPU"
  },
  "cells": [
    {
      "cell_type": "markdown",
      "metadata": {
        "id": "APU1Y0HHsCvV"
      },
      "source": [
        "# 第9章: RNN, CNN"
      ]
    },
    {
      "cell_type": "markdown",
      "metadata": {
        "id": "rtqD39AdsI8W"
      },
      "source": [
        "## 80. ID番号への変換\n",
        "***\n",
        "問題51で構築した学習データ中の単語にユニークなID番号を付与したい．学習データ中で最も頻出する単語に$1$，2番目に頻出する単語に$2$，……といった方法で，学習データ中で2回以上出現する単語にID番号を付与せよ．そして，与えられた単語列に対して，ID番号の列を返す関数を実装せよ．ただし，出現頻度が2回未満の単語のID番号はすべて$0$とせよ．"
      ]
    },
    {
      "cell_type": "code",
      "metadata": {
        "id": "HODgi7f33I3P",
        "colab": {
          "base_uri": "https://localhost:8080/",
          "height": 359
        },
        "outputId": "75224167-397a-4cde-acd9-9efc29d8473c"
      },
      "source": [
        "!wget https://archive.ics.uci.edu/ml/machine-learning-databases/00359/NewsAggregatorDataset.zip\n",
        "!unzip NewsAggregatorDataset.zip"
      ],
      "execution_count": null,
      "outputs": [
        {
          "output_type": "stream",
          "text": [
            "--2020-06-17 12:28:01--  https://archive.ics.uci.edu/ml/machine-learning-databases/00359/NewsAggregatorDataset.zip\n",
            "Resolving archive.ics.uci.edu (archive.ics.uci.edu)... 128.195.10.252\n",
            "Connecting to archive.ics.uci.edu (archive.ics.uci.edu)|128.195.10.252|:443... connected.\n",
            "HTTP request sent, awaiting response... 200 OK\n",
            "Length: 29224203 (28M) [application/x-httpd-php]\n",
            "Saving to: ‘NewsAggregatorDataset.zip’\n",
            "\n",
            "NewsAggregatorDatas 100%[===================>]  27.87M  12.7MB/s    in 2.2s    \n",
            "\n",
            "2020-06-17 12:28:04 (12.7 MB/s) - ‘NewsAggregatorDataset.zip’ saved [29224203/29224203]\n",
            "\n",
            "Archive:  NewsAggregatorDataset.zip\n",
            "  inflating: 2pageSessions.csv       \n",
            "   creating: __MACOSX/\n",
            "  inflating: __MACOSX/._2pageSessions.csv  \n",
            "  inflating: newsCorpora.csv         \n",
            "  inflating: __MACOSX/._newsCorpora.csv  \n",
            "  inflating: readme.txt              \n",
            "  inflating: __MACOSX/._readme.txt   \n"
          ],
          "name": "stdout"
        }
      ]
    },
    {
      "cell_type": "code",
      "metadata": {
        "id": "Eu097Nq33lU4",
        "colab": {
          "base_uri": "https://localhost:8080/",
          "height": 35
        },
        "outputId": "bd6e3f7e-48c0-4af8-a792-3088958f7875"
      },
      "source": [
        "!wc -l ./newsCorpora.csv"
      ],
      "execution_count": null,
      "outputs": [
        {
          "output_type": "stream",
          "text": [
            "422937 ./newsCorpora.csv\n"
          ],
          "name": "stdout"
        }
      ]
    },
    {
      "cell_type": "code",
      "metadata": {
        "id": "qYpfTYNs3m7C",
        "colab": {
          "base_uri": "https://localhost:8080/",
          "height": 217
        },
        "outputId": "35b8424b-3095-41dd-a6b6-8671363cbd54"
      },
      "source": [
        "!head -10 ./newsCorpora.csv"
      ],
      "execution_count": null,
      "outputs": [
        {
          "output_type": "stream",
          "text": [
            "1\tFed official says weak data caused by weather, should not slow taper\thttp://www.latimes.com/business/money/la-fi-mo-federal-reserve-plosser-stimulus-economy-20140310,0,1312750.story\\?track=rss\tLos Angeles Times\tb\tddUyU0VZz0BRneMioxUPQVP6sIxvM\twww.latimes.com\t1394470370698\n",
            "2\tFed's Charles Plosser sees high bar for change in pace of tapering\thttp://www.livemint.com/Politics/H2EvwJSK2VE6OF7iK1g3PP/Feds-Charles-Plosser-sees-high-bar-for-change-in-pace-of-ta.html\tLivemint\tb\tddUyU0VZz0BRneMioxUPQVP6sIxvM\twww.livemint.com\t1394470371207\n",
            "3\tUS open: Stocks fall after Fed official hints at accelerated tapering\thttp://www.ifamagazine.com/news/us-open-stocks-fall-after-fed-official-hints-at-accelerated-tapering-294436\tIFA Magazine\tb\tddUyU0VZz0BRneMioxUPQVP6sIxvM\twww.ifamagazine.com\t1394470371550\n",
            "4\tFed risks falling 'behind the curve', Charles Plosser says\thttp://www.ifamagazine.com/news/fed-risks-falling-behind-the-curve-charles-plosser-says-294430\tIFA Magazine\tb\tddUyU0VZz0BRneMioxUPQVP6sIxvM\twww.ifamagazine.com\t1394470371793\n",
            "5\tFed's Plosser: Nasty Weather Has Curbed Job Growth\thttp://www.moneynews.com/Economy/federal-reserve-charles-plosser-weather-job-growth/2014/03/10/id/557011\tMoneynews\tb\tddUyU0VZz0BRneMioxUPQVP6sIxvM\twww.moneynews.com\t1394470372027\n",
            "6\tPlosser: Fed May Have to Accelerate Tapering Pace\thttp://www.nasdaq.com/article/plosser-fed-may-have-to-accelerate-tapering-pace-20140310-00371\tNASDAQ\tb\tddUyU0VZz0BRneMioxUPQVP6sIxvM\twww.nasdaq.com\t1394470372212\n",
            "7\tFed's Plosser: Taper pace may be too slow\thttp://www.marketwatch.com/story/feds-plosser-taper-pace-may-be-too-slow-2014-03-10\\?reflink=MW_news_stmp\tMarketWatch\tb\tddUyU0VZz0BRneMioxUPQVP6sIxvM\twww.marketwatch.com\t1394470372405\n",
            "8\tFed's Plosser expects US unemployment to fall to 6.2% by the end of 2014\thttp://www.fxstreet.com/news/forex-news/article.aspx\\?storyid=23285020-b1b5-47ed-a8c4-96124bb91a39\tFXstreet.com\tb\tddUyU0VZz0BRneMioxUPQVP6sIxvM\twww.fxstreet.com\t1394470372615\n",
            "9\tUS jobs growth last month hit by weather:Fed President Charles Plosser\thttp://economictimes.indiatimes.com/news/international/business/us-jobs-growth-last-month-hit-by-weatherfed-president-charles-plosser/articleshow/31788000.cms\tEconomic Times\tb\tddUyU0VZz0BRneMioxUPQVP6sIxvM\teconomictimes.indiatimes.com\t1394470372792\n",
            "10\tECB unlikely to end sterilisation of SMP purchases - traders\thttp://www.iii.co.uk/news-opinion/reuters/news/152615\tInteractive Investor\tb\tdPhGU51DcrolUIMxbRm0InaHGA2XM\twww.iii.co.uk\t1394470501265\n"
          ],
          "name": "stdout"
        }
      ]
    },
    {
      "cell_type": "code",
      "metadata": {
        "id": "-RP3fa9J3odi"
      },
      "source": [
        "# 読込時のエラー回避のためダブルクォーテーションをシングルクォーテーションに置換\n",
        "!sed -e 's/\"/'\\''/g' ./newsCorpora.csv > ./newsCorpora_re.csv"
      ],
      "execution_count": null,
      "outputs": []
    },
    {
      "cell_type": "code",
      "metadata": {
        "id": "72HMxouv3rqG",
        "colab": {
          "base_uri": "https://localhost:8080/",
          "height": 341
        },
        "outputId": "196c3883-c36f-460e-ed59-7c1e2df9fbc1"
      },
      "source": [
        "import pandas as pd\n",
        "from sklearn.model_selection import train_test_split\n",
        "\n",
        "# データの読込\n",
        "df = pd.read_csv('./newsCorpora_re.csv', header=None, sep='\\t', names=['ID', 'TITLE', 'URL', 'PUBLISHER', 'CATEGORY', 'STORY', 'HOSTNAME', 'TIMESTAMP'])\n",
        "\n",
        "# データの抽出\n",
        "df = df.loc[df['PUBLISHER'].isin(['Reuters', 'Huffington Post', 'Businessweek', 'Contactmusic.com', 'Daily Mail']), ['TITLE', 'CATEGORY']]\n",
        "\n",
        "# データの分割\n",
        "train, valid_test = train_test_split(df, test_size=0.2, shuffle=True, random_state=123, stratify=df['CATEGORY'])\n",
        "valid, test = train_test_split(valid_test, test_size=0.5, shuffle=True, random_state=123, stratify=valid_test['CATEGORY'])\n",
        "train.reset_index(drop=True, inplace=True)\n",
        "valid.reset_index(drop=True, inplace=True)\n",
        "test.reset_index(drop=True, inplace=True)\n",
        "\n",
        "# 事例数の確認\n",
        "print('【学習データ】')\n",
        "print(train['CATEGORY'].value_counts())\n",
        "print('【検証データ】')\n",
        "print(valid['CATEGORY'].value_counts())\n",
        "print('【評価データ】')\n",
        "print(test['CATEGORY'].value_counts())"
      ],
      "execution_count": null,
      "outputs": [
        {
          "output_type": "stream",
          "text": [
            "【学習データ】\n",
            "b    4501\n",
            "e    4235\n",
            "t    1220\n",
            "m     728\n",
            "Name: CATEGORY, dtype: int64\n",
            "【検証データ】\n",
            "b    563\n",
            "e    529\n",
            "t    153\n",
            "m     91\n",
            "Name: CATEGORY, dtype: int64\n",
            "【評価データ】\n",
            "b    563\n",
            "e    530\n",
            "t    152\n",
            "m     91\n",
            "Name: CATEGORY, dtype: int64\n"
          ],
          "name": "stdout"
        }
      ]
    },
    {
      "cell_type": "code",
      "metadata": {
        "id": "HwnVr4g_3u4T",
        "colab": {
          "base_uri": "https://localhost:8080/",
          "height": 431
        },
        "outputId": "60190b97-4386-4aa6-a918-6a1861600118"
      },
      "source": [
        "from collections import defaultdict\n",
        "import string\n",
        "\n",
        "# 単語の頻度集計\n",
        "d = defaultdict(int)\n",
        "table = str.maketrans(string.punctuation, ' '*len(string.punctuation))  # 記号をスペースに置換するテーブル\n",
        "for text in train['TITLE']:\n",
        "  for word in text.translate(table).split():\n",
        "    d[word] += 1\n",
        "d = sorted(d.items(), key=lambda x:x[1], reverse=True)\n",
        "\n",
        "# 単語ID辞書の作成\n",
        "word2id = {word: i + 1 for i, (word, cnt) in enumerate(d) if cnt > 1}  # 出現頻度が2回以上の単語を登録\n",
        "\n",
        "print(f'ID数: {len(set(word2id.values()))}\\n')\n",
        "print('---頻度上位20語---')\n",
        "for key in list(word2id)[:20]:\n",
        "    print(f'{key}: {word2id[key]}')"
      ],
      "execution_count": null,
      "outputs": [
        {
          "output_type": "stream",
          "text": [
            "ID数: 9405\n",
            "\n",
            "---頻度上位20語---\n",
            "to: 1\n",
            "s: 2\n",
            "in: 3\n",
            "on: 4\n",
            "UPDATE: 5\n",
            "as: 6\n",
            "US: 7\n",
            "for: 8\n",
            "The: 9\n",
            "of: 10\n",
            "1: 11\n",
            "To: 12\n",
            "2: 13\n",
            "the: 14\n",
            "and: 15\n",
            "In: 16\n",
            "Of: 17\n",
            "a: 18\n",
            "at: 19\n",
            "A: 20\n"
          ],
          "name": "stdout"
        }
      ]
    },
    {
      "cell_type": "code",
      "metadata": {
        "id": "vxw1R-YrYeUs"
      },
      "source": [
        "import torch\n",
        "\n",
        "def tokenizer(text, word2id=word2id, unk=0):\n",
        "  \"\"\" 入力テキストをスペースで分割しID列に変換(辞書になければunkで指定した数字を設定)\"\"\"\n",
        "  table = str.maketrans(string.punctuation, ' '*len(string.punctuation))\n",
        "  return [word2id.get(word, unk) for word in text.translate(table).split()]"
      ],
      "execution_count": null,
      "outputs": []
    },
    {
      "cell_type": "code",
      "metadata": {
        "id": "9Tb4nZnQ8COI",
        "colab": {
          "base_uri": "https://localhost:8080/",
          "height": 53
        },
        "outputId": "d3bcea68-9cf5-4133-976e-96137a54f98e"
      },
      "source": [
        "# 確認\n",
        "text = train.iloc[1, train.columns.get_loc('TITLE')]\n",
        "print(f'テキスト: {text}')\n",
        "print(f'ID列: {tokenizer(text)}')"
      ],
      "execution_count": null,
      "outputs": [
        {
          "output_type": "stream",
          "text": [
            "テキスト: Amazon Plans to Fight FTC Over Mobile-App Purchases\n",
            "ID列: [169, 539, 1, 683, 1237, 82, 279, 1898, 4199]\n"
          ],
          "name": "stdout"
        }
      ]
    },
    {
      "cell_type": "markdown",
      "metadata": {
        "id": "kg6cupCatOp2"
      },
      "source": [
        "## 81. RNNによる予測\n",
        "***\n",
        "ID番号で表現された単語列$\\boldsymbol{x} = (x_1, x_2, \\dots, x_T)$がある．ただし，$T$は単語列の長さ，$x_t \\in \\mathbb{R}^{V}$は単語のID番号のone-hot表記である（$V$は単語の総数である）．再帰型ニューラルネットワーク（RNN: Recurrent Neural Network）を用い，単語列$\\boldsymbol{x}$からカテゴリ$y$を予測するモデルとして，次式を実装せよ．\n",
        "\n",
        "$\n",
        "\\overrightarrow h_0 = 0, \\\\\n",
        "\\overrightarrow h_t = {\\rm \\overrightarrow{RNN}}(\\mathrm{emb}(x_t), \\overrightarrow h_{t-1}), \\\\\n",
        "y = {\\rm softmax}(W^{(yh)} \\overrightarrow h_T + b^{(y)})\n",
        "$\n",
        "\n",
        "ただし，$\\mathrm{emb}(x) \\in \\mathbb{R}^{d_w}$は単語埋め込み（単語のone-hot表記から単語ベクトルに変換する関数），$\\overrightarrow h_t \\in \\mathbb{R}^{d_h}$は時刻$t$の隠れ状態ベクトル，${\\rm \\overrightarrow{RNN}}(x,h)$は入力$x$と前時刻の隠れ状態$h$から次状態を計算するRNNユニット，$W^{(yh)} \\in \\mathbb{R}^{L \\times d_h}$は隠れ状態ベクトルからカテゴリを予測するための行列，$b^{(y)} \\in \\mathbb{R}^{L}$はバイアス項である（$d_w, d_h, L$はそれぞれ，単語埋め込みの次元数，隠れ状態ベクトルの次元数，ラベル数である）．RNNユニット${\\rm \\overrightarrow{RNN}}(x,h)$には様々な構成が考えられるが，典型例として次式が挙げられる．\n",
        "\n",
        "$\n",
        "{\\rm \\overrightarrow{RNN}}(x,h) = g(W^{(hx)} x + W^{(hh)}h + b^{(h)})\n",
        "$\n",
        "\n",
        "ただし，$W^{(hx)} \\in \\mathbb{R}^{d_h \\times d_w}，W^{(hh)} \\in \\mathbb{R}^{d_h \\times d_h}, b^{(h)} \\in \\mathbb{R}^{d_h}$はRNNユニットのパラメータ，$g$は活性化関数（例えば$\\tanh$やReLUなど）である．\n",
        "\n",
        "なお，この問題ではパラメータの学習を行わず，ランダムに初期化されたパラメータで$y$を計算するだけでよい．次元数などのハイパーパラメータは，$d_w = 300, d_h=50$など，適当な値に設定せよ（以降の問題でも同様である）．"
      ]
    },
    {
      "cell_type": "code",
      "metadata": {
        "id": "P1oUpVw9E0Z5"
      },
      "source": [
        "import torch\n",
        "from torch import nn\n",
        "\n",
        "class RNN(nn.Module):\n",
        "  def __init__(self, vocab_size, emb_size, padding_idx, output_size, hidden_size):\n",
        "    super().__init__()\n",
        "    self.hidden_size = hidden_size\n",
        "    self.emb = nn.Embedding(vocab_size, emb_size, padding_idx=padding_idx)\n",
        "    self.rnn = nn.RNN(emb_size, hidden_size, nonlinearity='tanh', batch_first=True)\n",
        "    self.fc = nn.Linear(hidden_size, output_size)\n",
        "    \n",
        "  def forward(self, x):\n",
        "    self.batch_size = x.size()[0]\n",
        "    hidden = self.init_hidden()  # h0のゼロベクトルを作成\n",
        "    emb = self.emb(x)\n",
        "    # emb.size() = (batch_size, seq_len, emb_size)\n",
        "    out, hidden = self.rnn(emb, hidden)\n",
        "    # out.size() = (batch_size, seq_len, hidden_size)\n",
        "    out = self.fc(out[:, -1, :])\n",
        "    # out.size() = (batch_size, output_size)\n",
        "    return out\n",
        "    \n",
        "  def init_hidden(self):\n",
        "    hidden = torch.zeros(1, self.batch_size, self.hidden_size)\n",
        "    return hidden"
      ],
      "execution_count": null,
      "outputs": []
    },
    {
      "cell_type": "code",
      "metadata": {
        "id": "6lmwB5KpVXLT"
      },
      "source": [
        "from torch.utils.data import Dataset\n",
        "\n",
        "class CreateDataset(Dataset):\n",
        "  def __init__(self, X, y, tokenizer):\n",
        "    self.X = X\n",
        "    self.y = y\n",
        "    self.tokenizer = tokenizer\n",
        "\n",
        "  def __len__(self):  # len(Dataset)で返す値を指定\n",
        "    return len(self.y)\n",
        "\n",
        "  def __getitem__(self, index):  # Dataset[index]で返す値を指定\n",
        "    text = self.X[index]\n",
        "    inputs = self.tokenizer(text)\n",
        "\n",
        "    return {\n",
        "      'inputs': torch.tensor(inputs, dtype=torch.int64),\n",
        "      'labels': torch.tensor(self.y[index], dtype=torch.int64)\n",
        "    }"
      ],
      "execution_count": null,
      "outputs": []
    },
    {
      "cell_type": "code",
      "metadata": {
        "id": "_9zREV8wyKvH",
        "colab": {
          "base_uri": "https://localhost:8080/",
          "height": 89
        },
        "outputId": "85d997ac-3e67-446c-89b1-21192c73d849"
      },
      "source": [
        "# ラベルベクトルの作成\n",
        "category_dict = {'b': 0, 't': 1, 'e':2, 'm':3}\n",
        "y_train = train['CATEGORY'].map(lambda x: category_dict[x]).values\n",
        "y_valid = valid['CATEGORY'].map(lambda x: category_dict[x]).values\n",
        "y_test = test['CATEGORY'].map(lambda x: category_dict[x]).values\n",
        "\n",
        "# Datasetの作成\n",
        "dataset_train = CreateDataset(train['TITLE'], y_train, tokenizer)\n",
        "dataset_valid = CreateDataset(valid['TITLE'], y_valid, tokenizer)\n",
        "dataset_test = CreateDataset(test['TITLE'], y_test, tokenizer)\n",
        "\n",
        "print(f'len(Dataset)の出力: {len(dataset_train)}')\n",
        "print('Dataset[index]の出力:')\n",
        "for var in dataset_train[1]:\n",
        "  print(f'  {var}: {dataset_train[1][var]}')"
      ],
      "execution_count": null,
      "outputs": [
        {
          "output_type": "stream",
          "text": [
            "len(Dataset)の出力: 10684\n",
            "Dataset[index]の出力:\n",
            "  inputs: tensor([ 169,  539,    1,  683, 1237,   82,  279, 1898, 4199])\n",
            "  labels: 1\n"
          ],
          "name": "stdout"
        }
      ]
    },
    {
      "cell_type": "code",
      "metadata": {
        "id": "15JKaURP5OSx",
        "colab": {
          "base_uri": "https://localhost:8080/",
          "height": 197
        },
        "outputId": "a89e6f77-efad-43f4-fb79-c2554ac1d2b5"
      },
      "source": [
        "# パラメータの設定\n",
        "VOCAB_SIZE = len(set(word2id.values())) + 1  # 辞書のID数 + パディングID\n",
        "EMB_SIZE = 300\n",
        "PADDING_IDX = len(set(word2id.values()))\n",
        "OUTPUT_SIZE = 4\n",
        "HIDDEN_SIZE = 50\n",
        "\n",
        "# モデルの定義\n",
        "model = RNN(VOCAB_SIZE, EMB_SIZE, PADDING_IDX, OUTPUT_SIZE, HIDDEN_SIZE)\n",
        "\n",
        "# 先頭10件の予測値取得\n",
        "for i in range(10):\n",
        "  X = dataset_train[i]['inputs']\n",
        "  print(torch.softmax(model(X.unsqueeze(0)), dim=-1))"
      ],
      "execution_count": null,
      "outputs": [
        {
          "output_type": "stream",
          "text": [
            "tensor([[0.3273, 0.2282, 0.2454, 0.1992]], grad_fn=<SoftmaxBackward>)\n",
            "tensor([[0.1324, 0.4295, 0.2220, 0.2162]], grad_fn=<SoftmaxBackward>)\n",
            "tensor([[0.4091, 0.2159, 0.1736, 0.2014]], grad_fn=<SoftmaxBackward>)\n",
            "tensor([[0.2081, 0.3668, 0.2390, 0.1861]], grad_fn=<SoftmaxBackward>)\n",
            "tensor([[0.2383, 0.3205, 0.2695, 0.1717]], grad_fn=<SoftmaxBackward>)\n",
            "tensor([[0.3224, 0.1460, 0.1993, 0.3324]], grad_fn=<SoftmaxBackward>)\n",
            "tensor([[0.2012, 0.2345, 0.3660, 0.1982]], grad_fn=<SoftmaxBackward>)\n",
            "tensor([[0.2072, 0.2365, 0.2525, 0.3038]], grad_fn=<SoftmaxBackward>)\n",
            "tensor([[0.2681, 0.3235, 0.1889, 0.2195]], grad_fn=<SoftmaxBackward>)\n",
            "tensor([[0.1969, 0.3336, 0.3064, 0.1631]], grad_fn=<SoftmaxBackward>)\n"
          ],
          "name": "stdout"
        }
      ]
    },
    {
      "cell_type": "markdown",
      "metadata": {
        "id": "1YeO1tfjt8yd"
      },
      "source": [
        "## 82. 確率的勾配降下法による学習\n",
        "***\n",
        "確率的勾配降下法（SGD: Stochastic Gradient Descent）を用いて，問題81で構築したモデルを学習せよ．訓練データ上の損失と正解率，評価データ上の損失と正解率を表示しながらモデルを学習し，適当な基準（例えば10エポックなど）で終了させよ．"
      ]
    },
    {
      "cell_type": "code",
      "metadata": {
        "id": "W6KqxSex39i1"
      },
      "source": [
        "from torch.utils.data import DataLoader\n",
        "import time\n",
        "from torch import optim\n",
        "\n",
        "def calculate_loss_and_accuracy(model, dataset, device=None, criterion=None):\n",
        "  \"\"\"損失・正解率を計算\"\"\"\n",
        "  dataloader = DataLoader(dataset, batch_size=1, shuffle=False)\n",
        "  loss = 0.0\n",
        "  total = 0\n",
        "  correct = 0\n",
        "  with torch.no_grad():\n",
        "    for data in dataloader:\n",
        "      # デバイスの指定\n",
        "      inputs = data['inputs'].to(device)\n",
        "      labels = data['labels'].to(device)\n",
        "\n",
        "      # 順伝播\n",
        "      outputs = model(inputs)\n",
        "\n",
        "      # 損失計算\n",
        "      if criterion != None:\n",
        "        loss += criterion(outputs, labels).item()\n",
        "\n",
        "      # 正解率計算\n",
        "      pred = torch.argmax(outputs, dim=-1)\n",
        "      total += len(inputs)\n",
        "      correct += (pred == labels).sum().item()\n",
        "      \n",
        "  return loss / len(dataset), correct / total\n",
        "  \n",
        "\n",
        "def train_model(dataset_train, dataset_valid, batch_size, model, criterion, optimizer, num_epochs, collate_fn=None, device=None):\n",
        "  \"\"\"モデルの学習を実行し、損失・正解率のログを返す\"\"\"\n",
        "  # デバイスの指定\n",
        "  model.to(device)\n",
        "\n",
        "  # dataloaderの作成\n",
        "  dataloader_train = DataLoader(dataset_train, batch_size=batch_size, shuffle=True, collate_fn=collate_fn)\n",
        "  dataloader_valid = DataLoader(dataset_valid, batch_size=1, shuffle=False)\n",
        "\n",
        "  # スケジューラの設定\n",
        "  scheduler = optim.lr_scheduler.CosineAnnealingLR(optimizer, num_epochs, eta_min=1e-5, last_epoch=-1)\n",
        "\n",
        "  # 学習\n",
        "  log_train = []\n",
        "  log_valid = []\n",
        "  for epoch in range(num_epochs):\n",
        "    # 開始時刻の記録\n",
        "    s_time = time.time()\n",
        "\n",
        "    # 訓練モードに設定\n",
        "    model.train()\n",
        "    for data in dataloader_train:\n",
        "      # 勾配をゼロで初期化\n",
        "      optimizer.zero_grad()\n",
        "\n",
        "      # 順伝播 + 誤差逆伝播 + 重み更新\n",
        "      inputs = data['inputs'].to(device)\n",
        "      labels = data['labels'].to(device)\n",
        "      outputs = model.forward(inputs)\n",
        "      loss = criterion(outputs, labels)\n",
        "      loss.backward()\n",
        "      optimizer.step()\n",
        "    \n",
        "    # 評価モードに設定\n",
        "    model.eval()\n",
        "\n",
        "    # 損失と正解率の算出\n",
        "    loss_train, acc_train = calculate_loss_and_accuracy(model, dataset_train, device, criterion=criterion)\n",
        "    loss_valid, acc_valid = calculate_loss_and_accuracy(model, dataset_valid, device, criterion=criterion)\n",
        "    log_train.append([loss_train, acc_train])\n",
        "    log_valid.append([loss_valid, acc_valid])\n",
        "\n",
        "    # チェックポイントの保存\n",
        "    torch.save({'epoch': epoch, 'model_state_dict': model.state_dict(), 'optimizer_state_dict': optimizer.state_dict()}, f'checkpoint{epoch + 1}.pt')\n",
        "\n",
        "    # 終了時刻の記録\n",
        "    e_time = time.time()\n",
        "\n",
        "    # ログを出力\n",
        "    print(f'epoch: {epoch + 1}, loss_train: {loss_train:.4f}, accuracy_train: {acc_train:.4f}, loss_valid: {loss_valid:.4f}, accuracy_valid: {acc_valid:.4f}, {(e_time - s_time):.4f}sec') \n",
        "\n",
        "    # 検証データの損失が3エポック連続で低下しなかった場合は学習終了\n",
        "    if epoch > 2 and log_valid[epoch - 3][0] <= log_valid[epoch - 2][0] <= log_valid[epoch - 1][0] <= log_valid[epoch][0]:\n",
        "      break\n",
        "      \n",
        "    # スケジューラを1ステップ進める\n",
        "    scheduler.step()\n",
        "\n",
        "  return {'train': log_train, 'valid': log_valid}"
      ],
      "execution_count": null,
      "outputs": []
    },
    {
      "cell_type": "code",
      "metadata": {
        "id": "Eyxz7G2FUJqa"
      },
      "source": [
        "def visualize_logs(log):\n",
        "  fig, ax = plt.subplots(1, 2, figsize=(15, 5))\n",
        "  ax[0].plot(np.array(log['train']).T[0], label='train')\n",
        "  ax[0].plot(np.array(log['valid']).T[0], label='valid')\n",
        "  ax[0].set_xlabel('epoch')\n",
        "  ax[0].set_ylabel('loss')\n",
        "  ax[0].legend()\n",
        "  ax[1].plot(np.array(log['train']).T[1], label='train')\n",
        "  ax[1].plot(np.array(log['valid']).T[1], label='valid')\n",
        "  ax[1].set_xlabel('epoch')\n",
        "  ax[1].set_ylabel('accuracy')\n",
        "  ax[1].legend()\n",
        "  plt.show()"
      ],
      "execution_count": null,
      "outputs": []
    },
    {
      "cell_type": "code",
      "metadata": {
        "id": "RbnR2H37uLop",
        "colab": {
          "base_uri": "https://localhost:8080/",
          "height": 197
        },
        "outputId": "75307da8-2723-4c79-8d2f-05c8d33e582b"
      },
      "source": [
        "# パラメータの設定\n",
        "VOCAB_SIZE = len(set(word2id.values())) + 1  # 辞書のID数 + パディングID\n",
        "EMB_SIZE = 300\n",
        "PADDING_IDX = len(set(word2id.values()))\n",
        "OUTPUT_SIZE = 4\n",
        "HIDDEN_SIZE = 50\n",
        "LEARNING_RATE = 1e-3\n",
        "BATCH_SIZE = 1\n",
        "NUM_EPOCHS = 10\n",
        "\n",
        "# モデルの定義\n",
        "model = RNN(VOCAB_SIZE, EMB_SIZE, PADDING_IDX, OUTPUT_SIZE, HIDDEN_SIZE)\n",
        "\n",
        "# 損失関数の定義\n",
        "criterion = nn.CrossEntropyLoss()\n",
        "\n",
        "# オプティマイザの定義\n",
        "optimizer = torch.optim.SGD(model.parameters(), lr=LEARNING_RATE)\n",
        "\n",
        "# モデルの学習\n",
        "log = train_model(dataset_train, dataset_valid, BATCH_SIZE, model, criterion, optimizer, NUM_EPOCHS)"
      ],
      "execution_count": null,
      "outputs": [
        {
          "output_type": "stream",
          "text": [
            "epoch: 1, loss_train: 1.1079, accuracy_train: 0.5240, loss_valid: 1.1336, accuracy_valid: 0.5052, 87.5733sec\n",
            "epoch: 2, loss_train: 1.0197, accuracy_train: 0.5853, loss_valid: 1.0804, accuracy_valid: 0.5621, 87.3570sec\n",
            "epoch: 3, loss_train: 0.8813, accuracy_train: 0.6736, loss_valid: 0.9771, accuracy_valid: 0.6280, 88.5514sec\n",
            "epoch: 4, loss_train: 0.7444, accuracy_train: 0.7350, loss_valid: 0.8762, accuracy_valid: 0.6849, 90.5669sec\n",
            "epoch: 5, loss_train: 0.6475, accuracy_train: 0.7686, loss_valid: 0.8006, accuracy_valid: 0.7096, 89.6673sec\n",
            "epoch: 6, loss_train: 0.5680, accuracy_train: 0.7935, loss_valid: 0.7516, accuracy_valid: 0.7448, 89.8799sec\n",
            "epoch: 7, loss_train: 0.5171, accuracy_train: 0.8091, loss_valid: 0.7156, accuracy_valid: 0.7507, 89.9183sec\n",
            "epoch: 8, loss_train: 0.4852, accuracy_train: 0.8208, loss_valid: 0.7048, accuracy_valid: 0.7545, 90.4226sec\n",
            "epoch: 9, loss_train: 0.4653, accuracy_train: 0.8263, loss_valid: 0.6948, accuracy_valid: 0.7575, 89.7760sec\n",
            "epoch: 10, loss_train: 0.4603, accuracy_train: 0.8261, loss_valid: 0.6943, accuracy_valid: 0.7627, 89.6361sec\n"
          ],
          "name": "stdout"
        }
      ]
    },
    {
      "cell_type": "code",
      "metadata": {
        "id": "JA4MJiDl0ax1"
      },
      "source": [
        "# ログの可視化\n",
        "visualize_logs(log)\n",
        "\n",
        "# 正解率の算出\n",
        "_, acc_train = calculate_loss_and_accuracy(model, dataset_train)\n",
        "_, acc_test = calculate_loss_and_accuracy(model, dataset_test)\n",
        "print(f'正解率（学習データ）：{acc_train:.3f}')\n",
        "print(f'正解率（評価データ）：{acc_test:.3f}')"
      ],
      "execution_count": null,
      "outputs": []
    },
    {
      "cell_type": "markdown",
      "metadata": {
        "id": "TInOdJ-yuRFC"
      },
      "source": [
        "## 83. ミニバッチ化・GPU上での学習\n",
        "***\n",
        "問題82のコードを改変し，$B$事例ごとに損失・勾配を計算して学習を行えるようにせよ（$B$の値は適当に選べ）．また，GPU上で学習を実行せよ．"
      ]
    },
    {
      "cell_type": "code",
      "metadata": {
        "id": "B2vkIXjn3GvM"
      },
      "source": [
        "class Padsequence():\n",
        "  \"\"\"Dataloaderからミニバッチを取り出すごとに最大系列長でパディング\"\"\"\n",
        "  def __init__(self, padding_idx):\n",
        "    self.padding_idx = padding_idx\n",
        "\n",
        "  def __call__(self, batch):\n",
        "    sorted_batch = sorted(batch, key=lambda x: x['inputs'].shape[0], reverse=True)\n",
        "    sequences = [x['inputs'] for x in sorted_batch]\n",
        "    sequences_padded = torch.nn.utils.rnn.pad_sequence(sequences, batch_first=True, padding_value=self.padding_idx)\n",
        "    labels = torch.LongTensor([x['labels'] for x in sorted_batch])\n",
        "\n",
        "    return {'inputs': sequences_padded, 'labels': labels}"
      ],
      "execution_count": null,
      "outputs": []
    },
    {
      "cell_type": "code",
      "metadata": {
        "id": "9bFyZDDd4G3i",
        "colab": {
          "base_uri": "https://localhost:8080/",
          "height": 197
        },
        "outputId": "7c6e260e-a617-4a18-d9b9-8ab42acb337b"
      },
      "source": [
        "# パラメータの設定\n",
        "VOCAB_SIZE = len(set(word2id.values())) + 1  # 辞書のID数 + パディングID\n",
        "EMB_SIZE = 300\n",
        "PADDING_IDX = len(set(word2id.values()))\n",
        "OUTPUT_SIZE = 4\n",
        "HIDDEN_SIZE = 50\n",
        "LEARNING_RATE = 5e-2\n",
        "BATCH_SIZE = 32\n",
        "NUM_EPOCHS = 10\n",
        "\n",
        "# モデルの定義\n",
        "model = RNN(VOCAB_SIZE, EMB_SIZE, PADDING_IDX, OUTPUT_SIZE, HIDDEN_SIZE)\n",
        "\n",
        "# 損失関数の定義\n",
        "criterion = nn.CrossEntropyLoss()\n",
        "\n",
        "# オプティマイザの定義\n",
        "optimizer = torch.optim.SGD(model.parameters(), lr=LEARNING_RATE)\n",
        "\n",
        "# デバイスの指定\n",
        "#device = torch.device('cuda')\n",
        "device = torch.device('cpu')\n",
        "\n",
        "# モデルの学習\n",
        "log = train_model(dataset_train, dataset_valid, BATCH_SIZE, model, criterion, optimizer, NUM_EPOCHS, collate_fn=Padsequence(PADDING_IDX), device=device)"
      ],
      "execution_count": null,
      "outputs": [
        {
          "output_type": "stream",
          "text": [
            "epoch: 1, loss_train: 1.2435, accuracy_train: 0.4152, loss_valid: 1.2478, accuracy_valid: 0.4124, 11.4526sec\n",
            "epoch: 2, loss_train: 1.1968, accuracy_train: 0.4689, loss_valid: 1.2106, accuracy_valid: 0.4491, 11.1898sec\n",
            "epoch: 3, loss_train: 1.0843, accuracy_train: 0.5854, loss_valid: 1.1033, accuracy_valid: 0.5629, 11.1178sec\n",
            "epoch: 4, loss_train: 1.0538, accuracy_train: 0.6118, loss_valid: 1.0781, accuracy_valid: 0.5943, 11.2262sec\n",
            "epoch: 5, loss_train: 1.1818, accuracy_train: 0.5166, loss_valid: 1.2275, accuracy_valid: 0.4933, 11.2383sec\n",
            "epoch: 6, loss_train: 1.1254, accuracy_train: 0.5518, loss_valid: 1.1650, accuracy_valid: 0.5314, 11.2434sec\n",
            "epoch: 7, loss_train: 1.0428, accuracy_train: 0.6083, loss_valid: 1.0773, accuracy_valid: 0.5823, 11.1965sec\n",
            "epoch: 8, loss_train: 1.0125, accuracy_train: 0.6317, loss_valid: 1.0620, accuracy_valid: 0.5906, 11.2190sec\n",
            "epoch: 9, loss_train: 0.9992, accuracy_train: 0.6397, loss_valid: 1.0440, accuracy_valid: 0.5988, 11.2321sec\n",
            "epoch: 10, loss_train: 0.9886, accuracy_train: 0.6468, loss_valid: 1.0388, accuracy_valid: 0.6003, 11.2227sec\n"
          ],
          "name": "stdout"
        }
      ]
    },
    {
      "cell_type": "code",
      "metadata": {
        "id": "oZCdS6ObSdCH",
        "colab": {
          "base_uri": "https://localhost:8080/",
          "height": 370
        },
        "outputId": "0a4ee145-8a39-4f9f-f751-b949ec8a2bc8"
      },
      "source": [
        "# ログの可視化\n",
        "visualize_logs(log)\n",
        "\n",
        "# 正解率の算出\n",
        "_, acc_train = calculate_loss_and_accuracy(model, dataset_train, device)\n",
        "_, acc_test = calculate_loss_and_accuracy(model, dataset_test, device)\n",
        "print(f'正解率（学習データ）：{acc_train:.3f}')\n",
        "print(f'正解率（評価データ）：{acc_test:.3f}')"
      ],
      "execution_count": null,
      "outputs": [
        {
          "output_type": "display_data",
          "data": {
            "image/png": "[encoded data removed]",
            "text/plain": [
              "<Figure size 1080x360 with 2 Axes>"
            ]
          },
          "metadata": {
            "tags": [],
            "needs_background": "light"
          }
        },
        {
          "output_type": "stream",
          "text": [
            "正解率（学習データ）：0.647\n",
            "正解率（評価データ）：0.618\n"
          ],
          "name": "stdout"
        }
      ]
    },
    {
      "cell_type": "markdown",
      "metadata": {
        "id": "K0rt9DYxuwR_"
      },
      "source": [
        "## 84. 単語ベクトルの導入\n",
        "***\n",
        "事前学習済みの単語ベクトル（例えば，Google Newsデータセット（約1,000億単語）での学習済み単語ベクトル）で単語埋め込み$emb(x)$を初期化し，学習せよ．"
      ]
    },
    {
      "cell_type": "code",
      "metadata": {
        "id": "EOWVVcrdqEOH",
        "colab": {
          "base_uri": "https://localhost:8080/",
          "height": 469
        },
        "outputId": "c4bf14bb-400d-44dd-a146-4db762783410"
      },
      "source": [
        "# 学習済み単語ベクトルのダウンロード\n",
        "FILE_ID = \"0B7XkCwpI5KDYNlNUTTlSS21pQmM\"\n",
        "FILE_NAME = \"GoogleNews-vectors-negative300.bin.gz\"\n",
        "!wget --load-cookies /tmp/cookies.txt \"https://docs.google.com/uc?export=download&confirm=$(wget --quiet --save-cookies /tmp/cookies.txt --keep-session-cookies --no-check-certificate 'https://docs.google.com/uc?export=download&id=$FILE_ID' -O- | sed -rn 's/.*confirm=([0-9A-Za-z_]+).*/\\1\\n/p')&id=$FILE_ID\" -O $FILE_NAME && rm -rf /tmp/cookies.txt"
      ],
      "execution_count": null,
      "outputs": [
        {
          "output_type": "stream",
          "text": [
            "--2020-06-17 12:45:25--  https://docs.google.com/uc?export=download&confirm=lzAP&id=0B7XkCwpI5KDYNlNUTTlSS21pQmM\n",
            "Resolving docs.google.com (docs.google.com)... 173.194.79.101, 173.194.79.113, 173.194.79.138, ...\n",
            "Connecting to docs.google.com (docs.google.com)|173.194.79.101|:443... connected.\n",
            "HTTP request sent, awaiting response... 302 Moved Temporarily\n",
            "Location: https://doc-08-6s-docs.googleusercontent.com/docs/securesc/8bht380iu8t5ninns56qnujgnk9g07h4/56m4oi4drb0mngvkf740631gg93tebrc/1592397900000/06848720943842814915/09660123475506273832Z/0B7XkCwpI5KDYNlNUTTlSS21pQmM?e=download [following]\n",
            "--2020-06-17 12:45:26--  https://doc-08-6s-docs.googleusercontent.com/docs/securesc/8bht380iu8t5ninns56qnujgnk9g07h4/56m4oi4drb0mngvkf740631gg93tebrc/1592397900000/06848720943842814915/09660123475506273832Z/0B7XkCwpI5KDYNlNUTTlSS21pQmM?e=download\n",
            "Resolving doc-08-6s-docs.googleusercontent.com (doc-08-6s-docs.googleusercontent.com)... 108.177.126.132, 2a00:1450:4013:c01::84\n",
            "Connecting to doc-08-6s-docs.googleusercontent.com (doc-08-6s-docs.googleusercontent.com)|108.177.126.132|:443... connected.\n",
            "HTTP request sent, awaiting response... 302 Found\n",
            "Location: https://docs.google.com/nonceSigner?nonce=4dgchc5os852g&continue=https://doc-08-6s-docs.googleusercontent.com/docs/securesc/8bht380iu8t5ninns56qnujgnk9g07h4/56m4oi4drb0mngvkf740631gg93tebrc/1592397900000/06848720943842814915/09660123475506273832Z/0B7XkCwpI5KDYNlNUTTlSS21pQmM?e%3Ddownload&hash=t25cjhmm1r2ojc5s5visanosdi11ege4 [following]\n",
            "--2020-06-17 12:45:27--  https://docs.google.com/nonceSigner?nonce=4dgchc5os852g&continue=https://doc-08-6s-docs.googleusercontent.com/docs/securesc/8bht380iu8t5ninns56qnujgnk9g07h4/56m4oi4drb0mngvkf740631gg93tebrc/1592397900000/06848720943842814915/09660123475506273832Z/0B7XkCwpI5KDYNlNUTTlSS21pQmM?e%3Ddownload&hash=t25cjhmm1r2ojc5s5visanosdi11ege4\n",
            "Connecting to docs.google.com (docs.google.com)|173.194.79.101|:443... connected.\n",
            "HTTP request sent, awaiting response... 302 Found\n",
            "Location: https://doc-08-6s-docs.googleusercontent.com/docs/securesc/8bht380iu8t5ninns56qnujgnk9g07h4/56m4oi4drb0mngvkf740631gg93tebrc/1592397900000/06848720943842814915/09660123475506273832Z/0B7XkCwpI5KDYNlNUTTlSS21pQmM?e=download&nonce=4dgchc5os852g&user=09660123475506273832Z&hash=q227sfd9k9cuifofifb6evtv2qvkuvca [following]\n",
            "--2020-06-17 12:45:27--  https://doc-08-6s-docs.googleusercontent.com/docs/securesc/8bht380iu8t5ninns56qnujgnk9g07h4/56m4oi4drb0mngvkf740631gg93tebrc/1592397900000/06848720943842814915/09660123475506273832Z/0B7XkCwpI5KDYNlNUTTlSS21pQmM?e=download&nonce=4dgchc5os852g&user=09660123475506273832Z&hash=q227sfd9k9cuifofifb6evtv2qvkuvca\n",
            "Connecting to doc-08-6s-docs.googleusercontent.com (doc-08-6s-docs.googleusercontent.com)|108.177.126.132|:443... connected.\n",
            "HTTP request sent, awaiting response... 200 OK\n",
            "Length: unspecified [application/x-gzip]\n",
            "Saving to: ‘GoogleNews-vectors-negative300.bin.gz’\n",
            "\n",
            "GoogleNews-vectors-     [          <=>       ]   1.53G  91.0MB/s    in 10s     \n",
            "\n",
            "2020-06-17 12:45:38 (156 MB/s) - ‘GoogleNews-vectors-negative300.bin.gz’ saved [1647046227]\n",
            "\n"
          ],
          "name": "stdout"
        }
      ]
    },
    {
      "cell_type": "code",
      "metadata": {
        "id": "djVNDrjPJ5M-",
        "colab": {
          "base_uri": "https://localhost:8080/",
          "height": 109
        },
        "outputId": "b111172e-388a-4d6a-8c69-d3473ad97b17"
      },
      "source": [
        "from gensim.models import KeyedVectors\n",
        "\n",
        "# 学習済みモデルのロード\n",
        "model = KeyedVectors.load_word2vec_format('./GoogleNews-vectors-negative300.bin.gz', binary=True)\n",
        "\n",
        "# 学習済み単語ベクトルの取得\n",
        "VOCAB_SIZE = len(set(word2id.values())) + 1\n",
        "EMB_SIZE = 300\n",
        "weights = np.zeros((VOCAB_SIZE, EMB_SIZE))\n",
        "words_in_pretrained = 0\n",
        "for i, word in enumerate(word2id.keys()):\n",
        "  try:\n",
        "    weights[i] = model[word]\n",
        "    words_in_pretrained += 1\n",
        "  except KeyError:\n",
        "    weights[i] = np.random.normal(scale=0.4, size=(EMB_SIZE,))\n",
        "weights = torch.from_numpy(weights.astype((np.float32)))\n",
        "\n",
        "print(f'学習済みベクトル利用単語数: {words_in_pretrained} / {VOCAB_SIZE}')\n",
        "print(weights.size())"
      ],
      "execution_count": null,
      "outputs": [
        {
          "output_type": "stream",
          "text": [
            "/usr/local/lib/python3.6/dist-packages/smart_open/smart_open_lib.py:253: UserWarning: This function is deprecated, use smart_open.open instead. See the migration notes for details: https://github.com/RaRe-Technologies/smart_open/blob/master/README.rst#migrating-to-the-new-open-function\n",
            "  'See the migration notes for details: %s' % _MIGRATION_NOTES_URL\n"
          ],
          "name": "stderr"
        },
        {
          "output_type": "stream",
          "text": [
            "学習済みベクトル利用単語数: 9174 / 9406\n",
            "torch.Size([9406, 300])\n"
          ],
          "name": "stdout"
        }
      ]
    },
    {
      "cell_type": "code",
      "metadata": {
        "id": "4A1UkAVQwELp"
      },
      "source": [
        "class RNN(nn.Module):\n",
        "  def __init__(self, vocab_size, emb_size, padding_idx, output_size, hidden_size, num_layers, emb_weights=None, bidirectional=False):\n",
        "    super().__init__()\n",
        "    self.hidden_size = hidden_size\n",
        "    self.num_layers = num_layers\n",
        "    self.num_directions = bidirectional + 1  # 単方向：1、双方向：2\n",
        "    if emb_weights != None:  # 指定があれば埋め込み層の重みをemb_weightsで初期化\n",
        "      self.emb = nn.Embedding.from_pretrained(emb_weights, padding_idx=padding_idx)\n",
        "    else:\n",
        "      self.emb = nn.Embedding(vocab_size, emb_size, padding_idx=padding_idx)\n",
        "    self.rnn = nn.RNN(emb_size, hidden_size, num_layers, nonlinearity='tanh', bidirectional=bidirectional, batch_first=True)\n",
        "    self.fc = nn.Linear(hidden_size * self.num_directions, output_size)\n",
        "    \n",
        "  def forward(self, x):\n",
        "    self.batch_size = x.size()[0]\n",
        "    hidden = self.init_hidden()  # h0のゼロベクトルを作成\n",
        "    emb = self.emb(x)\n",
        "    # emb.size() = (batch_size, seq_len, emb_size)\n",
        "    out, hidden = self.rnn(emb, hidden)\n",
        "    # out.size() = (batch_size, seq_len, hidden_size * num_directions)\n",
        "    out = self.fc(out[:, -1, :])\n",
        "    # out.size() = (batch_size, output_size)\n",
        "    return out\n",
        "    \n",
        "  def init_hidden(self):\n",
        "    hidden = torch.zeros(self.num_layers * self.num_directions, self.batch_size, self.hidden_size)\n",
        "    return hidden"
      ],
      "execution_count": null,
      "outputs": []
    },
    {
      "cell_type": "code",
      "metadata": {
        "id": "BDDTMWDcwi4c",
        "colab": {
          "base_uri": "https://localhost:8080/",
          "height": 179
        },
        "outputId": "b03b13c4-6bc3-437e-c42f-74624a7f3e00"
      },
      "source": [
        "# パラメータの設定\n",
        "VOCAB_SIZE = len(set(word2id.values())) + 1  # 辞書のID数 + パディングID\n",
        "EMB_SIZE = 300\n",
        "PADDING_IDX = len(set(word2id.values()))\n",
        "OUTPUT_SIZE = 4\n",
        "HIDDEN_SIZE = 50\n",
        "NUM_LAYERS = 1\n",
        "LEARNING_RATE = 5e-2\n",
        "BATCH_SIZE = 32\n",
        "NUM_EPOCHS = 10\n",
        "\n",
        "# モデルの定義\n",
        "model = RNN(VOCAB_SIZE, EMB_SIZE, PADDING_IDX, OUTPUT_SIZE, HIDDEN_SIZE, NUM_LAYERS, emb_weights=weights)\n",
        "\n",
        "# 損失関数の定義\n",
        "criterion = nn.CrossEntropyLoss()\n",
        "\n",
        "# オプティマイザの定義\n",
        "optimizer = torch.optim.SGD(model.parameters(), lr=LEARNING_RATE)\n",
        "\n",
        "# デバイスの指定\n",
        "#device = torch.device('cuda')\n",
        "device = torch.device('cpu')\n",
        "\n",
        "# モデルの学習\n",
        "log = train_model(dataset_train, dataset_valid, BATCH_SIZE, model, criterion, optimizer, NUM_EPOCHS, collate_fn=Padsequence(PADDING_IDX), device=device)"
      ],
      "execution_count": null,
      "outputs": [
        {
          "output_type": "stream",
          "text": [
            "epoch: 2, loss_train: 1.1910, accuracy_train: 0.3952, loss_valid: 1.2043, accuracy_valid: 0.3967, 8.5543sec\n",
            "epoch: 3, loss_train: 1.0754, accuracy_train: 0.5959, loss_valid: 1.1184, accuracy_valid: 0.5749, 8.5370sec\n",
            "epoch: 4, loss_train: 1.0165, accuracy_train: 0.6400, loss_valid: 1.0331, accuracy_valid: 0.6317, 8.5823sec\n",
            "epoch: 5, loss_train: 1.0061, accuracy_train: 0.6433, loss_valid: 1.0337, accuracy_valid: 0.6228, 8.5881sec\n",
            "epoch: 6, loss_train: 0.9627, accuracy_train: 0.6572, loss_valid: 1.0068, accuracy_valid: 0.6407, 8.6434sec\n",
            "epoch: 7, loss_train: 0.9360, accuracy_train: 0.6659, loss_valid: 0.9661, accuracy_valid: 0.6542, 8.5572sec\n",
            "epoch: 8, loss_train: 0.9829, accuracy_train: 0.6479, loss_valid: 1.0255, accuracy_valid: 0.6257, 8.5261sec\n",
            "epoch: 9, loss_train: 0.9470, accuracy_train: 0.6655, loss_valid: 0.9796, accuracy_valid: 0.6452, 8.5703sec\n",
            "epoch: 10, loss_train: 0.9456, accuracy_train: 0.6662, loss_valid: 0.9828, accuracy_valid: 0.6415, 8.7266sec\n"
          ],
          "name": "stdout"
        }
      ]
    },
    {
      "cell_type": "code",
      "metadata": {
        "id": "Y4DiZo0D385u",
        "colab": {
          "base_uri": "https://localhost:8080/",
          "height": 370
        },
        "outputId": "114f791f-256b-43b7-e6a5-9d73bd0780e1"
      },
      "source": [
        "# ログの可視化\n",
        "visualize_logs(log)\n",
        "\n",
        "# 正解率の算出\n",
        "_, acc_train = calculate_loss_and_accuracy(model, dataset_train, device)\n",
        "_, acc_test = calculate_loss_and_accuracy(model, dataset_test, device)\n",
        "print(f'正解率（学習データ）：{acc_train:.3f}')\n",
        "print(f'正解率（評価データ）：{acc_test:.3f}')"
      ],
      "execution_count": null,
      "outputs": [
        {
          "output_type": "display_data",
          "data": {
            "image/png": "[encoded data removed]",
            "text/plain": [
              "<Figure size 1080x360 with 2 Axes>"
            ]
          },
          "metadata": {
            "tags": [],
            "needs_background": "light"
          }
        },
        {
          "output_type": "stream",
          "text": [
            "正解率（学習データ）：0.666\n",
            "正解率（評価データ）：0.647\n"
          ],
          "name": "stdout"
        }
      ]
    },
    {
      "cell_type": "markdown",
      "metadata": {
        "id": "XB_KVxyZvG82"
      },
      "source": [
        "## 85. 双方向RNN・多層化\n",
        "***\n",
        "順方向と逆方向のRNNの両方を用いて入力テキストをエンコードし，モデルを学習せよ．\n",
        "\n",
        "$\n",
        "\\overleftarrow h_{T+1} = 0, \\\\\n",
        "\\overleftarrow h_t = {\\rm \\overleftarrow{RNN}}(\\mathrm{emb}(x_t), \\overleftarrow h_{t+1}), \\\\\n",
        "y = {\\rm softmax}(W^{(yh)} [\\overrightarrow h_T; \\overleftarrow h_1] + b^{(y)})\n",
        "$\n",
        "\n",
        "ただし，$\\overrightarrow h_t \\in \\mathbb{R}^{d_h}, \\overleftarrow h_t \\in \\mathbb{R}^{d_h}$はそれぞれ，順方向および逆方向のRNNで求めた時刻$t$の隠れ状態ベクトル，${\\rm \\overleftarrow{RNN}}(x,h)$は入力$x$と次時刻の隠れ状態$h$から前状態を計算するRNNユニット，$W^{(yh)} \\in \\mathbb{R}^{L \\times 2d_h}$は隠れ状態ベクトルからカテゴリを予測するための行列，$b^{(y)} \\in \\mathbb{R}^{L}$はバイアス項である．また，$[a; b]$はベクトル$a$と$b$の連結を表す。\n",
        "\n",
        "さらに，双方向RNNを多層化して実験せよ．"
      ]
    },
    {
      "cell_type": "code",
      "metadata": {
        "id": "_aBzmiT_9Gql",
        "colab": {
          "base_uri": "https://localhost:8080/",
          "height": 197
        },
        "outputId": "d5f95608-ecd7-4636-9288-2c387437748e"
      },
      "source": [
        "# パラメータの設定\n",
        "VOCAB_SIZE = len(set(word2id.values())) + 1  # 辞書のID数 + パディングID\n",
        "EMB_SIZE = 300\n",
        "PADDING_IDX = len(set(word2id.values()))\n",
        "OUTPUT_SIZE = 4\n",
        "HIDDEN_SIZE = 50\n",
        "NUM_LAYERS = 2\n",
        "LEARNING_RATE = 5e-2\n",
        "BATCH_SIZE = 32\n",
        "NUM_EPOCHS = 10\n",
        "\n",
        "# モデルの定義\n",
        "model = RNN(VOCAB_SIZE, EMB_SIZE, PADDING_IDX, OUTPUT_SIZE, HIDDEN_SIZE, NUM_LAYERS, emb_weights=weights, bidirectional=True)\n",
        "\n",
        "# 損失関数の定義\n",
        "criterion = nn.CrossEntropyLoss()\n",
        "\n",
        "# オプティマイザの定義\n",
        "optimizer = torch.optim.SGD(model.parameters(), lr=LEARNING_RATE)\n",
        "\n",
        "# デバイスの指定\n",
        "#device = torch.device('cuda')\n",
        "device = torch.device('cpu')\n",
        "\n",
        "# モデルの学習\n",
        "log = train_model(dataset_train, dataset_valid, BATCH_SIZE, model, criterion, optimizer, NUM_EPOCHS, collate_fn=Padsequence(PADDING_IDX), device=device)"
      ],
      "execution_count": null,
      "outputs": [
        {
          "output_type": "stream",
          "text": [
            "epoch: 1, loss_train: 1.1651, accuracy_train: 0.4486, loss_valid: 1.1917, accuracy_valid: 0.4229, 17.6173sec\n",
            "epoch: 2, loss_train: 1.1998, accuracy_train: 0.5170, loss_valid: 1.2576, accuracy_valid: 0.4820, 17.7801sec\n",
            "epoch: 3, loss_train: 1.1086, accuracy_train: 0.5525, loss_valid: 1.1294, accuracy_valid: 0.5382, 17.6062sec\n",
            "epoch: 4, loss_train: 1.0089, accuracy_train: 0.6261, loss_valid: 1.0434, accuracy_valid: 0.6040, 17.5407sec\n",
            "epoch: 5, loss_train: 1.0226, accuracy_train: 0.6152, loss_valid: 1.0740, accuracy_valid: 0.5906, 17.6259sec\n",
            "epoch: 6, loss_train: 1.0825, accuracy_train: 0.5814, loss_valid: 1.1360, accuracy_valid: 0.5606, 17.5755sec\n",
            "epoch: 7, loss_train: 1.0577, accuracy_train: 0.5943, loss_valid: 1.1187, accuracy_valid: 0.5681, 17.6940sec\n",
            "epoch: 8, loss_train: 1.0269, accuracy_train: 0.6138, loss_valid: 1.0800, accuracy_valid: 0.5966, 17.5334sec\n",
            "epoch: 9, loss_train: 0.9467, accuracy_train: 0.6473, loss_valid: 0.9826, accuracy_valid: 0.6317, 17.5394sec\n",
            "epoch: 10, loss_train: 0.9843, accuracy_train: 0.6313, loss_valid: 1.0357, accuracy_valid: 0.6085, 17.6068sec\n"
          ],
          "name": "stdout"
        }
      ]
    },
    {
      "cell_type": "code",
      "metadata": {
        "id": "91L2zx4KFnRN",
        "colab": {
          "base_uri": "https://localhost:8080/",
          "height": 370
        },
        "outputId": "0e9611b8-8def-43d2-f2a0-6139d5dd81ca"
      },
      "source": [
        "# ログの可視化\n",
        "visualize_logs(log)\n",
        "\n",
        "# 正解率の算出\n",
        "_, acc_train = calculate_loss_and_accuracy(model, dataset_train, device)\n",
        "_, acc_test = calculate_loss_and_accuracy(model, dataset_test, device)\n",
        "print(f'正解率（学習データ）：{acc_train:.3f}')\n",
        "print(f'正解率（評価データ）：{acc_test:.3f}')"
      ],
      "execution_count": null,
      "outputs": [
        {
          "output_type": "display_data",
          "data": {
            "image/png": "[encoded data removed]",
            "text/plain": [
              "<Figure size 1080x360 with 2 Axes>"
            ]
          },
          "metadata": {
            "tags": [],
            "needs_background": "light"
          }
        },
        {
          "output_type": "stream",
          "text": [
            "正解率（学習データ）：0.631\n",
            "正解率（評価データ）：0.613\n"
          ],
          "name": "stdout"
        }
      ]
    },
    {
      "cell_type": "markdown",
      "metadata": {
        "id": "APALw9Z9viTh"
      },
      "source": [
        "## 86. 畳み込みニューラルネットワーク (CNN)\n",
        "***\n",
        "ID番号で表現された単語列$\\boldsymbol x = (x_1, x_2, \\dots, x_T)$がある．ただし，$T$は単語列の長さ，$x_t \\in \\mathbb{R}^{V}$は単語のID番号のone-hot表記である（$V$は単語の総数である）．畳み込みニューラルネットワーク（CNN: Convolutional Neural Network）を用い，単語列$\\boldsymbol x$からカテゴリ$y$を予測するモデルを実装せよ．\n",
        "\n",
        "ただし，畳み込みニューラルネットワークの構成は以下の通りとする．\n",
        "\n",
        "+ 単語埋め込みの次元数: $d_w$\n",
        "+ 畳み込みのフィルターのサイズ: 3 トークン\n",
        "+ 畳み込みのストライド: 1 トークン\n",
        "+ 畳み込みのパディング: あり\n",
        "+ 畳み込み演算後の各時刻のベクトルの次元数: $d_h$\n",
        "+ 畳み込み演算後に最大値プーリング（max pooling）を適用し，入力文を$d_h$次元の隠れベクトルで表現\n",
        " すなわち，時刻$t$の特徴ベクトル$p_t \\in \\mathbb{R}^{d_h}$は次式で表される．\n",
        "\n",
        "$\n",
        "p_t = g(W^{(px)} [\\mathrm{emb}(x_{t-1}); \\mathrm{emb}(x_t); \\mathrm{emb}(x_{t+1})] + b^{(p)})\n",
        "$]\n",
        "\n",
        "ただし，$W^{(px)} \\in \\mathbb{R}^{d_h \\times 3d_w}, b^{(p)} \\in \\mathbb{R}^{d_h}$はCNNのパラメータ，$g$は活性化関数（例えば$\\tanh$やReLUなど），$[a; b; c]$はベクトル$a, b, c$の連結である．なお，行列$W^{(px)}$の列数が$3d_w$になるのは，3個のトークンの単語埋め込みを連結したものに対して，線形変換を行うためである．\n",
        "最大値プーリングでは，特徴ベクトルの次元毎に全時刻における最大値を取り，入力文書の特徴ベクトル$c \\in \\mathbb{R}^{d_h}$を求める．$c[i]$でベクトル$c$の$i$番目の次元の値を表すことにすると，最大値プーリングは次式で表される．\n",
        "\n",
        "$\n",
        "c[i] = \\max_{1 \\leq t \\leq T} p_t[i]\n",
        "$\n",
        "\n",
        " 最後に，入力文書の特徴ベクトル$c$に行列$W^{(yc)} \\in \\mathbb{R}^{L \\times d_h}$とバイアス項$b^{(y)} \\in \\mathbb{R}^{L}$による線形変換とソフトマックス関数を適用し，カテゴリ$y$を予測する．\n",
        "\n",
        "$\n",
        "y = {\\rm softmax}(W^{(yc)} c + b^{(y)})\n",
        "$\n",
        "\n",
        "なお，この問題ではモデルの学習を行わず，ランダムに初期化された重み行列で$y$を計算するだけでよい．"
      ]
    },
    {
      "cell_type": "code",
      "metadata": {
        "id": "_JJIMQXlJXYy"
      },
      "source": [
        "from torch.nn import functional as F\n",
        "\n",
        "class CNN(nn.Module):\n",
        "  def __init__(self, vocab_size, emb_size, padding_idx, output_size, out_channels, kernel_heights, stride, padding, emb_weights=None):\n",
        "    super().__init__()\n",
        "    if emb_weights != None:  # 指定があれば埋め込み層の重みをemb_weightsで初期化\n",
        "      self.emb = nn.Embedding.from_pretrained(emb_weights, padding_idx=padding_idx)\n",
        "    else:\n",
        "      self.emb = nn.Embedding(vocab_size, emb_size, padding_idx=padding_idx)\n",
        "    self.conv = nn.Conv2d(1, out_channels, (kernel_heights, emb_size), stride, (padding, 0))\n",
        "    self.drop = nn.Dropout(0.3)\n",
        "    self.fc = nn.Linear(out_channels, output_size)\n",
        "    \n",
        "  def forward(self, x):\n",
        "    # x.size() = (batch_size, seq_len)\n",
        "    emb = self.emb(x).unsqueeze(1)\n",
        "    # emb.size() = (batch_size, 1, seq_len, emb_size)\n",
        "    conv = self.conv(emb)\n",
        "    # conv.size() = (batch_size, out_channels, seq_len, 1)\n",
        "    act = F.relu(conv.squeeze(3))\n",
        "    # act.size() = (batch_size, out_channels, seq_len)\n",
        "    max_pool = F.max_pool1d(act, act.size()[2])\n",
        "    # max_pool.size() = (batch_size, out_channels, 1) -> seq_len方向に最大値を取得\n",
        "    out = self.fc(self.drop(max_pool.squeeze(2)))\n",
        "    # out.size() = (batch_size, output_size)\n",
        "    return out"
      ],
      "execution_count": null,
      "outputs": []
    },
    {
      "cell_type": "code",
      "metadata": {
        "id": "xHiHm_ZPQYYZ",
        "colab": {
          "base_uri": "https://localhost:8080/",
          "height": 197
        },
        "outputId": "177743de-7704-4304-d15b-114db5d117fa"
      },
      "source": [
        "# パラメータの設定\n",
        "VOCAB_SIZE = len(set(word2id.values())) + 1  # 辞書のID数 + パディングID\n",
        "EMB_SIZE = 300\n",
        "PADDING_IDX = len(set(word2id.values()))\n",
        "OUTPUT_SIZE = 4\n",
        "OUT_CHANNELS = 100\n",
        "KERNEL_HEIGHTS = 3\n",
        "STRIDE = 1\n",
        "PADDING = 1\n",
        "\n",
        "# モデルの定義\n",
        "model = CNN(VOCAB_SIZE, EMB_SIZE, PADDING_IDX, OUTPUT_SIZE, OUT_CHANNELS, KERNEL_HEIGHTS, STRIDE, PADDING, emb_weights=weights)\n",
        "\n",
        "# 先頭10件の予測値取得\n",
        "for i in range(10):\n",
        "  X = dataset_train[i]['inputs']\n",
        "  print(torch.softmax(model(X.unsqueeze(0)), dim=-1))"
      ],
      "execution_count": null,
      "outputs": [
        {
          "output_type": "stream",
          "text": [
            "tensor([[0.2147, 0.2028, 0.3156, 0.2669]], grad_fn=<SoftmaxBackward>)\n",
            "tensor([[0.2341, 0.2047, 0.2999, 0.2612]], grad_fn=<SoftmaxBackward>)\n",
            "tensor([[0.2225, 0.2443, 0.2795, 0.2538]], grad_fn=<SoftmaxBackward>)\n",
            "tensor([[0.2110, 0.2021, 0.3058, 0.2811]], grad_fn=<SoftmaxBackward>)\n",
            "tensor([[0.2178, 0.2192, 0.2740, 0.2890]], grad_fn=<SoftmaxBackward>)\n",
            "tensor([[0.2105, 0.1714, 0.3283, 0.2899]], grad_fn=<SoftmaxBackward>)\n",
            "tensor([[0.2456, 0.2161, 0.2943, 0.2440]], grad_fn=<SoftmaxBackward>)\n",
            "tensor([[0.2146, 0.1642, 0.3159, 0.3053]], grad_fn=<SoftmaxBackward>)\n",
            "tensor([[0.2119, 0.2169, 0.3154, 0.2557]], grad_fn=<SoftmaxBackward>)\n",
            "tensor([[0.2306, 0.2179, 0.2853, 0.2662]], grad_fn=<SoftmaxBackward>)\n"
          ],
          "name": "stdout"
        }
      ]
    },
    {
      "cell_type": "markdown",
      "metadata": {
        "id": "_IIZIrc0v9kc"
      },
      "source": [
        "## 87. 確率的勾配降下法によるCNNの学習\n",
        "***\n",
        "確率的勾配降下法（SGD: Stochastic Gradient Descent）を用いて，問題86で構築したモデルを学習せよ．訓練データ上の損失と正解率，評価データ上の損失と正解率を表示しながらモデルを学習し，適当な基準（例えば10エポックなど）で終了させよ．"
      ]
    },
    {
      "cell_type": "code",
      "metadata": {
        "id": "C-x4zEqsKMpf",
        "colab": {
          "base_uri": "https://localhost:8080/",
          "height": 197
        },
        "outputId": "994cc72b-519b-4219-ad41-573d365dc203"
      },
      "source": [
        "# パラメータの設定\n",
        "VOCAB_SIZE = len(set(word2id.values())) + 1\n",
        "EMB_SIZE = 300\n",
        "PADDING_IDX = len(set(word2id.values()))\n",
        "OUTPUT_SIZE = 4\n",
        "OUT_CHANNELS = 100\n",
        "KERNEL_HEIGHTS = 3\n",
        "STRIDE = 1\n",
        "PADDING = 1\n",
        "LEARNING_RATE = 5e-2\n",
        "BATCH_SIZE = 64\n",
        "NUM_EPOCHS = 10\n",
        "\n",
        "# モデルの定義\n",
        "model = CNN(VOCAB_SIZE, EMB_SIZE, PADDING_IDX, OUTPUT_SIZE, OUT_CHANNELS, KERNEL_HEIGHTS, STRIDE, PADDING, emb_weights=weights)\n",
        "\n",
        "# 損失関数の定義\n",
        "criterion = nn.CrossEntropyLoss()\n",
        "\n",
        "# オプティマイザの定義\n",
        "optimizer = torch.optim.SGD(model.parameters(), lr=LEARNING_RATE)\n",
        "\n",
        "# デバイスの指定\n",
        "device = torch.device('cuda')\n",
        "\n",
        "# モデルの学習\n",
        "log = train_model(dataset_train, dataset_valid, BATCH_SIZE, model, criterion, optimizer, NUM_EPOCHS, collate_fn=Padsequence(PADDING_IDX), device=device)"
      ],
      "execution_count": null,
      "outputs": [
        {
          "output_type": "stream",
          "text": [
            "epoch: 1, loss_train: 1.0698, accuracy_train: 0.5664, loss_valid: 1.0806, accuracy_valid: 0.5689, 8.1853sec\n",
            "epoch: 2, loss_train: 0.9931, accuracy_train: 0.6257, loss_valid: 1.0172, accuracy_valid: 0.6272, 8.0765sec\n",
            "epoch: 3, loss_train: 0.9157, accuracy_train: 0.6891, loss_valid: 0.9533, accuracy_valid: 0.6714, 8.2263sec\n",
            "epoch: 4, loss_train: 0.8520, accuracy_train: 0.7122, loss_valid: 0.9003, accuracy_valid: 0.6946, 8.2178sec\n",
            "epoch: 5, loss_train: 0.8065, accuracy_train: 0.7281, loss_valid: 0.8660, accuracy_valid: 0.7058, 8.1263sec\n",
            "epoch: 6, loss_train: 0.7739, accuracy_train: 0.7360, loss_valid: 0.8440, accuracy_valid: 0.7133, 8.1508sec\n",
            "epoch: 7, loss_train: 0.7530, accuracy_train: 0.7416, loss_valid: 0.8284, accuracy_valid: 0.7171, 8.1629sec\n",
            "epoch: 8, loss_train: 0.7416, accuracy_train: 0.7434, loss_valid: 0.8198, accuracy_valid: 0.7201, 8.1014sec\n",
            "epoch: 9, loss_train: 0.7352, accuracy_train: 0.7470, loss_valid: 0.8160, accuracy_valid: 0.7223, 8.1012sec\n",
            "epoch: 10, loss_train: 0.7337, accuracy_train: 0.7475, loss_valid: 0.8150, accuracy_valid: 0.7231, 8.0715sec\n"
          ],
          "name": "stdout"
        }
      ]
    },
    {
      "cell_type": "code",
      "metadata": {
        "id": "Ry7w4AvGN6Cv",
        "colab": {
          "base_uri": "https://localhost:8080/",
          "height": 370
        },
        "outputId": "4e605b28-cd9c-4484-a1ab-21f38d9da213"
      },
      "source": [
        "# ログの可視化\n",
        "visualize_logs(log)\n",
        "\n",
        "# 正解率の算出\n",
        "_, acc_train = calculate_loss_and_accuracy(model, dataset_train, device)\n",
        "_, acc_test = calculate_loss_and_accuracy(model, dataset_test, device)\n",
        "print(f'正解率（学習データ）：{acc_train:.3f}')\n",
        "print(f'正解率（評価データ）：{acc_test:.3f}')"
      ],
      "execution_count": null,
      "outputs": [
        {
          "output_type": "display_data",
          "data": {
            "image/png": "[encoded data removed]",
            "text/plain": [
              "<Figure size 1080x360 with 2 Axes>"
            ]
          },
          "metadata": {
            "tags": [],
            "needs_background": "light"
          }
        },
        {
          "output_type": "stream",
          "text": [
            "正解率（学習データ）：0.747\n",
            "正解率（評価データ）：0.716\n"
          ],
          "name": "stdout"
        }
      ]
    },
    {
      "cell_type": "markdown",
      "metadata": {
        "id": "Q5ztskDmwCW7"
      },
      "source": [
        "## 88. パラメータチューニング\n",
        "***\n",
        "問題85や問題87のコードを改変し，ニューラルネットワークの形状やハイパーパラメータを調整しながら，高性能なカテゴリ分類器を構築せよ．"
      ]
    },
    {
      "cell_type": "code",
      "metadata": {
        "id": "bRvR-1aeDfhQ",
        "colab": {
          "base_uri": "https://localhost:8080/",
          "height": 1000
        },
        "outputId": "777225ee-78b8-415b-c70c-6dea166fe367"
      },
      "source": [
        "!pip install optuna"
      ],
      "execution_count": null,
      "outputs": [
        {
          "output_type": "stream",
          "text": [
            "Collecting optuna\n",
            "\u001b[?25l  Downloading https://files.pythonhosted.org/packages/33/32/266d4afd269e3ecd7fcc595937c1733f65eae6c09c3caea74c0de0b88d78/optuna-1.5.0.tar.gz (200kB)\n",
            "\u001b[K     |████████████████████████████████| 204kB 8.3MB/s \n",
            "\u001b[?25hCollecting alembic\n",
            "\u001b[?25l  Downloading https://files.pythonhosted.org/packages/60/1e/cabc75a189de0fbb2841d0975243e59bde8b7822bacbb95008ac6fe9ad47/alembic-1.4.2.tar.gz (1.1MB)\n",
            "\u001b[K     |████████████████████████████████| 1.1MB 17.0MB/s \n",
            "\u001b[?25h  Installing build dependencies ... \u001b[?25l\u001b[?25hdone\n",
            "  Getting requirements to build wheel ... \u001b[?25l\u001b[?25hdone\n",
            "    Preparing wheel metadata ... \u001b[?25l\u001b[?25hdone\n",
            "Collecting cliff\n",
            "\u001b[?25l  Downloading https://files.pythonhosted.org/packages/52/59/4db149d8962dc29a37c8bc08cd79185935527af9a27259a2d80cac707212/cliff-3.3.0-py3-none-any.whl (81kB)\n",
            "\u001b[K     |████████████████████████████████| 81kB 7.8MB/s \n",
            "\u001b[?25hCollecting cmaes>=0.5.0\n",
            "  Downloading https://files.pythonhosted.org/packages/03/de/6ed34ebc0e5c34ed371d898540bca36edb4afe5bb2ca382483054e573c75/cmaes-0.5.0-py3-none-any.whl\n",
            "Collecting colorlog\n",
            "  Downloading https://files.pythonhosted.org/packages/00/0d/22c73c2eccb21dd3498df7d22c0b1d4a30f5a5fb3feb64e1ce06bc247747/colorlog-4.1.0-py2.py3-none-any.whl\n",
            "Requirement already satisfied: joblib in /usr/local/lib/python3.6/dist-packages (from optuna) (0.15.1)\n",
            "Requirement already satisfied: numpy in /usr/local/lib/python3.6/dist-packages (from optuna) (1.18.5)\n",
            "Requirement already satisfied: scipy!=1.4.0 in /usr/local/lib/python3.6/dist-packages (from optuna) (1.4.1)\n",
            "Requirement already satisfied: sqlalchemy>=1.1.0 in /usr/local/lib/python3.6/dist-packages (from optuna) (1.3.17)\n",
            "Requirement already satisfied: tqdm in /usr/local/lib/python3.6/dist-packages (from optuna) (4.41.1)\n",
            "Requirement already satisfied: python-dateutil in /usr/local/lib/python3.6/dist-packages (from alembic->optuna) (2.8.1)\n",
            "Collecting Mako\n",
            "\u001b[?25l  Downloading https://files.pythonhosted.org/packages/a6/37/0e706200d22172eb8fa17d68a7ae22dec7631a0a92266634fb518a88a5b2/Mako-1.1.3-py2.py3-none-any.whl (75kB)\n",
            "\u001b[K     |████████████████████████████████| 81kB 10.1MB/s \n",
            "\u001b[?25hCollecting python-editor>=0.3\n",
            "  Downloading https://files.pythonhosted.org/packages/c6/d3/201fc3abe391bbae6606e6f1d598c15d367033332bd54352b12f35513717/python_editor-1.0.4-py3-none-any.whl\n",
            "Collecting pbr!=2.1.0,>=2.0.0\n",
            "\u001b[?25l  Downloading https://files.pythonhosted.org/packages/96/ba/aa953a11ec014b23df057ecdbc922fdb40ca8463466b1193f3367d2711a6/pbr-5.4.5-py2.py3-none-any.whl (110kB)\n",
            "\u001b[K     |████████████████████████████████| 112kB 30.0MB/s \n",
            "\u001b[?25hRequirement already satisfied: PyYAML>=3.12 in /usr/local/lib/python3.6/dist-packages (from cliff->optuna) (3.13)\n",
            "Requirement already satisfied: six>=1.10.0 in /usr/local/lib/python3.6/dist-packages (from cliff->optuna) (1.12.0)\n",
            "Requirement already satisfied: PrettyTable<0.8,>=0.7.2 in /usr/local/lib/python3.6/dist-packages (from cliff->optuna) (0.7.2)\n",
            "Collecting cmd2!=0.8.3,>=0.8.0\n",
            "\u001b[?25l  Downloading https://files.pythonhosted.org/packages/1b/b2/440d8d89b432b250c8f4db4368301aa7c6b49ab48a87b42e2a36f60c104d/cmd2-1.1.0-py3-none-any.whl (120kB)\n",
            "\u001b[K     |████████████████████████████████| 122kB 26.9MB/s \n",
            "\u001b[?25hRequirement already satisfied: pyparsing>=2.1.0 in /usr/local/lib/python3.6/dist-packages (from cliff->optuna) (2.4.7)\n",
            "Collecting stevedore>=1.20.0\n",
            "\u001b[?25l  Downloading https://files.pythonhosted.org/packages/11/75/154f7b0bc00a580db2ccac141400dc601f7f2a1bf45bd56515edbda34850/stevedore-2.0.0-py3-none-any.whl (42kB)\n",
            "\u001b[K     |████████████████████████████████| 51kB 8.4MB/s \n",
            "\u001b[?25hRequirement already satisfied: MarkupSafe>=0.9.2 in /usr/local/lib/python3.6/dist-packages (from Mako->alembic->optuna) (1.1.1)\n",
            "Requirement already satisfied: setuptools>=34.4 in /usr/local/lib/python3.6/dist-packages (from cmd2!=0.8.3,>=0.8.0->cliff->optuna) (47.1.1)\n",
            "Collecting pyperclip>=1.6\n",
            "  Downloading https://files.pythonhosted.org/packages/f6/5b/55866e1cde0f86f5eec59dab5de8a66628cb0d53da74b8dbc15ad8dabda3/pyperclip-1.8.0.tar.gz\n",
            "Requirement already satisfied: attrs>=16.3.0 in /usr/local/lib/python3.6/dist-packages (from cmd2!=0.8.3,>=0.8.0->cliff->optuna) (19.3.0)\n",
            "Collecting colorama>=0.3.7\n",
            "  Downloading https://files.pythonhosted.org/packages/c9/dc/45cdef1b4d119eb96316b3117e6d5708a08029992b2fee2c143c7a0a5cc5/colorama-0.4.3-py2.py3-none-any.whl\n",
            "Requirement already satisfied: wcwidth>=0.1.7 in /usr/local/lib/python3.6/dist-packages (from cmd2!=0.8.3,>=0.8.0->cliff->optuna) (0.2.3)\n",
            "Building wheels for collected packages: alembic\n",
            "  Building wheel for alembic (PEP 517) ... \u001b[?25l\u001b[?25hdone\n",
            "  Created wheel for alembic: filename=alembic-1.4.2-cp36-none-any.whl size=159543 sha256=8aa8f1616f7bce3e291ba505f874e0a156c798e6e8f50363ee2b147912310a2b\n",
            "  Stored in directory: /root/.cache/pip/wheels/1f/04/83/76023f7a4c14688c0b5c2682a96392cfdd3ee4449eaaa287ef\n",
            "Successfully built alembic\n",
            "Building wheels for collected packages: optuna, pyperclip\n",
            "  Building wheel for optuna (setup.py) ... \u001b[?25l\u001b[?25hdone\n",
            "  Created wheel for optuna: filename=optuna-1.5.0-cp36-none-any.whl size=276145 sha256=8cedf7830b4ccd519102becf4480f98b1536be2f3f80f840bc3a19c6bc565a3a\n",
            "  Stored in directory: /root/.cache/pip/wheels/38/21/78/4f5529e0c757ababc4217eb9adf1886d21eb22bb1ab98c33c5\n",
            "  Building wheel for pyperclip (setup.py) ... \u001b[?25l\u001b[?25hdone\n",
            "  Created wheel for pyperclip: filename=pyperclip-1.8.0-cp36-none-any.whl size=8693 sha256=b7afb3015a266aa7ea6a3c2d0f32f18577708c5ecd2075029d211351324a1dce\n",
            "  Stored in directory: /root/.cache/pip/wheels/b2/ac/0a/b784f0afe26eaf52e88a7e15c7369090deea0354fa1c6fc689\n",
            "Successfully built optuna pyperclip\n",
            "Installing collected packages: Mako, python-editor, alembic, pbr, pyperclip, colorama, cmd2, stevedore, cliff, cmaes, colorlog, optuna\n",
            "Successfully installed Mako-1.1.3 alembic-1.4.2 cliff-3.3.0 cmaes-0.5.0 cmd2-1.1.0 colorama-0.4.3 colorlog-4.1.0 optuna-1.5.0 pbr-5.4.5 pyperclip-1.8.0 python-editor-1.0.4 stevedore-2.0.0\n"
          ],
          "name": "stdout"
        }
      ]
    },
    {
      "cell_type": "code",
      "metadata": {
        "id": "ZdPnLM5vP5or"
      },
      "source": [
        "from torch.nn import functional as F\n",
        "\n",
        "class textCNN(nn.Module):\n",
        "  def __init__(self, vocab_size, emb_size, padding_idx, output_size, out_channels, conv_params, drop_rate, emb_weights=None):\n",
        "    super().__init__()\n",
        "    if emb_weights != None:  # 指定があれば埋め込み層の重みをemb_weightsで初期化\n",
        "      self.emb = nn.Embedding.from_pretrained(emb_weights, padding_idx=padding_idx)\n",
        "    else:\n",
        "      self.emb = nn.Embedding(vocab_size, emb_size, padding_idx=padding_idx)\n",
        "    self.convs = nn.ModuleList([nn.Conv2d(1, out_channels, (kernel_height, emb_size), padding=(padding, 0)) for kernel_height, padding in conv_params])\n",
        "    self.drop = nn.Dropout(drop_rate)\n",
        "    self.fc = nn.Linear(len(conv_params) * out_channels, output_size)\n",
        "    \n",
        "  def forward(self, x):\n",
        "    # x.size() = (batch_size, seq_len)\n",
        "    emb = self.emb(x).unsqueeze(1)\n",
        "    # emb.size() = (batch_size, 1, seq_len, emb_size)\n",
        "    conv = [F.relu(conv(emb)).squeeze(3) for i, conv in enumerate(self.convs)]\n",
        "    # conv[i].size() = (batch_size, out_channels, seq_len + padding * 2 - kernel_height + 1)\n",
        "    max_pool = [F.max_pool1d(i, i.size(2)) for i in conv]\n",
        "    # max_pool[i].size() = (batch_size, out_channels, 1) -> seq_len方向に最大値を取得\n",
        "    max_pool_cat = torch.cat(max_pool, 1)\n",
        "    # max_pool_cat.size() = (batch_size, len(conv_params) * out_channels, 1)  -> フィルター別の結果を結合\n",
        "    out = self.fc(self.drop(max_pool_cat.squeeze(2)))\n",
        "    # out.size() = (batch_size, output_size)\n",
        "    return out"
      ],
      "execution_count": null,
      "outputs": []
    },
    {
      "cell_type": "code",
      "metadata": {
        "id": "MgNXygW9dTgV"
      },
      "source": [
        "import optuna\n",
        "\n",
        "def objective(trial):\n",
        "  # チューニング対象パラメータのセット\n",
        "  emb_size = int(trial.suggest_discrete_uniform('emb_size', 100, 400, 100))\n",
        "  out_channels = int(trial.suggest_discrete_uniform('out_channels', 50, 200, 50))\n",
        "  drop_rate = trial.suggest_discrete_uniform('drop_rate', 0.0, 0.5, 0.1)\n",
        "  learning_rate = trial.suggest_loguniform('learning_rate', 5e-4, 5e-2)\n",
        "  momentum = trial.suggest_discrete_uniform('momentum', 0.5, 0.9, 0.1)\n",
        "  batch_size = int(trial.suggest_discrete_uniform('batch_size', 16, 128, 16))\n",
        "\n",
        "  # 固定パラメータの設定\n",
        "  VOCAB_SIZE = len(set(word2id.values())) + 1\n",
        "  PADDING_IDX = len(set(word2id.values()))\n",
        "  OUTPUT_SIZE = 4\n",
        "  CONV_PARAMS = [[2, 0], [3, 1], [4, 2]]\n",
        "  NUM_EPOCHS = 30\n",
        "\n",
        "  # モデルの定義\n",
        "  model = textCNN(VOCAB_SIZE, EMB_SIZE, PADDING_IDX, OUTPUT_SIZE, out_channels, CONV_PARAMS, drop_rate, emb_weights=weights)\n",
        "\n",
        "  # 損失関数の定義\n",
        "  criterion = nn.CrossEntropyLoss()\n",
        "\n",
        "  # オプティマイザの定義\n",
        "  optimizer = torch.optim.SGD(model.parameters(), lr=learning_rate, momentum=momentum)\n",
        "\n",
        "  # デバイスの指定\n",
        "  device = torch.device('cuda')\n",
        "\n",
        "  # モデルの学習\n",
        "  log = train_model(dataset_train, dataset_valid, batch_size, model, criterion, optimizer, NUM_EPOCHS, collate_fn=Padsequence(PADDING_IDX), device=device)\n",
        "\n",
        "  # 損失の算出\n",
        "  loss_valid, _ = calculate_loss_and_accuracy(model, dataset_valid, device, criterion=criterion) \n",
        "\n",
        "  return loss_valid "
      ],
      "execution_count": null,
      "outputs": []
    },
    {
      "cell_type": "code",
      "metadata": {
        "id": "K-6lT6JrfpVP",
        "colab": {
          "base_uri": "https://localhost:8080/",
          "height": 1000
        },
        "outputId": "791bc0db-9584-4773-fc02-bd7c8e4c68fa"
      },
      "source": [
        "# 最適化\n",
        "study = optuna.create_study()\n",
        "study.optimize(objective, timeout=7200)\n",
        "\n",
        "# 結果の表示\n",
        "print('Best trial:')\n",
        "trial = study.best_trial\n",
        "print('  Value: {:.3f}'.format(trial.value))\n",
        "print('  Params: ')\n",
        "for key, value in trial.params.items():\n",
        "  print('    {}: {}'.format(key, value))"
      ],
      "execution_count": null,
      "outputs": [
        {
          "output_type": "stream",
          "text": [
            "epoch: 1, loss_train: 1.1360, accuracy_train: 0.5121, loss_valid: 1.1386, accuracy_valid: 0.5105, 12.9954sec\n",
            "epoch: 2, loss_train: 1.1012, accuracy_train: 0.5458, loss_valid: 1.1129, accuracy_valid: 0.5202, 12.8651sec\n",
            "epoch: 3, loss_train: 1.0743, accuracy_train: 0.5665, loss_valid: 1.0901, accuracy_valid: 0.5636, 12.8408sec\n",
            "epoch: 4, loss_train: 1.0517, accuracy_train: 0.5706, loss_valid: 1.0701, accuracy_valid: 0.5771, 12.8588sec\n",
            "epoch: 5, loss_train: 1.0300, accuracy_train: 0.5942, loss_valid: 1.0537, accuracy_valid: 0.5891, 12.8499sec\n",
            "epoch: 6, loss_train: 1.0108, accuracy_train: 0.5884, loss_valid: 1.0373, accuracy_valid: 0.6003, 12.8318sec\n",
            "epoch: 7, loss_train: 0.9875, accuracy_train: 0.6403, loss_valid: 1.0206, accuracy_valid: 0.6272, 12.8480sec\n",
            "epoch: 8, loss_train: 0.9676, accuracy_train: 0.6487, loss_valid: 1.0031, accuracy_valid: 0.6475, 12.8275sec\n",
            "epoch: 9, loss_train: 0.9462, accuracy_train: 0.6690, loss_valid: 0.9871, accuracy_valid: 0.6549, 12.8349sec\n",
            "epoch: 10, loss_train: 0.9267, accuracy_train: 0.6747, loss_valid: 0.9695, accuracy_valid: 0.6602, 12.8040sec\n",
            "epoch: 11, loss_train: 0.9084, accuracy_train: 0.6964, loss_valid: 0.9574, accuracy_valid: 0.6729, 12.7611sec\n",
            "epoch: 12, loss_train: 0.8910, accuracy_train: 0.6972, loss_valid: 0.9391, accuracy_valid: 0.6759, 12.8003sec\n",
            "epoch: 13, loss_train: 0.8743, accuracy_train: 0.7061, loss_valid: 0.9294, accuracy_valid: 0.6849, 12.8166sec\n",
            "epoch: 14, loss_train: 0.8601, accuracy_train: 0.7085, loss_valid: 0.9172, accuracy_valid: 0.6841, 12.8468sec\n",
            "epoch: 15, loss_train: 0.8473, accuracy_train: 0.7122, loss_valid: 0.9083, accuracy_valid: 0.6909, 12.7752sec\n",
            "epoch: 16, loss_train: 0.8360, accuracy_train: 0.7153, loss_valid: 0.9009, accuracy_valid: 0.6931, 12.8193sec\n",
            "epoch: 17, loss_train: 0.8265, accuracy_train: 0.7186, loss_valid: 0.8938, accuracy_valid: 0.6954, 12.7511sec\n",
            "epoch: 18, loss_train: 0.8175, accuracy_train: 0.7215, loss_valid: 0.8871, accuracy_valid: 0.6969, 12.7948sec\n",
            "epoch: 19, loss_train: 0.8102, accuracy_train: 0.7237, loss_valid: 0.8814, accuracy_valid: 0.6984, 12.7703sec\n",
            "epoch: 20, loss_train: 0.8039, accuracy_train: 0.7252, loss_valid: 0.8778, accuracy_valid: 0.7006, 12.7991sec\n",
            "epoch: 21, loss_train: 0.7987, accuracy_train: 0.7272, loss_valid: 0.8740, accuracy_valid: 0.7006, 12.8239sec\n",
            "epoch: 22, loss_train: 0.7945, accuracy_train: 0.7291, loss_valid: 0.8712, accuracy_valid: 0.6999, 12.8036sec\n",
            "epoch: 23, loss_train: 0.7913, accuracy_train: 0.7309, loss_valid: 0.8685, accuracy_valid: 0.7028, 12.7924sec\n",
            "epoch: 24, loss_train: 0.7885, accuracy_train: 0.7314, loss_valid: 0.8671, accuracy_valid: 0.7021, 12.7298sec\n",
            "epoch: 25, loss_train: 0.7866, accuracy_train: 0.7327, loss_valid: 0.8656, accuracy_valid: 0.7028, 12.7608sec\n",
            "epoch: 26, loss_train: 0.7852, accuracy_train: 0.7331, loss_valid: 0.8647, accuracy_valid: 0.7028, 12.8102sec\n",
            "epoch: 27, loss_train: 0.7844, accuracy_train: 0.7333, loss_valid: 0.8641, accuracy_valid: 0.7028, 12.8446sec\n",
            "epoch: 28, loss_train: 0.7839, accuracy_train: 0.7332, loss_valid: 0.8638, accuracy_valid: 0.7028, 12.7244sec\n",
            "epoch: 29, loss_train: 0.7836, accuracy_train: 0.7332, loss_valid: 0.8636, accuracy_valid: 0.7028, 12.7496sec\n",
            "epoch: 30, loss_train: 0.7835, accuracy_train: 0.7332, loss_valid: 0.8636, accuracy_valid: 0.7028, 12.7775sec\n"
          ],
          "name": "stdout"
        },
        {
          "output_type": "stream",
          "text": [
            "[I 2020-06-17 13:02:19,461] Finished trial#0 with value: 0.8635633598544641 with parameters: {'emb_size': 200.0, 'out_channels': 200.0, 'drop_rate': 0.2, 'learning_rate': 0.00958038099655327, 'momentum': 0.5, 'batch_size': 96.0}. Best is trial#0 with value: 0.8635633598544641.\n"
          ],
          "name": "stderr"
        },
        {
          "output_type": "stream",
          "text": [
            "epoch: 1, loss_train: 1.1583, accuracy_train: 0.5076, loss_valid: 1.1582, accuracy_valid: 0.4775, 13.2802sec\n",
            "epoch: 2, loss_train: 1.1385, accuracy_train: 0.5192, loss_valid: 1.1417, accuracy_valid: 0.4858, 13.2768sec\n",
            "epoch: 3, loss_train: 1.1212, accuracy_train: 0.5364, loss_valid: 1.1258, accuracy_valid: 0.5165, 13.2340sec\n",
            "epoch: 4, loss_train: 1.1059, accuracy_train: 0.5476, loss_valid: 1.1130, accuracy_valid: 0.5322, 13.2471sec\n",
            "epoch: 5, loss_train: 1.0930, accuracy_train: 0.5462, loss_valid: 1.1040, accuracy_valid: 0.5172, 13.3136sec\n",
            "epoch: 6, loss_train: 1.0800, accuracy_train: 0.5544, loss_valid: 1.0897, accuracy_valid: 0.5621, 13.2478sec\n",
            "epoch: 7, loss_train: 1.0680, accuracy_train: 0.5646, loss_valid: 1.0811, accuracy_valid: 0.5696, 13.2638sec\n",
            "epoch: 8, loss_train: 1.0573, accuracy_train: 0.5810, loss_valid: 1.0745, accuracy_valid: 0.5808, 13.2538sec\n",
            "epoch: 9, loss_train: 1.0481, accuracy_train: 0.5697, loss_valid: 1.0652, accuracy_valid: 0.5816, 13.2676sec\n",
            "epoch: 10, loss_train: 1.0380, accuracy_train: 0.5876, loss_valid: 1.0577, accuracy_valid: 0.5906, 13.2375sec\n",
            "epoch: 11, loss_train: 1.0293, accuracy_train: 0.6038, loss_valid: 1.0518, accuracy_valid: 0.6018, 13.2695sec\n",
            "epoch: 12, loss_train: 1.0209, accuracy_train: 0.6062, loss_valid: 1.0444, accuracy_valid: 0.6048, 13.2711sec\n",
            "epoch: 13, loss_train: 1.0132, accuracy_train: 0.6093, loss_valid: 1.0381, accuracy_valid: 0.6183, 13.2812sec\n",
            "epoch: 14, loss_train: 1.0061, accuracy_train: 0.6144, loss_valid: 1.0320, accuracy_valid: 0.6198, 13.2788sec\n",
            "epoch: 15, loss_train: 0.9994, accuracy_train: 0.6295, loss_valid: 1.0273, accuracy_valid: 0.6370, 13.2810sec\n",
            "epoch: 16, loss_train: 0.9935, accuracy_train: 0.6242, loss_valid: 1.0213, accuracy_valid: 0.6332, 13.3000sec\n",
            "epoch: 17, loss_train: 0.9878, accuracy_train: 0.6384, loss_valid: 1.0178, accuracy_valid: 0.6415, 13.2201sec\n",
            "epoch: 18, loss_train: 0.9830, accuracy_train: 0.6417, loss_valid: 1.0130, accuracy_valid: 0.6415, 13.2208sec\n",
            "epoch: 19, loss_train: 0.9787, accuracy_train: 0.6446, loss_valid: 1.0101, accuracy_valid: 0.6430, 13.2511sec\n",
            "epoch: 20, loss_train: 0.9750, accuracy_train: 0.6473, loss_valid: 1.0068, accuracy_valid: 0.6475, 13.2396sec\n",
            "epoch: 21, loss_train: 0.9718, accuracy_train: 0.6489, loss_valid: 1.0043, accuracy_valid: 0.6512, 13.2728sec\n",
            "epoch: 22, loss_train: 0.9691, accuracy_train: 0.6542, loss_valid: 1.0026, accuracy_valid: 0.6534, 13.2256sec\n",
            "epoch: 23, loss_train: 0.9670, accuracy_train: 0.6539, loss_valid: 1.0007, accuracy_valid: 0.6542, 13.2777sec\n",
            "epoch: 24, loss_train: 0.9653, accuracy_train: 0.6562, loss_valid: 0.9993, accuracy_valid: 0.6549, 13.2414sec\n",
            "epoch: 25, loss_train: 0.9640, accuracy_train: 0.6556, loss_valid: 0.9981, accuracy_valid: 0.6579, 13.2873sec\n",
            "epoch: 26, loss_train: 0.9630, accuracy_train: 0.6575, loss_valid: 0.9974, accuracy_valid: 0.6594, 13.2821sec\n",
            "epoch: 27, loss_train: 0.9624, accuracy_train: 0.6573, loss_valid: 0.9968, accuracy_valid: 0.6594, 13.2985sec\n",
            "epoch: 28, loss_train: 0.9620, accuracy_train: 0.6576, loss_valid: 0.9964, accuracy_valid: 0.6602, 13.2470sec\n",
            "epoch: 29, loss_train: 0.9617, accuracy_train: 0.6580, loss_valid: 0.9962, accuracy_valid: 0.6602, 13.2314sec\n",
            "epoch: 30, loss_train: 0.9615, accuracy_train: 0.6582, loss_valid: 0.9961, accuracy_valid: 0.6602, 13.3140sec\n"
          ],
          "name": "stdout"
        },
        {
          "output_type": "stream",
          "text": [
            "[I 2020-06-17 13:08:58,900] Finished trial#1 with value: 0.9960923864545222 with parameters: {'emb_size': 200.0, 'out_channels': 200.0, 'drop_rate': 0.1, 'learning_rate': 0.0009487445797962559, 'momentum': 0.7, 'batch_size': 32.0}. Best is trial#0 with value: 0.8635633598544641.\n"
          ],
          "name": "stderr"
        },
        {
          "output_type": "stream",
          "text": [
            "epoch: 1, loss_train: 1.0485, accuracy_train: 0.5951, loss_valid: 1.0673, accuracy_valid: 0.5898, 12.0611sec\n",
            "epoch: 2, loss_train: 0.9502, accuracy_train: 0.6703, loss_valid: 0.9883, accuracy_valid: 0.6557, 12.1441sec\n",
            "epoch: 3, loss_train: 0.8541, accuracy_train: 0.7100, loss_valid: 0.9055, accuracy_valid: 0.6969, 12.0783sec\n",
            "epoch: 4, loss_train: 0.7749, accuracy_train: 0.7362, loss_valid: 0.8498, accuracy_valid: 0.7133, 12.0802sec\n",
            "epoch: 5, loss_train: 0.7086, accuracy_train: 0.7558, loss_valid: 0.8038, accuracy_valid: 0.7268, 12.0763sec\n",
            "epoch: 6, loss_train: 0.6501, accuracy_train: 0.7713, loss_valid: 0.7678, accuracy_valid: 0.7305, 12.0236sec\n",
            "epoch: 7, loss_train: 0.5968, accuracy_train: 0.7866, loss_valid: 0.7366, accuracy_valid: 0.7388, 12.0347sec\n",
            "epoch: 8, loss_train: 0.5464, accuracy_train: 0.8043, loss_valid: 0.7027, accuracy_valid: 0.7478, 12.0472sec\n",
            "epoch: 9, loss_train: 0.5003, accuracy_train: 0.8328, loss_valid: 0.6808, accuracy_valid: 0.7560, 11.9774sec\n",
            "epoch: 10, loss_train: 0.4596, accuracy_train: 0.8464, loss_valid: 0.6562, accuracy_valid: 0.7762, 12.0800sec\n",
            "epoch: 11, loss_train: 0.4214, accuracy_train: 0.8610, loss_valid: 0.6346, accuracy_valid: 0.7762, 11.9979sec\n",
            "epoch: 12, loss_train: 0.3892, accuracy_train: 0.8747, loss_valid: 0.6147, accuracy_valid: 0.7859, 12.0337sec\n",
            "epoch: 13, loss_train: 0.3617, accuracy_train: 0.8944, loss_valid: 0.6034, accuracy_valid: 0.7904, 11.9409sec\n",
            "epoch: 14, loss_train: 0.3359, accuracy_train: 0.9036, loss_valid: 0.5908, accuracy_valid: 0.7972, 11.9551sec\n",
            "epoch: 15, loss_train: 0.3168, accuracy_train: 0.9019, loss_valid: 0.5761, accuracy_valid: 0.7934, 12.0483sec\n",
            "epoch: 16, loss_train: 0.2976, accuracy_train: 0.9200, loss_valid: 0.5698, accuracy_valid: 0.7994, 12.0360sec\n",
            "epoch: 17, loss_train: 0.2823, accuracy_train: 0.9269, loss_valid: 0.5623, accuracy_valid: 0.8046, 12.0791sec\n",
            "epoch: 18, loss_train: 0.2701, accuracy_train: 0.9272, loss_valid: 0.5552, accuracy_valid: 0.8061, 12.0181sec\n",
            "epoch: 19, loss_train: 0.2587, accuracy_train: 0.9352, loss_valid: 0.5524, accuracy_valid: 0.8061, 12.0477sec\n",
            "epoch: 20, loss_train: 0.2499, accuracy_train: 0.9409, loss_valid: 0.5465, accuracy_valid: 0.8084, 12.1219sec\n",
            "epoch: 21, loss_train: 0.2422, accuracy_train: 0.9458, loss_valid: 0.5452, accuracy_valid: 0.8106, 12.0386sec\n",
            "epoch: 22, loss_train: 0.2371, accuracy_train: 0.9437, loss_valid: 0.5419, accuracy_valid: 0.8121, 12.0148sec\n",
            "epoch: 23, loss_train: 0.2320, accuracy_train: 0.9496, loss_valid: 0.5420, accuracy_valid: 0.8114, 12.0705sec\n",
            "epoch: 24, loss_train: 0.2284, accuracy_train: 0.9496, loss_valid: 0.5389, accuracy_valid: 0.8144, 12.0314sec\n",
            "epoch: 25, loss_train: 0.2258, accuracy_train: 0.9509, loss_valid: 0.5384, accuracy_valid: 0.8106, 12.0786sec\n",
            "epoch: 26, loss_train: 0.2240, accuracy_train: 0.9516, loss_valid: 0.5374, accuracy_valid: 0.8114, 12.1544sec\n",
            "epoch: 27, loss_train: 0.2229, accuracy_train: 0.9520, loss_valid: 0.5369, accuracy_valid: 0.8114, 12.1004sec\n",
            "epoch: 28, loss_train: 0.2222, accuracy_train: 0.9524, loss_valid: 0.5369, accuracy_valid: 0.8114, 12.1454sec\n",
            "epoch: 29, loss_train: 0.2219, accuracy_train: 0.9528, loss_valid: 0.5369, accuracy_valid: 0.8121, 12.1100sec\n",
            "epoch: 30, loss_train: 0.2218, accuracy_train: 0.9529, loss_valid: 0.5369, accuracy_valid: 0.8121, 12.1149sec\n"
          ],
          "name": "stdout"
        },
        {
          "output_type": "stream",
          "text": [
            "[I 2020-06-17 13:15:02,116] Finished trial#2 with value: 0.5368596914999499 with parameters: {'emb_size': 400.0, 'out_channels': 100.0, 'drop_rate': 0.30000000000000004, 'learning_rate': 0.016841174733157577, 'momentum': 0.7, 'batch_size': 64.0}. Best is trial#2 with value: 0.5368596914999499.\n"
          ],
          "name": "stderr"
        },
        {
          "output_type": "stream",
          "text": [
            "epoch: 1, loss_train: 1.1065, accuracy_train: 0.5317, loss_valid: 1.1173, accuracy_valid: 0.5105, 14.8082sec\n",
            "epoch: 2, loss_train: 1.0595, accuracy_train: 0.5854, loss_valid: 1.0759, accuracy_valid: 0.5711, 14.7348sec\n",
            "epoch: 3, loss_train: 1.0179, accuracy_train: 0.6137, loss_valid: 1.0443, accuracy_valid: 0.6100, 14.8035sec\n",
            "epoch: 4, loss_train: 0.9769, accuracy_train: 0.6364, loss_valid: 1.0074, accuracy_valid: 0.6310, 14.7558sec\n",
            "epoch: 5, loss_train: 0.9374, accuracy_train: 0.6869, loss_valid: 0.9789, accuracy_valid: 0.6587, 14.8041sec\n",
            "epoch: 6, loss_train: 0.8952, accuracy_train: 0.7002, loss_valid: 0.9422, accuracy_valid: 0.6849, 14.7877sec\n",
            "epoch: 7, loss_train: 0.8585, accuracy_train: 0.7155, loss_valid: 0.9139, accuracy_valid: 0.6946, 14.7260sec\n",
            "epoch: 8, loss_train: 0.8246, accuracy_train: 0.7225, loss_valid: 0.8876, accuracy_valid: 0.7036, 14.7761sec\n",
            "epoch: 9, loss_train: 0.7955, accuracy_train: 0.7311, loss_valid: 0.8658, accuracy_valid: 0.7073, 14.7773sec\n",
            "epoch: 10, loss_train: 0.7695, accuracy_train: 0.7392, loss_valid: 0.8500, accuracy_valid: 0.7163, 14.7943sec\n",
            "epoch: 11, loss_train: 0.7472, accuracy_train: 0.7433, loss_valid: 0.8347, accuracy_valid: 0.7163, 14.7395sec\n",
            "epoch: 12, loss_train: 0.7255, accuracy_train: 0.7496, loss_valid: 0.8192, accuracy_valid: 0.7186, 14.7509sec\n",
            "epoch: 13, loss_train: 0.7052, accuracy_train: 0.7574, loss_valid: 0.8040, accuracy_valid: 0.7253, 14.7629sec\n",
            "epoch: 14, loss_train: 0.6896, accuracy_train: 0.7623, loss_valid: 0.7982, accuracy_valid: 0.7223, 14.7220sec\n",
            "epoch: 15, loss_train: 0.6729, accuracy_train: 0.7670, loss_valid: 0.7841, accuracy_valid: 0.7253, 14.7367sec\n",
            "epoch: 16, loss_train: 0.6590, accuracy_train: 0.7704, loss_valid: 0.7760, accuracy_valid: 0.7290, 14.8298sec\n",
            "epoch: 17, loss_train: 0.6464, accuracy_train: 0.7755, loss_valid: 0.7688, accuracy_valid: 0.7313, 14.7182sec\n",
            "epoch: 18, loss_train: 0.6357, accuracy_train: 0.7782, loss_valid: 0.7610, accuracy_valid: 0.7335, 14.7747sec\n",
            "epoch: 19, loss_train: 0.6262, accuracy_train: 0.7827, loss_valid: 0.7563, accuracy_valid: 0.7365, 14.7424sec\n",
            "epoch: 20, loss_train: 0.6181, accuracy_train: 0.7850, loss_valid: 0.7515, accuracy_valid: 0.7365, 14.9150sec\n",
            "epoch: 21, loss_train: 0.6117, accuracy_train: 0.7858, loss_valid: 0.7471, accuracy_valid: 0.7358, 14.8345sec\n",
            "epoch: 22, loss_train: 0.6057, accuracy_train: 0.7883, loss_valid: 0.7433, accuracy_valid: 0.7395, 14.8081sec\n",
            "epoch: 23, loss_train: 0.6012, accuracy_train: 0.7908, loss_valid: 0.7415, accuracy_valid: 0.7410, 14.7842sec\n",
            "epoch: 24, loss_train: 0.5978, accuracy_train: 0.7904, loss_valid: 0.7391, accuracy_valid: 0.7403, 14.7470sec\n",
            "epoch: 25, loss_train: 0.5952, accuracy_train: 0.7908, loss_valid: 0.7374, accuracy_valid: 0.7425, 14.7712sec\n",
            "epoch: 26, loss_train: 0.5932, accuracy_train: 0.7925, loss_valid: 0.7364, accuracy_valid: 0.7440, 14.7575sec\n",
            "epoch: 27, loss_train: 0.5920, accuracy_train: 0.7930, loss_valid: 0.7357, accuracy_valid: 0.7433, 14.7986sec\n",
            "epoch: 28, loss_train: 0.5912, accuracy_train: 0.7931, loss_valid: 0.7353, accuracy_valid: 0.7433, 14.7385sec\n",
            "epoch: 29, loss_train: 0.5907, accuracy_train: 0.7931, loss_valid: 0.7350, accuracy_valid: 0.7433, 14.7768sec\n",
            "epoch: 30, loss_train: 0.5905, accuracy_train: 0.7931, loss_valid: 0.7349, accuracy_valid: 0.7433, 14.7542sec\n"
          ],
          "name": "stdout"
        },
        {
          "output_type": "stream",
          "text": [
            "[I 2020-06-17 13:22:26,977] Finished trial#3 with value: 0.7349026674282051 with parameters: {'emb_size': 400.0, 'out_channels': 150.0, 'drop_rate': 0.5, 'learning_rate': 0.0018545140222758923, 'momentum': 0.7, 'batch_size': 16.0}. Best is trial#2 with value: 0.5368596914999499.\n"
          ],
          "name": "stderr"
        },
        {
          "output_type": "stream",
          "text": [
            "epoch: 1, loss_train: 1.0636, accuracy_train: 0.5883, loss_valid: 1.0801, accuracy_valid: 0.5808, 11.9527sec\n",
            "epoch: 2, loss_train: 0.9764, accuracy_train: 0.6342, loss_valid: 1.0059, accuracy_valid: 0.6370, 11.9888sec\n",
            "epoch: 3, loss_train: 0.8860, accuracy_train: 0.7034, loss_valid: 0.9335, accuracy_valid: 0.6856, 11.9816sec\n",
            "epoch: 4, loss_train: 0.8080, accuracy_train: 0.7233, loss_valid: 0.8733, accuracy_valid: 0.7006, 11.9767sec\n",
            "epoch: 5, loss_train: 0.7442, accuracy_train: 0.7437, loss_valid: 0.8264, accuracy_valid: 0.7201, 11.9062sec\n",
            "epoch: 6, loss_train: 0.6883, accuracy_train: 0.7598, loss_valid: 0.7906, accuracy_valid: 0.7208, 11.8765sec\n",
            "epoch: 7, loss_train: 0.6404, accuracy_train: 0.7737, loss_valid: 0.7645, accuracy_valid: 0.7350, 11.9412sec\n",
            "epoch: 8, loss_train: 0.5932, accuracy_train: 0.7928, loss_valid: 0.7360, accuracy_valid: 0.7433, 11.9607sec\n",
            "epoch: 9, loss_train: 0.5517, accuracy_train: 0.8077, loss_valid: 0.7067, accuracy_valid: 0.7493, 11.9854sec\n",
            "epoch: 10, loss_train: 0.5139, accuracy_train: 0.8162, loss_valid: 0.6831, accuracy_valid: 0.7635, 11.9781sec\n",
            "epoch: 11, loss_train: 0.4794, accuracy_train: 0.8397, loss_valid: 0.6686, accuracy_valid: 0.7747, 11.9516sec\n",
            "epoch: 12, loss_train: 0.4455, accuracy_train: 0.8485, loss_valid: 0.6474, accuracy_valid: 0.7792, 11.9407sec\n",
            "epoch: 13, loss_train: 0.4170, accuracy_train: 0.8673, loss_valid: 0.6297, accuracy_valid: 0.7799, 12.1547sec\n",
            "epoch: 14, loss_train: 0.3931, accuracy_train: 0.8780, loss_valid: 0.6159, accuracy_valid: 0.7874, 12.0048sec\n",
            "epoch: 15, loss_train: 0.3711, accuracy_train: 0.8864, loss_valid: 0.6034, accuracy_valid: 0.7942, 11.9338sec\n",
            "epoch: 16, loss_train: 0.3524, accuracy_train: 0.8932, loss_valid: 0.5951, accuracy_valid: 0.7957, 11.9670sec\n",
            "epoch: 17, loss_train: 0.3370, accuracy_train: 0.9006, loss_valid: 0.5898, accuracy_valid: 0.7912, 11.9535sec\n",
            "epoch: 18, loss_train: 0.3233, accuracy_train: 0.9046, loss_valid: 0.5772, accuracy_valid: 0.7994, 11.9375sec\n",
            "epoch: 19, loss_train: 0.3111, accuracy_train: 0.9101, loss_valid: 0.5689, accuracy_valid: 0.7987, 12.0265sec\n",
            "epoch: 20, loss_train: 0.3017, accuracy_train: 0.9161, loss_valid: 0.5660, accuracy_valid: 0.8009, 11.9630sec\n",
            "epoch: 21, loss_train: 0.2938, accuracy_train: 0.9248, loss_valid: 0.5657, accuracy_valid: 0.8046, 11.9482sec\n",
            "epoch: 22, loss_train: 0.2866, accuracy_train: 0.9276, loss_valid: 0.5605, accuracy_valid: 0.8099, 11.8823sec\n",
            "epoch: 23, loss_train: 0.2815, accuracy_train: 0.9285, loss_valid: 0.5564, accuracy_valid: 0.8099, 12.0340sec\n",
            "epoch: 24, loss_train: 0.2780, accuracy_train: 0.9321, loss_valid: 0.5566, accuracy_valid: 0.8114, 11.9514sec\n",
            "epoch: 25, loss_train: 0.2748, accuracy_train: 0.9332, loss_valid: 0.5538, accuracy_valid: 0.8129, 11.9638sec\n",
            "epoch: 26, loss_train: 0.2726, accuracy_train: 0.9343, loss_valid: 0.5533, accuracy_valid: 0.8121, 11.8844sec\n",
            "epoch: 27, loss_train: 0.2713, accuracy_train: 0.9337, loss_valid: 0.5524, accuracy_valid: 0.8136, 11.9427sec\n",
            "epoch: 28, loss_train: 0.2704, accuracy_train: 0.9338, loss_valid: 0.5515, accuracy_valid: 0.8136, 11.9970sec\n",
            "epoch: 29, loss_train: 0.2701, accuracy_train: 0.9333, loss_valid: 0.5512, accuracy_valid: 0.8129, 12.0202sec\n",
            "epoch: 30, loss_train: 0.2699, accuracy_train: 0.9337, loss_valid: 0.5512, accuracy_valid: 0.8129, 12.0673sec\n"
          ],
          "name": "stdout"
        },
        {
          "output_type": "stream",
          "text": [
            "[I 2020-06-17 13:28:27,476] Finished trial#4 with value: 0.5511604079943218 with parameters: {'emb_size': 200.0, 'out_channels': 100.0, 'drop_rate': 0.5, 'learning_rate': 0.006849437963164003, 'momentum': 0.9, 'batch_size': 80.0}. Best is trial#2 with value: 0.5368596914999499.\n"
          ],
          "name": "stderr"
        },
        {
          "output_type": "stream",
          "text": [
            "epoch: 1, loss_train: 1.1423, accuracy_train: 0.5171, loss_valid: 1.1439, accuracy_valid: 0.5120, 12.9064sec\n",
            "epoch: 2, loss_train: 1.1137, accuracy_train: 0.5405, loss_valid: 1.1203, accuracy_valid: 0.5217, 12.9228sec\n",
            "epoch: 3, loss_train: 1.0920, accuracy_train: 0.5409, loss_valid: 1.0993, accuracy_valid: 0.5509, 12.8745sec\n",
            "epoch: 4, loss_train: 1.0714, accuracy_train: 0.5706, loss_valid: 1.0863, accuracy_valid: 0.5734, 12.8700sec\n",
            "epoch: 5, loss_train: 1.0538, accuracy_train: 0.5860, loss_valid: 1.0737, accuracy_valid: 0.5853, 12.8836sec\n",
            "epoch: 6, loss_train: 1.0368, accuracy_train: 0.5939, loss_valid: 1.0593, accuracy_valid: 0.5951, 12.9005sec\n",
            "epoch: 7, loss_train: 1.0203, accuracy_train: 0.6112, loss_valid: 1.0455, accuracy_valid: 0.6070, 12.8965sec\n",
            "epoch: 8, loss_train: 1.0045, accuracy_train: 0.6279, loss_valid: 1.0317, accuracy_valid: 0.6168, 12.9723sec\n",
            "epoch: 9, loss_train: 0.9894, accuracy_train: 0.6282, loss_valid: 1.0197, accuracy_valid: 0.6175, 12.8981sec\n",
            "epoch: 10, loss_train: 0.9741, accuracy_train: 0.6614, loss_valid: 1.0085, accuracy_valid: 0.6430, 12.8936sec\n",
            "epoch: 11, loss_train: 0.9597, accuracy_train: 0.6603, loss_valid: 0.9955, accuracy_valid: 0.6467, 12.8910sec\n",
            "epoch: 12, loss_train: 0.9466, accuracy_train: 0.6650, loss_valid: 0.9826, accuracy_valid: 0.6534, 12.9257sec\n",
            "epoch: 13, loss_train: 0.9341, accuracy_train: 0.6836, loss_valid: 0.9773, accuracy_valid: 0.6662, 12.8955sec\n",
            "epoch: 14, loss_train: 0.9223, accuracy_train: 0.6853, loss_valid: 0.9647, accuracy_valid: 0.6737, 12.9248sec\n",
            "epoch: 15, loss_train: 0.9119, accuracy_train: 0.6880, loss_valid: 0.9560, accuracy_valid: 0.6737, 12.9211sec\n",
            "epoch: 16, loss_train: 0.9028, accuracy_train: 0.6910, loss_valid: 0.9505, accuracy_valid: 0.6766, 12.9111sec\n",
            "epoch: 17, loss_train: 0.8939, accuracy_train: 0.6970, loss_valid: 0.9427, accuracy_valid: 0.6849, 12.9123sec\n",
            "epoch: 18, loss_train: 0.8865, accuracy_train: 0.7019, loss_valid: 0.9370, accuracy_valid: 0.6849, 12.9327sec\n",
            "epoch: 19, loss_train: 0.8802, accuracy_train: 0.7037, loss_valid: 0.9317, accuracy_valid: 0.6894, 12.8967sec\n",
            "epoch: 20, loss_train: 0.8749, accuracy_train: 0.7040, loss_valid: 0.9273, accuracy_valid: 0.6909, 12.9016sec\n",
            "epoch: 21, loss_train: 0.8703, accuracy_train: 0.7060, loss_valid: 0.9242, accuracy_valid: 0.6924, 12.8941sec\n",
            "epoch: 22, loss_train: 0.8666, accuracy_train: 0.7072, loss_valid: 0.9213, accuracy_valid: 0.6931, 12.8760sec\n",
            "epoch: 23, loss_train: 0.8635, accuracy_train: 0.7098, loss_valid: 0.9191, accuracy_valid: 0.6916, 12.8602sec\n",
            "epoch: 24, loss_train: 0.8613, accuracy_train: 0.7091, loss_valid: 0.9172, accuracy_valid: 0.6954, 12.9353sec\n",
            "epoch: 25, loss_train: 0.8595, accuracy_train: 0.7106, loss_valid: 0.9161, accuracy_valid: 0.6954, 12.9731sec\n",
            "epoch: 26, loss_train: 0.8582, accuracy_train: 0.7111, loss_valid: 0.9151, accuracy_valid: 0.6969, 12.9373sec\n",
            "epoch: 27, loss_train: 0.8574, accuracy_train: 0.7122, loss_valid: 0.9145, accuracy_valid: 0.6961, 12.9347sec\n",
            "epoch: 28, loss_train: 0.8569, accuracy_train: 0.7121, loss_valid: 0.9142, accuracy_valid: 0.6954, 12.9098sec\n",
            "epoch: 29, loss_train: 0.8566, accuracy_train: 0.7124, loss_valid: 0.9140, accuracy_valid: 0.6961, 12.8985sec\n",
            "epoch: 30, loss_train: 0.8565, accuracy_train: 0.7124, loss_valid: 0.9139, accuracy_valid: 0.6961, 12.9505sec\n"
          ],
          "name": "stdout"
        },
        {
          "output_type": "stream",
          "text": [
            "[I 2020-06-17 13:34:56,305] Finished trial#5 with value: 0.9138848686111187 with parameters: {'emb_size': 300.0, 'out_channels': 200.0, 'drop_rate': 0.5, 'learning_rate': 0.0021067584334446957, 'momentum': 0.8, 'batch_size': 64.0}. Best is trial#2 with value: 0.5368596914999499.\n"
          ],
          "name": "stderr"
        },
        {
          "output_type": "stream",
          "text": [
            "epoch: 1, loss_train: 1.1867, accuracy_train: 0.4861, loss_valid: 1.1819, accuracy_valid: 0.4641, 12.0411sec\n",
            "epoch: 2, loss_train: 1.1564, accuracy_train: 0.5110, loss_valid: 1.1566, accuracy_valid: 0.4850, 12.0857sec\n",
            "epoch: 3, loss_train: 1.1392, accuracy_train: 0.5268, loss_valid: 1.1416, accuracy_valid: 0.5112, 11.9644sec\n",
            "epoch: 4, loss_train: 1.1250, accuracy_train: 0.5354, loss_valid: 1.1293, accuracy_valid: 0.5195, 11.9909sec\n",
            "epoch: 5, loss_train: 1.1129, accuracy_train: 0.5388, loss_valid: 1.1186, accuracy_valid: 0.5292, 12.0159sec\n",
            "epoch: 6, loss_train: 1.1024, accuracy_train: 0.5416, loss_valid: 1.1093, accuracy_valid: 0.5442, 11.9294sec\n",
            "epoch: 7, loss_train: 1.0929, accuracy_train: 0.5483, loss_valid: 1.1016, accuracy_valid: 0.5516, 12.0023sec\n",
            "epoch: 8, loss_train: 1.0845, accuracy_train: 0.5584, loss_valid: 1.0953, accuracy_valid: 0.5636, 12.0043sec\n",
            "epoch: 9, loss_train: 1.0769, accuracy_train: 0.5577, loss_valid: 1.0887, accuracy_valid: 0.5659, 11.9600sec\n",
            "epoch: 10, loss_train: 1.0697, accuracy_train: 0.5585, loss_valid: 1.0827, accuracy_valid: 0.5666, 11.9892sec\n",
            "epoch: 11, loss_train: 1.0632, accuracy_train: 0.5667, loss_valid: 1.0782, accuracy_valid: 0.5756, 12.0379sec\n",
            "epoch: 12, loss_train: 1.0571, accuracy_train: 0.5690, loss_valid: 1.0732, accuracy_valid: 0.5816, 12.0254sec\n",
            "epoch: 13, loss_train: 1.0515, accuracy_train: 0.5738, loss_valid: 1.0687, accuracy_valid: 0.5853, 11.9114sec\n",
            "epoch: 14, loss_train: 1.0462, accuracy_train: 0.5822, loss_valid: 1.0651, accuracy_valid: 0.5883, 12.0631sec\n",
            "epoch: 15, loss_train: 1.0416, accuracy_train: 0.5801, loss_valid: 1.0605, accuracy_valid: 0.5906, 11.9060sec\n",
            "epoch: 16, loss_train: 1.0371, accuracy_train: 0.5879, loss_valid: 1.0573, accuracy_valid: 0.5943, 11.9688sec\n",
            "epoch: 17, loss_train: 1.0333, accuracy_train: 0.5914, loss_valid: 1.0542, accuracy_valid: 0.6010, 11.9399sec\n",
            "epoch: 18, loss_train: 1.0298, accuracy_train: 0.5946, loss_valid: 1.0516, accuracy_valid: 0.6048, 11.9608sec\n",
            "epoch: 19, loss_train: 1.0267, accuracy_train: 0.5984, loss_valid: 1.0491, accuracy_valid: 0.6070, 11.9604sec\n",
            "epoch: 20, loss_train: 1.0241, accuracy_train: 0.6012, loss_valid: 1.0468, accuracy_valid: 0.6078, 11.9787sec\n",
            "epoch: 21, loss_train: 1.0218, accuracy_train: 0.6042, loss_valid: 1.0450, accuracy_valid: 0.6093, 12.0337sec\n",
            "epoch: 22, loss_train: 1.0200, accuracy_train: 0.6059, loss_valid: 1.0434, accuracy_valid: 0.6115, 11.9151sec\n",
            "epoch: 23, loss_train: 1.0184, accuracy_train: 0.6070, loss_valid: 1.0422, accuracy_valid: 0.6108, 11.8943sec\n",
            "epoch: 24, loss_train: 1.0172, accuracy_train: 0.6081, loss_valid: 1.0412, accuracy_valid: 0.6123, 11.9288sec\n",
            "epoch: 25, loss_train: 1.0164, accuracy_train: 0.6090, loss_valid: 1.0404, accuracy_valid: 0.6130, 12.0242sec\n",
            "epoch: 26, loss_train: 1.0157, accuracy_train: 0.6103, loss_valid: 1.0399, accuracy_valid: 0.6130, 11.9342sec\n",
            "epoch: 27, loss_train: 1.0153, accuracy_train: 0.6104, loss_valid: 1.0396, accuracy_valid: 0.6138, 12.0545sec\n",
            "epoch: 28, loss_train: 1.0151, accuracy_train: 0.6108, loss_valid: 1.0394, accuracy_valid: 0.6138, 12.0611sec\n",
            "epoch: 29, loss_train: 1.0149, accuracy_train: 0.6108, loss_valid: 1.0393, accuracy_valid: 0.6138, 11.9623sec\n",
            "epoch: 30, loss_train: 1.0149, accuracy_train: 0.6112, loss_valid: 1.0392, accuracy_valid: 0.6138, 11.8544sec\n"
          ],
          "name": "stdout"
        },
        {
          "output_type": "stream",
          "text": [
            "[I 2020-06-17 13:40:57,115] Finished trial#6 with value: 1.0392130491976252 with parameters: {'emb_size': 300.0, 'out_channels': 50.0, 'drop_rate': 0.4, 'learning_rate': 0.0027450605405002423, 'momentum': 0.6, 'batch_size': 80.0}. Best is trial#2 with value: 0.5368596914999499.\n"
          ],
          "name": "stderr"
        },
        {
          "output_type": "stream",
          "text": [
            "epoch: 1, loss_train: 1.1499, accuracy_train: 0.5194, loss_valid: 1.1505, accuracy_valid: 0.5030, 14.7042sec\n",
            "epoch: 2, loss_train: 1.1232, accuracy_train: 0.5397, loss_valid: 1.1265, accuracy_valid: 0.5180, 14.7119sec\n",
            "epoch: 3, loss_train: 1.0999, accuracy_train: 0.5501, loss_valid: 1.1072, accuracy_valid: 0.5322, 14.7540sec\n",
            "epoch: 4, loss_train: 1.0801, accuracy_train: 0.5609, loss_valid: 1.0931, accuracy_valid: 0.5389, 14.7366sec\n",
            "epoch: 5, loss_train: 1.0624, accuracy_train: 0.5773, loss_valid: 1.0775, accuracy_valid: 0.5644, 14.7069sec\n",
            "epoch: 6, loss_train: 1.0461, accuracy_train: 0.5907, loss_valid: 1.0634, accuracy_valid: 0.5808, 14.7753sec\n",
            "epoch: 7, loss_train: 1.0309, accuracy_train: 0.5908, loss_valid: 1.0513, accuracy_valid: 0.6003, 14.7042sec\n",
            "epoch: 8, loss_train: 1.0172, accuracy_train: 0.5870, loss_valid: 1.0378, accuracy_valid: 0.5921, 14.7821sec\n",
            "epoch: 9, loss_train: 1.0010, accuracy_train: 0.6258, loss_valid: 1.0285, accuracy_valid: 0.6265, 14.7648sec\n",
            "epoch: 10, loss_train: 0.9867, accuracy_train: 0.6382, loss_valid: 1.0151, accuracy_valid: 0.6362, 14.7722sec\n",
            "epoch: 11, loss_train: 0.9729, accuracy_train: 0.6548, loss_valid: 1.0032, accuracy_valid: 0.6482, 14.7429sec\n",
            "epoch: 12, loss_train: 0.9598, accuracy_train: 0.6605, loss_valid: 0.9932, accuracy_valid: 0.6512, 14.7202sec\n",
            "epoch: 13, loss_train: 0.9474, accuracy_train: 0.6714, loss_valid: 0.9824, accuracy_valid: 0.6572, 14.8158sec\n",
            "epoch: 14, loss_train: 0.9360, accuracy_train: 0.6778, loss_valid: 0.9746, accuracy_valid: 0.6609, 14.7319sec\n",
            "epoch: 15, loss_train: 0.9255, accuracy_train: 0.6825, loss_valid: 0.9658, accuracy_valid: 0.6677, 14.7113sec\n",
            "epoch: 16, loss_train: 0.9161, accuracy_train: 0.6879, loss_valid: 0.9572, accuracy_valid: 0.6699, 14.6339sec\n",
            "epoch: 17, loss_train: 0.9082, accuracy_train: 0.6883, loss_valid: 0.9504, accuracy_valid: 0.6699, 14.6430sec\n",
            "epoch: 18, loss_train: 0.8996, accuracy_train: 0.6972, loss_valid: 0.9451, accuracy_valid: 0.6849, 14.6485sec\n",
            "epoch: 19, loss_train: 0.8931, accuracy_train: 0.6994, loss_valid: 0.9401, accuracy_valid: 0.6841, 14.8005sec\n",
            "epoch: 20, loss_train: 0.8875, accuracy_train: 0.7027, loss_valid: 0.9355, accuracy_valid: 0.6849, 14.7766sec\n",
            "epoch: 21, loss_train: 0.8829, accuracy_train: 0.7036, loss_valid: 0.9314, accuracy_valid: 0.6901, 14.6241sec\n",
            "epoch: 22, loss_train: 0.8790, accuracy_train: 0.7054, loss_valid: 0.9284, accuracy_valid: 0.6909, 14.6541sec\n",
            "epoch: 23, loss_train: 0.8758, accuracy_train: 0.7059, loss_valid: 0.9265, accuracy_valid: 0.6886, 14.7162sec\n",
            "epoch: 24, loss_train: 0.8734, accuracy_train: 0.7069, loss_valid: 0.9242, accuracy_valid: 0.6931, 14.6147sec\n",
            "epoch: 25, loss_train: 0.8715, accuracy_train: 0.7070, loss_valid: 0.9228, accuracy_valid: 0.6931, 14.6662sec\n",
            "epoch: 26, loss_train: 0.8701, accuracy_train: 0.7073, loss_valid: 0.9218, accuracy_valid: 0.6954, 14.6953sec\n",
            "epoch: 27, loss_train: 0.8692, accuracy_train: 0.7079, loss_valid: 0.9211, accuracy_valid: 0.6946, 14.6432sec\n",
            "epoch: 28, loss_train: 0.8685, accuracy_train: 0.7076, loss_valid: 0.9206, accuracy_valid: 0.6946, 14.7117sec\n",
            "epoch: 29, loss_train: 0.8682, accuracy_train: 0.7077, loss_valid: 0.9203, accuracy_valid: 0.6946, 14.6988sec\n",
            "epoch: 30, loss_train: 0.8679, accuracy_train: 0.7078, loss_valid: 0.9201, accuracy_valid: 0.6946, 14.7619sec\n"
          ],
          "name": "stdout"
        },
        {
          "output_type": "stream",
          "text": [
            "[I 2020-06-17 13:48:20,163] Finished trial#7 with value: 0.9201359981726743 with parameters: {'emb_size': 200.0, 'out_channels': 150.0, 'drop_rate': 0.0, 'learning_rate': 0.0009391050690086679, 'momentum': 0.6, 'batch_size': 16.0}. Best is trial#2 with value: 0.5368596914999499.\n"
          ],
          "name": "stderr"
        },
        {
          "output_type": "stream",
          "text": [
            "epoch: 1, loss_train: 1.2404, accuracy_train: 0.4040, loss_valid: 1.2341, accuracy_valid: 0.4049, 11.9181sec\n",
            "epoch: 2, loss_train: 1.1999, accuracy_train: 0.4401, loss_valid: 1.1946, accuracy_valid: 0.4356, 11.8263sec\n",
            "epoch: 3, loss_train: 1.1829, accuracy_train: 0.4871, loss_valid: 1.1793, accuracy_valid: 0.4701, 11.7867sec\n",
            "epoch: 4, loss_train: 1.1736, accuracy_train: 0.5001, loss_valid: 1.1716, accuracy_valid: 0.4865, 11.8512sec\n",
            "epoch: 5, loss_train: 1.1673, accuracy_train: 0.5011, loss_valid: 1.1666, accuracy_valid: 0.4873, 11.9049sec\n",
            "epoch: 6, loss_train: 1.1624, accuracy_train: 0.5056, loss_valid: 1.1626, accuracy_valid: 0.4948, 11.8402sec\n",
            "epoch: 7, loss_train: 1.1583, accuracy_train: 0.5080, loss_valid: 1.1591, accuracy_valid: 0.4948, 11.9240sec\n",
            "epoch: 8, loss_train: 1.1547, accuracy_train: 0.5099, loss_valid: 1.1561, accuracy_valid: 0.4955, 11.8848sec\n",
            "epoch: 9, loss_train: 1.1514, accuracy_train: 0.5122, loss_valid: 1.1533, accuracy_valid: 0.4955, 11.9217sec\n",
            "epoch: 10, loss_train: 1.1485, accuracy_train: 0.5131, loss_valid: 1.1507, accuracy_valid: 0.4985, 11.8745sec\n",
            "epoch: 11, loss_train: 1.1458, accuracy_train: 0.5139, loss_valid: 1.1484, accuracy_valid: 0.4978, 11.8825sec\n",
            "epoch: 12, loss_train: 1.1434, accuracy_train: 0.5154, loss_valid: 1.1464, accuracy_valid: 0.4970, 11.9202sec\n",
            "epoch: 13, loss_train: 1.1412, accuracy_train: 0.5167, loss_valid: 1.1445, accuracy_valid: 0.4993, 11.9985sec\n",
            "epoch: 14, loss_train: 1.1392, accuracy_train: 0.5169, loss_valid: 1.1427, accuracy_valid: 0.5007, 11.9431sec\n",
            "epoch: 15, loss_train: 1.1374, accuracy_train: 0.5179, loss_valid: 1.1412, accuracy_valid: 0.5007, 11.8886sec\n",
            "epoch: 16, loss_train: 1.1358, accuracy_train: 0.5204, loss_valid: 1.1398, accuracy_valid: 0.5037, 11.8307sec\n",
            "epoch: 17, loss_train: 1.1344, accuracy_train: 0.5208, loss_valid: 1.1386, accuracy_valid: 0.5060, 11.8459sec\n",
            "epoch: 18, loss_train: 1.1331, accuracy_train: 0.5218, loss_valid: 1.1375, accuracy_valid: 0.5075, 11.9071sec\n",
            "epoch: 19, loss_train: 1.1321, accuracy_train: 0.5229, loss_valid: 1.1365, accuracy_valid: 0.5075, 11.8463sec\n",
            "epoch: 20, loss_train: 1.1311, accuracy_train: 0.5234, loss_valid: 1.1357, accuracy_valid: 0.5075, 11.8746sec\n",
            "epoch: 21, loss_train: 1.1303, accuracy_train: 0.5234, loss_valid: 1.1350, accuracy_valid: 0.5082, 11.9064sec\n",
            "epoch: 22, loss_train: 1.1297, accuracy_train: 0.5242, loss_valid: 1.1345, accuracy_valid: 0.5082, 11.8746sec\n",
            "epoch: 23, loss_train: 1.1292, accuracy_train: 0.5244, loss_valid: 1.1340, accuracy_valid: 0.5082, 11.8993sec\n",
            "epoch: 24, loss_train: 1.1288, accuracy_train: 0.5250, loss_valid: 1.1336, accuracy_valid: 0.5090, 11.9259sec\n",
            "epoch: 25, loss_train: 1.1285, accuracy_train: 0.5251, loss_valid: 1.1333, accuracy_valid: 0.5097, 11.8482sec\n",
            "epoch: 26, loss_train: 1.1282, accuracy_train: 0.5253, loss_valid: 1.1331, accuracy_valid: 0.5090, 11.9264sec\n",
            "epoch: 27, loss_train: 1.1281, accuracy_train: 0.5254, loss_valid: 1.1330, accuracy_valid: 0.5090, 11.8943sec\n",
            "epoch: 28, loss_train: 1.1279, accuracy_train: 0.5254, loss_valid: 1.1329, accuracy_valid: 0.5090, 11.9221sec\n",
            "epoch: 29, loss_train: 1.1279, accuracy_train: 0.5255, loss_valid: 1.1328, accuracy_valid: 0.5090, 11.9154sec\n",
            "epoch: 30, loss_train: 1.1278, accuracy_train: 0.5256, loss_valid: 1.1328, accuracy_valid: 0.5090, 11.9019sec\n"
          ],
          "name": "stdout"
        },
        {
          "output_type": "stream",
          "text": [
            "[I 2020-06-17 13:54:18,287] Finished trial#8 with value: 1.1328078816661578 with parameters: {'emb_size': 100.0, 'out_channels': 100.0, 'drop_rate': 0.2, 'learning_rate': 0.0007930027695409871, 'momentum': 0.6, 'batch_size': 112.0}. Best is trial#2 with value: 0.5368596914999499.\n"
          ],
          "name": "stderr"
        },
        {
          "output_type": "stream",
          "text": [
            "epoch: 1, loss_train: 1.1626, accuracy_train: 0.5151, loss_valid: 1.1629, accuracy_valid: 0.4798, 14.6963sec\n",
            "epoch: 2, loss_train: 1.1426, accuracy_train: 0.5302, loss_valid: 1.1448, accuracy_valid: 0.5157, 14.6392sec\n",
            "epoch: 3, loss_train: 1.1263, accuracy_train: 0.5327, loss_valid: 1.1313, accuracy_valid: 0.5090, 14.7113sec\n",
            "epoch: 4, loss_train: 1.1119, accuracy_train: 0.5498, loss_valid: 1.1183, accuracy_valid: 0.5337, 14.7177sec\n",
            "epoch: 5, loss_train: 1.0991, accuracy_train: 0.5584, loss_valid: 1.1077, accuracy_valid: 0.5494, 14.7298sec\n",
            "epoch: 6, loss_train: 1.0876, accuracy_train: 0.5631, loss_valid: 1.0976, accuracy_valid: 0.5584, 14.7730sec\n",
            "epoch: 7, loss_train: 1.0773, accuracy_train: 0.5696, loss_valid: 1.0899, accuracy_valid: 0.5644, 14.7082sec\n",
            "epoch: 8, loss_train: 1.0679, accuracy_train: 0.5763, loss_valid: 1.0822, accuracy_valid: 0.5719, 14.7982sec\n",
            "epoch: 9, loss_train: 1.0593, accuracy_train: 0.5814, loss_valid: 1.0748, accuracy_valid: 0.5771, 14.7254sec\n",
            "epoch: 10, loss_train: 1.0513, accuracy_train: 0.5786, loss_valid: 1.0669, accuracy_valid: 0.5853, 14.7182sec\n",
            "epoch: 11, loss_train: 1.0437, accuracy_train: 0.5937, loss_valid: 1.0622, accuracy_valid: 0.5846, 14.6888sec\n",
            "epoch: 12, loss_train: 1.0367, accuracy_train: 0.5999, loss_valid: 1.0565, accuracy_valid: 0.5943, 14.7736sec\n",
            "epoch: 13, loss_train: 1.0301, accuracy_train: 0.6041, loss_valid: 1.0514, accuracy_valid: 0.5996, 14.6831sec\n",
            "epoch: 14, loss_train: 1.0243, accuracy_train: 0.6014, loss_valid: 1.0455, accuracy_valid: 0.5981, 14.7215sec\n",
            "epoch: 15, loss_train: 1.0186, accuracy_train: 0.6109, loss_valid: 1.0411, accuracy_valid: 0.6100, 14.7421sec\n",
            "epoch: 16, loss_train: 1.0136, accuracy_train: 0.6235, loss_valid: 1.0382, accuracy_valid: 0.6145, 14.7877sec\n",
            "epoch: 17, loss_train: 1.0091, accuracy_train: 0.6165, loss_valid: 1.0333, accuracy_valid: 0.6138, 14.7560sec\n",
            "epoch: 18, loss_train: 1.0050, accuracy_train: 0.6246, loss_valid: 1.0307, accuracy_valid: 0.6205, 14.7299sec\n",
            "epoch: 19, loss_train: 1.0015, accuracy_train: 0.6289, loss_valid: 1.0277, accuracy_valid: 0.6228, 14.7050sec\n",
            "epoch: 20, loss_train: 0.9984, accuracy_train: 0.6307, loss_valid: 1.0249, accuracy_valid: 0.6243, 14.7138sec\n",
            "epoch: 21, loss_train: 0.9957, accuracy_train: 0.6339, loss_valid: 1.0227, accuracy_valid: 0.6310, 14.7764sec\n",
            "epoch: 22, loss_train: 0.9935, accuracy_train: 0.6384, loss_valid: 1.0213, accuracy_valid: 0.6280, 14.6897sec\n",
            "epoch: 23, loss_train: 0.9917, accuracy_train: 0.6374, loss_valid: 1.0195, accuracy_valid: 0.6310, 14.6794sec\n",
            "epoch: 24, loss_train: 0.9902, accuracy_train: 0.6397, loss_valid: 1.0184, accuracy_valid: 0.6325, 14.6467sec\n",
            "epoch: 25, loss_train: 0.9891, accuracy_train: 0.6399, loss_valid: 1.0173, accuracy_valid: 0.6340, 14.7476sec\n",
            "epoch: 26, loss_train: 0.9883, accuracy_train: 0.6411, loss_valid: 1.0166, accuracy_valid: 0.6355, 14.6988sec\n",
            "epoch: 27, loss_train: 0.9876, accuracy_train: 0.6425, loss_valid: 1.0162, accuracy_valid: 0.6355, 14.7041sec\n",
            "epoch: 28, loss_train: 0.9872, accuracy_train: 0.6425, loss_valid: 1.0158, accuracy_valid: 0.6362, 14.7876sec\n",
            "epoch: 29, loss_train: 0.9869, accuracy_train: 0.6425, loss_valid: 1.0156, accuracy_valid: 0.6370, 14.8247sec\n",
            "epoch: 30, loss_train: 0.9867, accuracy_train: 0.6427, loss_valid: 1.0155, accuracy_valid: 0.6370, 14.7222sec\n"
          ],
          "name": "stdout"
        },
        {
          "output_type": "stream",
          "text": [
            "[I 2020-06-17 14:01:41,690] Finished trial#9 with value: 1.0154534751872817 with parameters: {'emb_size': 200.0, 'out_channels': 150.0, 'drop_rate': 0.5, 'learning_rate': 0.0005931529071117646, 'momentum': 0.6, 'batch_size': 16.0}. Best is trial#2 with value: 0.5368596914999499.\n"
          ],
          "name": "stderr"
        },
        {
          "output_type": "stream",
          "text": [
            "epoch: 1, loss_train: 0.7087, accuracy_train: 0.7480, loss_valid: 0.8040, accuracy_valid: 0.7141, 12.2162sec\n",
            "epoch: 2, loss_train: 0.4496, accuracy_train: 0.8470, loss_valid: 0.6316, accuracy_valid: 0.7732, 12.1024sec\n",
            "epoch: 3, loss_train: 0.2892, accuracy_train: 0.9180, loss_valid: 0.5666, accuracy_valid: 0.7979, 12.1048sec\n",
            "epoch: 4, loss_train: 0.1873, accuracy_train: 0.9484, loss_valid: 0.5334, accuracy_valid: 0.8136, 12.0647sec\n",
            "epoch: 5, loss_train: 0.1240, accuracy_train: 0.9717, loss_valid: 0.5323, accuracy_valid: 0.8144, 12.1139sec\n",
            "epoch: 6, loss_train: 0.0831, accuracy_train: 0.9871, loss_valid: 0.5072, accuracy_valid: 0.8234, 12.0742sec\n",
            "epoch: 7, loss_train: 0.0566, accuracy_train: 0.9933, loss_valid: 0.5225, accuracy_valid: 0.8234, 12.0991sec\n",
            "epoch: 8, loss_train: 0.0397, accuracy_train: 0.9960, loss_valid: 0.5073, accuracy_valid: 0.8361, 12.1136sec\n",
            "epoch: 9, loss_train: 0.0323, accuracy_train: 0.9970, loss_valid: 0.5144, accuracy_valid: 0.8398, 12.0670sec\n",
            "epoch: 10, loss_train: 0.0275, accuracy_train: 0.9963, loss_valid: 0.5166, accuracy_valid: 0.8391, 12.0542sec\n",
            "epoch: 11, loss_train: 0.0220, accuracy_train: 0.9971, loss_valid: 0.5289, accuracy_valid: 0.8346, 12.0915sec\n"
          ],
          "name": "stdout"
        },
        {
          "output_type": "stream",
          "text": [
            "[I 2020-06-17 14:03:56,195] Finished trial#10 with value: 0.5289085468578482 with parameters: {'emb_size': 400.0, 'out_channels': 50.0, 'drop_rate': 0.30000000000000004, 'learning_rate': 0.034525441505265694, 'momentum': 0.9, 'batch_size': 48.0}. Best is trial#10 with value: 0.5289085468578482.\n"
          ],
          "name": "stderr"
        },
        {
          "output_type": "stream",
          "text": [
            "epoch: 1, loss_train: 0.6658, accuracy_train: 0.7605, loss_valid: 0.7783, accuracy_valid: 0.7275, 11.9764sec\n",
            "epoch: 2, loss_train: 0.4267, accuracy_train: 0.8696, loss_valid: 0.6325, accuracy_valid: 0.7769, 12.0476sec\n",
            "epoch: 3, loss_train: 0.2685, accuracy_train: 0.9071, loss_valid: 0.5655, accuracy_valid: 0.7927, 12.1993sec\n",
            "epoch: 4, loss_train: 0.1571, accuracy_train: 0.9580, loss_valid: 0.5324, accuracy_valid: 0.8136, 12.0665sec\n",
            "epoch: 5, loss_train: 0.1039, accuracy_train: 0.9788, loss_valid: 0.5338, accuracy_valid: 0.8226, 12.0895sec\n",
            "epoch: 6, loss_train: 0.0658, accuracy_train: 0.9887, loss_valid: 0.5421, accuracy_valid: 0.8293, 12.0781sec\n",
            "epoch: 7, loss_train: 0.0476, accuracy_train: 0.9937, loss_valid: 0.5287, accuracy_valid: 0.8278, 12.1191sec\n",
            "epoch: 8, loss_train: 0.0336, accuracy_train: 0.9956, loss_valid: 0.5546, accuracy_valid: 0.8256, 12.0580sec\n",
            "epoch: 9, loss_train: 0.0322, accuracy_train: 0.9961, loss_valid: 0.5786, accuracy_valid: 0.8263, 12.0674sec\n",
            "epoch: 10, loss_train: 0.0228, accuracy_train: 0.9972, loss_valid: 0.5707, accuracy_valid: 0.8338, 12.1547sec\n",
            "epoch: 11, loss_train: 0.0209, accuracy_train: 0.9968, loss_valid: 0.5847, accuracy_valid: 0.8316, 12.1211sec\n",
            "epoch: 12, loss_train: 0.0174, accuracy_train: 0.9975, loss_valid: 0.6162, accuracy_valid: 0.8241, 12.1877sec\n",
            "epoch: 13, loss_train: 0.0160, accuracy_train: 0.9976, loss_valid: 0.5957, accuracy_valid: 0.8316, 12.1882sec\n",
            "epoch: 14, loss_train: 0.0128, accuracy_train: 0.9983, loss_valid: 0.6196, accuracy_valid: 0.8338, 12.0183sec\n",
            "epoch: 15, loss_train: 0.0116, accuracy_train: 0.9983, loss_valid: 0.6027, accuracy_valid: 0.8368, 12.0240sec\n",
            "epoch: 16, loss_train: 0.0121, accuracy_train: 0.9984, loss_valid: 0.6084, accuracy_valid: 0.8338, 12.0362sec\n",
            "epoch: 17, loss_train: 0.0097, accuracy_train: 0.9986, loss_valid: 0.5966, accuracy_valid: 0.8376, 11.7581sec\n",
            "epoch: 18, loss_train: 0.0097, accuracy_train: 0.9984, loss_valid: 0.6080, accuracy_valid: 0.8331, 11.7553sec\n",
            "epoch: 19, loss_train: 0.0087, accuracy_train: 0.9986, loss_valid: 0.6065, accuracy_valid: 0.8338, 11.7220sec\n",
            "epoch: 20, loss_train: 0.0084, accuracy_train: 0.9986, loss_valid: 0.6230, accuracy_valid: 0.8353, 11.7379sec\n",
            "epoch: 21, loss_train: 0.0076, accuracy_train: 0.9987, loss_valid: 0.6155, accuracy_valid: 0.8353, 11.7153sec\n",
            "epoch: 22, loss_train: 0.0074, accuracy_train: 0.9987, loss_valid: 0.6142, accuracy_valid: 0.8346, 11.7936sec\n",
            "epoch: 23, loss_train: 0.0071, accuracy_train: 0.9987, loss_valid: 0.6115, accuracy_valid: 0.8368, 12.0048sec\n",
            "epoch: 24, loss_train: 0.0068, accuracy_train: 0.9987, loss_valid: 0.6163, accuracy_valid: 0.8376, 11.9324sec\n",
            "epoch: 25, loss_train: 0.0067, accuracy_train: 0.9987, loss_valid: 0.6139, accuracy_valid: 0.8391, 12.0201sec\n",
            "epoch: 26, loss_train: 0.0066, accuracy_train: 0.9987, loss_valid: 0.6161, accuracy_valid: 0.8391, 12.0117sec\n",
            "epoch: 27, loss_train: 0.0066, accuracy_train: 0.9987, loss_valid: 0.6195, accuracy_valid: 0.8368, 12.0671sec\n",
            "epoch: 28, loss_train: 0.0065, accuracy_train: 0.9987, loss_valid: 0.6192, accuracy_valid: 0.8383, 11.9932sec\n",
            "epoch: 29, loss_train: 0.0065, accuracy_train: 0.9987, loss_valid: 0.6184, accuracy_valid: 0.8383, 11.9719sec\n",
            "epoch: 30, loss_train: 0.0065, accuracy_train: 0.9987, loss_valid: 0.6186, accuracy_valid: 0.8383, 12.0695sec\n"
          ],
          "name": "stdout"
        },
        {
          "output_type": "stream",
          "text": [
            "[I 2020-06-17 14:09:57,598] Finished trial#11 with value: 0.6185752343453333 with parameters: {'emb_size': 400.0, 'out_channels': 50.0, 'drop_rate': 0.30000000000000004, 'learning_rate': 0.04635897321301914, 'momentum': 0.9, 'batch_size': 48.0}. Best is trial#10 with value: 0.5289085468578482.\n"
          ],
          "name": "stderr"
        },
        {
          "output_type": "stream",
          "text": [
            "epoch: 1, loss_train: 0.8724, accuracy_train: 0.6973, loss_valid: 0.9158, accuracy_valid: 0.6864, 12.0428sec\n",
            "epoch: 2, loss_train: 0.6797, accuracy_train: 0.7606, loss_valid: 0.7758, accuracy_valid: 0.7365, 12.1062sec\n",
            "epoch: 3, loss_train: 0.5267, accuracy_train: 0.8248, loss_valid: 0.6943, accuracy_valid: 0.7612, 12.0625sec\n",
            "epoch: 4, loss_train: 0.4203, accuracy_train: 0.8641, loss_valid: 0.6280, accuracy_valid: 0.7904, 12.0708sec\n",
            "epoch: 5, loss_train: 0.3026, accuracy_train: 0.9146, loss_valid: 0.5622, accuracy_valid: 0.8069, 12.1008sec\n",
            "epoch: 6, loss_train: 0.2355, accuracy_train: 0.9389, loss_valid: 0.5314, accuracy_valid: 0.8114, 12.0856sec\n",
            "epoch: 7, loss_train: 0.1864, accuracy_train: 0.9521, loss_valid: 0.5264, accuracy_valid: 0.8196, 12.1144sec\n",
            "epoch: 8, loss_train: 0.1454, accuracy_train: 0.9785, loss_valid: 0.5166, accuracy_valid: 0.8241, 12.2034sec\n",
            "epoch: 9, loss_train: 0.1190, accuracy_train: 0.9751, loss_valid: 0.5077, accuracy_valid: 0.8211, 12.0866sec\n",
            "epoch: 10, loss_train: 0.0938, accuracy_train: 0.9903, loss_valid: 0.5006, accuracy_valid: 0.8383, 12.0696sec\n",
            "epoch: 11, loss_train: 0.0750, accuracy_train: 0.9922, loss_valid: 0.4867, accuracy_valid: 0.8421, 11.9867sec\n",
            "epoch: 12, loss_train: 0.0640, accuracy_train: 0.9952, loss_valid: 0.4872, accuracy_valid: 0.8413, 12.1279sec\n",
            "epoch: 13, loss_train: 0.0541, accuracy_train: 0.9964, loss_valid: 0.4923, accuracy_valid: 0.8406, 12.1740sec\n",
            "epoch: 14, loss_train: 0.0483, accuracy_train: 0.9965, loss_valid: 0.4925, accuracy_valid: 0.8406, 12.1476sec\n"
          ],
          "name": "stdout"
        },
        {
          "output_type": "stream",
          "text": [
            "[I 2020-06-17 14:12:48,402] Finished trial#12 with value: 0.4925020979996213 with parameters: {'emb_size': 400.0, 'out_channels': 50.0, 'drop_rate': 0.30000000000000004, 'learning_rate': 0.028464405865370475, 'momentum': 0.8, 'batch_size': 48.0}. Best is trial#12 with value: 0.4925020979996213.\n"
          ],
          "name": "stderr"
        },
        {
          "output_type": "stream",
          "text": [
            "epoch: 1, loss_train: 0.7927, accuracy_train: 0.7214, loss_valid: 0.8594, accuracy_valid: 0.7073, 12.0505sec\n",
            "epoch: 2, loss_train: 0.5934, accuracy_train: 0.7829, loss_valid: 0.7247, accuracy_valid: 0.7388, 12.1143sec\n",
            "epoch: 3, loss_train: 0.4181, accuracy_train: 0.8536, loss_valid: 0.6188, accuracy_valid: 0.7762, 11.9806sec\n",
            "epoch: 4, loss_train: 0.2988, accuracy_train: 0.9020, loss_valid: 0.5590, accuracy_valid: 0.8091, 11.7136sec\n",
            "epoch: 5, loss_train: 0.2333, accuracy_train: 0.9228, loss_valid: 0.5527, accuracy_valid: 0.7949, 11.7592sec\n",
            "epoch: 6, loss_train: 0.1579, accuracy_train: 0.9658, loss_valid: 0.5153, accuracy_valid: 0.8121, 11.8042sec\n",
            "epoch: 7, loss_train: 0.1185, accuracy_train: 0.9778, loss_valid: 0.5146, accuracy_valid: 0.8234, 11.7114sec\n",
            "epoch: 8, loss_train: 0.0887, accuracy_train: 0.9866, loss_valid: 0.4981, accuracy_valid: 0.8406, 11.7464sec\n",
            "epoch: 9, loss_train: 0.0645, accuracy_train: 0.9937, loss_valid: 0.5085, accuracy_valid: 0.8204, 11.7004sec\n",
            "epoch: 10, loss_train: 0.0520, accuracy_train: 0.9949, loss_valid: 0.5042, accuracy_valid: 0.8256, 11.6782sec\n",
            "epoch: 11, loss_train: 0.0422, accuracy_train: 0.9970, loss_valid: 0.5115, accuracy_valid: 0.8256, 11.9176sec\n",
            "epoch: 12, loss_train: 0.0355, accuracy_train: 0.9971, loss_valid: 0.5104, accuracy_valid: 0.8323, 11.9725sec\n",
            "epoch: 13, loss_train: 0.0314, accuracy_train: 0.9975, loss_valid: 0.5036, accuracy_valid: 0.8263, 12.0053sec\n",
            "epoch: 14, loss_train: 0.0267, accuracy_train: 0.9985, loss_valid: 0.5019, accuracy_valid: 0.8301, 11.9125sec\n",
            "epoch: 15, loss_train: 0.0245, accuracy_train: 0.9984, loss_valid: 0.5194, accuracy_valid: 0.8263, 11.8948sec\n",
            "epoch: 16, loss_train: 0.0217, accuracy_train: 0.9984, loss_valid: 0.5086, accuracy_valid: 0.8338, 11.9345sec\n",
            "epoch: 17, loss_train: 0.0196, accuracy_train: 0.9988, loss_valid: 0.5104, accuracy_valid: 0.8301, 11.8903sec\n",
            "epoch: 18, loss_train: 0.0192, accuracy_train: 0.9982, loss_valid: 0.5127, accuracy_valid: 0.8338, 11.9615sec\n",
            "epoch: 19, loss_train: 0.0174, accuracy_train: 0.9987, loss_valid: 0.5135, accuracy_valid: 0.8353, 11.9900sec\n"
          ],
          "name": "stdout"
        },
        {
          "output_type": "stream",
          "text": [
            "[I 2020-06-17 14:16:35,521] Finished trial#13 with value: 0.5135139734623675 with parameters: {'emb_size': 400.0, 'out_channels': 50.0, 'drop_rate': 0.30000000000000004, 'learning_rate': 0.03917449364365402, 'momentum': 0.8, 'batch_size': 48.0}. Best is trial#12 with value: 0.4925020979996213.\n"
          ],
          "name": "stderr"
        },
        {
          "output_type": "stream",
          "text": [
            "epoch: 1, loss_train: 0.9259, accuracy_train: 0.6955, loss_valid: 0.9629, accuracy_valid: 0.6707, 12.0458sec\n",
            "epoch: 2, loss_train: 0.7548, accuracy_train: 0.7288, loss_valid: 0.8341, accuracy_valid: 0.7066, 11.9236sec\n",
            "epoch: 3, loss_train: 0.6170, accuracy_train: 0.7810, loss_valid: 0.7466, accuracy_valid: 0.7373, 11.9566sec\n",
            "epoch: 4, loss_train: 0.5030, accuracy_train: 0.8224, loss_valid: 0.6778, accuracy_valid: 0.7597, 11.8268sec\n",
            "epoch: 5, loss_train: 0.4038, accuracy_train: 0.8627, loss_valid: 0.6131, accuracy_valid: 0.7807, 11.8705sec\n",
            "epoch: 6, loss_train: 0.3307, accuracy_train: 0.8998, loss_valid: 0.5765, accuracy_valid: 0.8039, 11.8286sec\n",
            "epoch: 7, loss_train: 0.2766, accuracy_train: 0.9183, loss_valid: 0.5580, accuracy_valid: 0.8001, 11.8968sec\n",
            "epoch: 8, loss_train: 0.2267, accuracy_train: 0.9466, loss_valid: 0.5389, accuracy_valid: 0.8114, 11.8337sec\n",
            "epoch: 9, loss_train: 0.1882, accuracy_train: 0.9632, loss_valid: 0.5243, accuracy_valid: 0.8226, 11.8619sec\n",
            "epoch: 10, loss_train: 0.1591, accuracy_train: 0.9713, loss_valid: 0.5072, accuracy_valid: 0.8263, 11.8387sec\n",
            "epoch: 11, loss_train: 0.1369, accuracy_train: 0.9774, loss_valid: 0.5029, accuracy_valid: 0.8293, 11.8394sec\n",
            "epoch: 12, loss_train: 0.1170, accuracy_train: 0.9846, loss_valid: 0.5003, accuracy_valid: 0.8353, 11.6665sec\n",
            "epoch: 13, loss_train: 0.1041, accuracy_train: 0.9868, loss_valid: 0.4975, accuracy_valid: 0.8278, 11.7085sec\n",
            "epoch: 14, loss_train: 0.0929, accuracy_train: 0.9920, loss_valid: 0.5021, accuracy_valid: 0.8391, 11.7679sec\n",
            "epoch: 15, loss_train: 0.0807, accuracy_train: 0.9938, loss_valid: 0.4914, accuracy_valid: 0.8361, 11.6773sec\n",
            "epoch: 16, loss_train: 0.0745, accuracy_train: 0.9934, loss_valid: 0.4867, accuracy_valid: 0.8413, 11.8201sec\n",
            "epoch: 17, loss_train: 0.0670, accuracy_train: 0.9944, loss_valid: 0.4834, accuracy_valid: 0.8331, 11.8881sec\n",
            "epoch: 18, loss_train: 0.0620, accuracy_train: 0.9955, loss_valid: 0.4818, accuracy_valid: 0.8413, 11.8642sec\n",
            "epoch: 19, loss_train: 0.0586, accuracy_train: 0.9955, loss_valid: 0.4779, accuracy_valid: 0.8428, 11.8914sec\n",
            "epoch: 20, loss_train: 0.0554, accuracy_train: 0.9962, loss_valid: 0.4776, accuracy_valid: 0.8443, 12.0138sec\n",
            "epoch: 21, loss_train: 0.0526, accuracy_train: 0.9973, loss_valid: 0.4800, accuracy_valid: 0.8451, 11.8800sec\n",
            "epoch: 22, loss_train: 0.0503, accuracy_train: 0.9966, loss_valid: 0.4792, accuracy_valid: 0.8406, 11.8416sec\n",
            "epoch: 23, loss_train: 0.0487, accuracy_train: 0.9977, loss_valid: 0.4817, accuracy_valid: 0.8398, 11.9200sec\n",
            "epoch: 24, loss_train: 0.0475, accuracy_train: 0.9971, loss_valid: 0.4781, accuracy_valid: 0.8413, 11.8973sec\n",
            "epoch: 25, loss_train: 0.0468, accuracy_train: 0.9975, loss_valid: 0.4802, accuracy_valid: 0.8421, 11.9317sec\n",
            "epoch: 26, loss_train: 0.0460, accuracy_train: 0.9976, loss_valid: 0.4802, accuracy_valid: 0.8428, 11.9632sec\n",
            "epoch: 27, loss_train: 0.0456, accuracy_train: 0.9976, loss_valid: 0.4811, accuracy_valid: 0.8428, 12.0106sec\n",
            "epoch: 28, loss_train: 0.0454, accuracy_train: 0.9976, loss_valid: 0.4818, accuracy_valid: 0.8421, 11.9845sec\n",
            "epoch: 29, loss_train: 0.0453, accuracy_train: 0.9976, loss_valid: 0.4815, accuracy_valid: 0.8428, 12.0536sec\n",
            "epoch: 30, loss_train: 0.0453, accuracy_train: 0.9976, loss_valid: 0.4815, accuracy_valid: 0.8421, 12.0067sec\n"
          ],
          "name": "stdout"
        },
        {
          "output_type": "stream",
          "text": [
            "[I 2020-06-17 14:22:33,450] Finished trial#14 with value: 0.48151480879433856 with parameters: {'emb_size': 300.0, 'out_channels': 50.0, 'drop_rate': 0.4, 'learning_rate': 0.02309862778484548, 'momentum': 0.8, 'batch_size': 48.0}. Best is trial#14 with value: 0.48151480879433856.\n"
          ],
          "name": "stderr"
        },
        {
          "output_type": "stream",
          "text": [
            "epoch: 1, loss_train: 0.8457, accuracy_train: 0.7127, loss_valid: 0.8929, accuracy_valid: 0.7013, 12.1504sec\n",
            "epoch: 2, loss_train: 0.6599, accuracy_train: 0.7702, loss_valid: 0.7701, accuracy_valid: 0.7201, 12.1493sec\n",
            "epoch: 3, loss_train: 0.5174, accuracy_train: 0.8121, loss_valid: 0.6752, accuracy_valid: 0.7552, 12.1756sec\n",
            "epoch: 4, loss_train: 0.3974, accuracy_train: 0.8668, loss_valid: 0.6012, accuracy_valid: 0.7897, 12.2123sec\n",
            "epoch: 5, loss_train: 0.3076, accuracy_train: 0.9069, loss_valid: 0.5603, accuracy_valid: 0.8069, 12.1903sec\n",
            "epoch: 6, loss_train: 0.2509, accuracy_train: 0.9345, loss_valid: 0.5428, accuracy_valid: 0.8091, 12.1596sec\n",
            "epoch: 7, loss_train: 0.1940, accuracy_train: 0.9458, loss_valid: 0.5154, accuracy_valid: 0.8211, 12.1180sec\n",
            "epoch: 8, loss_train: 0.1595, accuracy_train: 0.9642, loss_valid: 0.5193, accuracy_valid: 0.8204, 12.0995sec\n",
            "epoch: 9, loss_train: 0.1236, accuracy_train: 0.9806, loss_valid: 0.4913, accuracy_valid: 0.8323, 12.1470sec\n",
            "epoch: 10, loss_train: 0.1025, accuracy_train: 0.9884, loss_valid: 0.4850, accuracy_valid: 0.8338, 12.2343sec\n",
            "epoch: 11, loss_train: 0.0838, accuracy_train: 0.9899, loss_valid: 0.4826, accuracy_valid: 0.8361, 12.1786sec\n",
            "epoch: 12, loss_train: 0.0699, accuracy_train: 0.9942, loss_valid: 0.4821, accuracy_valid: 0.8353, 12.1572sec\n",
            "epoch: 13, loss_train: 0.0614, accuracy_train: 0.9948, loss_valid: 0.4812, accuracy_valid: 0.8443, 12.1414sec\n",
            "epoch: 14, loss_train: 0.0539, accuracy_train: 0.9956, loss_valid: 0.4750, accuracy_valid: 0.8391, 12.1670sec\n",
            "epoch: 15, loss_train: 0.0468, accuracy_train: 0.9959, loss_valid: 0.4766, accuracy_valid: 0.8421, 12.2086sec\n",
            "epoch: 16, loss_train: 0.0438, accuracy_train: 0.9968, loss_valid: 0.4792, accuracy_valid: 0.8451, 12.2091sec\n",
            "epoch: 17, loss_train: 0.0388, accuracy_train: 0.9977, loss_valid: 0.4767, accuracy_valid: 0.8421, 12.2960sec\n",
            "epoch: 18, loss_train: 0.0365, accuracy_train: 0.9977, loss_valid: 0.4753, accuracy_valid: 0.8473, 12.2509sec\n",
            "epoch: 19, loss_train: 0.0330, accuracy_train: 0.9978, loss_valid: 0.4760, accuracy_valid: 0.8413, 12.1908sec\n",
            "epoch: 20, loss_train: 0.0310, accuracy_train: 0.9977, loss_valid: 0.4798, accuracy_valid: 0.8458, 12.2352sec\n",
            "epoch: 21, loss_train: 0.0304, accuracy_train: 0.9980, loss_valid: 0.4774, accuracy_valid: 0.8451, 12.2093sec\n",
            "epoch: 22, loss_train: 0.0288, accuracy_train: 0.9979, loss_valid: 0.4781, accuracy_valid: 0.8481, 12.2572sec\n",
            "epoch: 23, loss_train: 0.0276, accuracy_train: 0.9979, loss_valid: 0.4714, accuracy_valid: 0.8466, 12.0799sec\n",
            "epoch: 24, loss_train: 0.0269, accuracy_train: 0.9978, loss_valid: 0.4740, accuracy_valid: 0.8421, 11.9918sec\n",
            "epoch: 25, loss_train: 0.0262, accuracy_train: 0.9978, loss_valid: 0.4736, accuracy_valid: 0.8443, 11.9846sec\n",
            "epoch: 26, loss_train: 0.0259, accuracy_train: 0.9979, loss_valid: 0.4742, accuracy_valid: 0.8443, 12.1153sec\n",
            "epoch: 27, loss_train: 0.0257, accuracy_train: 0.9979, loss_valid: 0.4748, accuracy_valid: 0.8428, 12.1126sec\n",
            "epoch: 28, loss_train: 0.0255, accuracy_train: 0.9979, loss_valid: 0.4751, accuracy_valid: 0.8428, 12.1519sec\n"
          ],
          "name": "stdout"
        },
        {
          "output_type": "stream",
          "text": [
            "[I 2020-06-17 14:28:15,412] Finished trial#15 with value: 0.4750749973836773 with parameters: {'emb_size': 300.0, 'out_channels': 50.0, 'drop_rate': 0.4, 'learning_rate': 0.020375706040742115, 'momentum': 0.8, 'batch_size': 32.0}. Best is trial#15 with value: 0.4750749973836773.\n"
          ],
          "name": "stderr"
        },
        {
          "output_type": "stream",
          "text": [
            "epoch: 1, loss_train: 0.9141, accuracy_train: 0.6829, loss_valid: 0.9601, accuracy_valid: 0.6534, 12.2342sec\n",
            "epoch: 2, loss_train: 0.7232, accuracy_train: 0.7514, loss_valid: 0.8204, accuracy_valid: 0.7231, 12.2962sec\n",
            "epoch: 3, loss_train: 0.5892, accuracy_train: 0.7871, loss_valid: 0.7316, accuracy_valid: 0.7403, 12.1607sec\n",
            "epoch: 4, loss_train: 0.4655, accuracy_train: 0.8411, loss_valid: 0.6564, accuracy_valid: 0.7754, 12.1326sec\n",
            "epoch: 5, loss_train: 0.3596, accuracy_train: 0.8855, loss_valid: 0.5958, accuracy_valid: 0.7979, 12.1845sec\n",
            "epoch: 6, loss_train: 0.2871, accuracy_train: 0.9148, loss_valid: 0.5640, accuracy_valid: 0.8061, 12.1330sec\n",
            "epoch: 7, loss_train: 0.2329, accuracy_train: 0.9340, loss_valid: 0.5370, accuracy_valid: 0.8121, 12.2009sec\n",
            "epoch: 8, loss_train: 0.1889, accuracy_train: 0.9544, loss_valid: 0.5194, accuracy_valid: 0.8226, 12.1914sec\n",
            "epoch: 9, loss_train: 0.1566, accuracy_train: 0.9667, loss_valid: 0.5036, accuracy_valid: 0.8234, 12.2063sec\n",
            "epoch: 10, loss_train: 0.1232, accuracy_train: 0.9832, loss_valid: 0.4991, accuracy_valid: 0.8301, 12.1720sec\n",
            "epoch: 11, loss_train: 0.1021, accuracy_train: 0.9905, loss_valid: 0.4952, accuracy_valid: 0.8308, 12.1686sec\n",
            "epoch: 12, loss_train: 0.0874, accuracy_train: 0.9935, loss_valid: 0.4850, accuracy_valid: 0.8398, 12.1799sec\n",
            "epoch: 13, loss_train: 0.0748, accuracy_train: 0.9946, loss_valid: 0.4808, accuracy_valid: 0.8353, 12.1683sec\n",
            "epoch: 14, loss_train: 0.0668, accuracy_train: 0.9964, loss_valid: 0.4868, accuracy_valid: 0.8338, 12.1796sec\n",
            "epoch: 15, loss_train: 0.0586, accuracy_train: 0.9973, loss_valid: 0.4812, accuracy_valid: 0.8391, 12.2909sec\n",
            "epoch: 16, loss_train: 0.0517, accuracy_train: 0.9977, loss_valid: 0.4763, accuracy_valid: 0.8421, 12.2612sec\n",
            "epoch: 17, loss_train: 0.0483, accuracy_train: 0.9984, loss_valid: 0.4811, accuracy_valid: 0.8383, 12.2254sec\n",
            "epoch: 18, loss_train: 0.0450, accuracy_train: 0.9981, loss_valid: 0.4860, accuracy_valid: 0.8391, 12.2582sec\n",
            "epoch: 19, loss_train: 0.0412, accuracy_train: 0.9985, loss_valid: 0.4827, accuracy_valid: 0.8398, 12.1865sec\n",
            "epoch: 20, loss_train: 0.0387, accuracy_train: 0.9987, loss_valid: 0.4798, accuracy_valid: 0.8406, 12.3505sec\n",
            "epoch: 21, loss_train: 0.0368, accuracy_train: 0.9991, loss_valid: 0.4772, accuracy_valid: 0.8421, 12.1935sec\n",
            "epoch: 22, loss_train: 0.0354, accuracy_train: 0.9991, loss_valid: 0.4788, accuracy_valid: 0.8421, 12.2824sec\n",
            "epoch: 23, loss_train: 0.0343, accuracy_train: 0.9991, loss_valid: 0.4799, accuracy_valid: 0.8413, 12.1219sec\n",
            "epoch: 24, loss_train: 0.0335, accuracy_train: 0.9991, loss_valid: 0.4813, accuracy_valid: 0.8428, 12.1829sec\n"
          ],
          "name": "stdout"
        },
        {
          "output_type": "stream",
          "text": [
            "[I 2020-06-17 14:33:09,786] Finished trial#16 with value: 0.4812657129978705 with parameters: {'emb_size': 300.0, 'out_channels': 100.0, 'drop_rate': 0.4, 'learning_rate': 0.014885224534583961, 'momentum': 0.8, 'batch_size': 32.0}. Best is trial#15 with value: 0.4750749973836773.\n"
          ],
          "name": "stderr"
        },
        {
          "output_type": "stream",
          "text": [
            "epoch: 1, loss_train: 0.9313, accuracy_train: 0.6683, loss_valid: 0.9676, accuracy_valid: 0.6684, 12.1591sec\n",
            "epoch: 2, loss_train: 0.7511, accuracy_train: 0.7381, loss_valid: 0.8277, accuracy_valid: 0.7223, 12.1875sec\n",
            "epoch: 3, loss_train: 0.6303, accuracy_train: 0.7742, loss_valid: 0.7591, accuracy_valid: 0.7298, 12.1501sec\n",
            "epoch: 4, loss_train: 0.5103, accuracy_train: 0.8202, loss_valid: 0.6806, accuracy_valid: 0.7552, 12.2387sec\n",
            "epoch: 5, loss_train: 0.4113, accuracy_train: 0.8587, loss_valid: 0.6192, accuracy_valid: 0.7852, 12.1913sec\n",
            "epoch: 6, loss_train: 0.3294, accuracy_train: 0.9080, loss_valid: 0.5766, accuracy_valid: 0.7964, 12.1718sec\n",
            "epoch: 7, loss_train: 0.2675, accuracy_train: 0.9289, loss_valid: 0.5395, accuracy_valid: 0.8084, 12.2272sec\n",
            "epoch: 8, loss_train: 0.2178, accuracy_train: 0.9553, loss_valid: 0.5170, accuracy_valid: 0.8159, 12.1875sec\n",
            "epoch: 9, loss_train: 0.1817, accuracy_train: 0.9587, loss_valid: 0.5084, accuracy_valid: 0.8181, 12.2168sec\n",
            "epoch: 10, loss_train: 0.1502, accuracy_train: 0.9722, loss_valid: 0.4937, accuracy_valid: 0.8241, 12.2500sec\n",
            "epoch: 11, loss_train: 0.1276, accuracy_train: 0.9838, loss_valid: 0.4852, accuracy_valid: 0.8316, 12.2446sec\n",
            "epoch: 12, loss_train: 0.1100, accuracy_train: 0.9862, loss_valid: 0.4821, accuracy_valid: 0.8323, 12.1815sec\n",
            "epoch: 13, loss_train: 0.0931, accuracy_train: 0.9922, loss_valid: 0.4839, accuracy_valid: 0.8293, 12.1986sec\n",
            "epoch: 14, loss_train: 0.0810, accuracy_train: 0.9950, loss_valid: 0.4729, accuracy_valid: 0.8293, 12.1770sec\n",
            "epoch: 15, loss_train: 0.0740, accuracy_train: 0.9938, loss_valid: 0.4784, accuracy_valid: 0.8338, 12.1791sec\n",
            "epoch: 16, loss_train: 0.0654, accuracy_train: 0.9960, loss_valid: 0.4663, accuracy_valid: 0.8338, 12.2777sec\n",
            "epoch: 17, loss_train: 0.0596, accuracy_train: 0.9972, loss_valid: 0.4653, accuracy_valid: 0.8398, 12.2152sec\n",
            "epoch: 18, loss_train: 0.0561, accuracy_train: 0.9970, loss_valid: 0.4689, accuracy_valid: 0.8368, 12.2257sec\n",
            "epoch: 19, loss_train: 0.0521, accuracy_train: 0.9978, loss_valid: 0.4661, accuracy_valid: 0.8368, 12.1559sec\n",
            "epoch: 20, loss_train: 0.0493, accuracy_train: 0.9981, loss_valid: 0.4676, accuracy_valid: 0.8443, 12.1786sec\n",
            "epoch: 21, loss_train: 0.0467, accuracy_train: 0.9982, loss_valid: 0.4671, accuracy_valid: 0.8406, 12.2494sec\n",
            "epoch: 22, loss_train: 0.0447, accuracy_train: 0.9986, loss_valid: 0.4650, accuracy_valid: 0.8413, 12.2180sec\n",
            "epoch: 23, loss_train: 0.0434, accuracy_train: 0.9985, loss_valid: 0.4664, accuracy_valid: 0.8406, 11.9538sec\n",
            "epoch: 24, loss_train: 0.0423, accuracy_train: 0.9988, loss_valid: 0.4690, accuracy_valid: 0.8391, 12.0140sec\n",
            "epoch: 25, loss_train: 0.0417, accuracy_train: 0.9985, loss_valid: 0.4695, accuracy_valid: 0.8406, 11.9485sec\n"
          ],
          "name": "stdout"
        },
        {
          "output_type": "stream",
          "text": [
            "[I 2020-06-17 14:38:15,557] Finished trial#17 with value: 0.46946281966513503 with parameters: {'emb_size': 300.0, 'out_channels': 100.0, 'drop_rate': 0.4, 'learning_rate': 0.013345934577557608, 'momentum': 0.8, 'batch_size': 32.0}. Best is trial#17 with value: 0.46946281966513503.\n"
          ],
          "name": "stderr"
        },
        {
          "output_type": "stream",
          "text": [
            "epoch: 1, loss_train: 0.9927, accuracy_train: 0.6360, loss_valid: 1.0208, accuracy_valid: 0.6317, 11.9110sec\n",
            "epoch: 2, loss_train: 0.8362, accuracy_train: 0.7116, loss_valid: 0.8963, accuracy_valid: 0.6901, 12.0549sec\n",
            "epoch: 3, loss_train: 0.7258, accuracy_train: 0.7405, loss_valid: 0.8140, accuracy_valid: 0.7223, 12.0852sec\n",
            "epoch: 4, loss_train: 0.6252, accuracy_train: 0.7798, loss_valid: 0.7523, accuracy_valid: 0.7358, 12.1279sec\n",
            "epoch: 5, loss_train: 0.5341, accuracy_train: 0.8173, loss_valid: 0.7008, accuracy_valid: 0.7545, 12.1066sec\n",
            "epoch: 6, loss_train: 0.4583, accuracy_train: 0.8503, loss_valid: 0.6627, accuracy_valid: 0.7702, 12.1371sec\n",
            "epoch: 7, loss_train: 0.3859, accuracy_train: 0.8808, loss_valid: 0.6092, accuracy_valid: 0.7904, 12.1052sec\n",
            "epoch: 8, loss_train: 0.3294, accuracy_train: 0.8998, loss_valid: 0.5806, accuracy_valid: 0.8009, 12.0945sec\n",
            "epoch: 9, loss_train: 0.2828, accuracy_train: 0.9248, loss_valid: 0.5590, accuracy_valid: 0.8076, 12.1073sec\n",
            "epoch: 10, loss_train: 0.2514, accuracy_train: 0.9499, loss_valid: 0.5613, accuracy_valid: 0.8061, 12.1347sec\n",
            "epoch: 11, loss_train: 0.2131, accuracy_train: 0.9525, loss_valid: 0.5272, accuracy_valid: 0.8151, 12.1250sec\n",
            "epoch: 12, loss_train: 0.1910, accuracy_train: 0.9623, loss_valid: 0.5217, accuracy_valid: 0.8234, 12.1814sec\n",
            "epoch: 13, loss_train: 0.1670, accuracy_train: 0.9682, loss_valid: 0.5066, accuracy_valid: 0.8226, 12.1244sec\n",
            "epoch: 14, loss_train: 0.1484, accuracy_train: 0.9771, loss_valid: 0.4954, accuracy_valid: 0.8323, 12.1002sec\n",
            "epoch: 15, loss_train: 0.1340, accuracy_train: 0.9815, loss_valid: 0.4898, accuracy_valid: 0.8278, 12.0874sec\n",
            "epoch: 16, loss_train: 0.1229, accuracy_train: 0.9890, loss_valid: 0.4913, accuracy_valid: 0.8331, 12.1222sec\n",
            "epoch: 17, loss_train: 0.1126, accuracy_train: 0.9899, loss_valid: 0.4895, accuracy_valid: 0.8338, 12.0243sec\n",
            "epoch: 18, loss_train: 0.1060, accuracy_train: 0.9904, loss_valid: 0.4879, accuracy_valid: 0.8331, 12.1436sec\n",
            "epoch: 19, loss_train: 0.0992, accuracy_train: 0.9915, loss_valid: 0.4832, accuracy_valid: 0.8353, 12.1779sec\n",
            "epoch: 20, loss_train: 0.0937, accuracy_train: 0.9937, loss_valid: 0.4809, accuracy_valid: 0.8368, 12.0591sec\n",
            "epoch: 21, loss_train: 0.0899, accuracy_train: 0.9938, loss_valid: 0.4748, accuracy_valid: 0.8406, 12.1731sec\n",
            "epoch: 22, loss_train: 0.0865, accuracy_train: 0.9947, loss_valid: 0.4792, accuracy_valid: 0.8376, 12.2279sec\n",
            "epoch: 23, loss_train: 0.0849, accuracy_train: 0.9940, loss_valid: 0.4758, accuracy_valid: 0.8353, 12.0840sec\n",
            "epoch: 24, loss_train: 0.0824, accuracy_train: 0.9951, loss_valid: 0.4770, accuracy_valid: 0.8406, 12.0876sec\n",
            "epoch: 25, loss_train: 0.0809, accuracy_train: 0.9955, loss_valid: 0.4771, accuracy_valid: 0.8391, 12.1419sec\n",
            "epoch: 26, loss_train: 0.0798, accuracy_train: 0.9957, loss_valid: 0.4762, accuracy_valid: 0.8391, 12.2237sec\n",
            "epoch: 27, loss_train: 0.0791, accuracy_train: 0.9957, loss_valid: 0.4761, accuracy_valid: 0.8398, 11.9802sec\n",
            "epoch: 28, loss_train: 0.0788, accuracy_train: 0.9959, loss_valid: 0.4762, accuracy_valid: 0.8398, 11.9380sec\n",
            "epoch: 29, loss_train: 0.0785, accuracy_train: 0.9959, loss_valid: 0.4759, accuracy_valid: 0.8406, 12.1056sec\n",
            "epoch: 30, loss_train: 0.0785, accuracy_train: 0.9958, loss_valid: 0.4758, accuracy_valid: 0.8406, 12.1368sec\n"
          ],
          "name": "stdout"
        },
        {
          "output_type": "stream",
          "text": [
            "[I 2020-06-17 14:44:20,078] Finished trial#18 with value: 0.47583517320677193 with parameters: {'emb_size': 300.0, 'out_channels': 100.0, 'drop_rate': 0.4, 'learning_rate': 0.00496948923868012, 'momentum': 0.9, 'batch_size': 32.0}. Best is trial#17 with value: 0.46946281966513503.\n"
          ],
          "name": "stderr"
        },
        {
          "output_type": "stream",
          "text": [
            "epoch: 1, loss_train: 1.1074, accuracy_train: 0.5449, loss_valid: 1.1126, accuracy_valid: 0.5412, 11.5958sec\n",
            "epoch: 2, loss_train: 1.0543, accuracy_train: 0.5684, loss_valid: 1.0678, accuracy_valid: 0.5816, 11.6642sec\n",
            "epoch: 3, loss_train: 1.0083, accuracy_train: 0.6012, loss_valid: 1.0285, accuracy_valid: 0.6093, 11.5889sec\n",
            "epoch: 4, loss_train: 0.9589, accuracy_train: 0.6645, loss_valid: 0.9944, accuracy_valid: 0.6504, 11.6536sec\n",
            "epoch: 5, loss_train: 0.9090, accuracy_train: 0.6949, loss_valid: 0.9491, accuracy_valid: 0.6729, 11.6164sec\n",
            "epoch: 6, loss_train: 0.8635, accuracy_train: 0.7073, loss_valid: 0.9142, accuracy_valid: 0.6886, 11.5797sec\n",
            "epoch: 7, loss_train: 0.8248, accuracy_train: 0.7200, loss_valid: 0.8841, accuracy_valid: 0.6999, 11.4875sec\n",
            "epoch: 8, loss_train: 0.7891, accuracy_train: 0.7313, loss_valid: 0.8594, accuracy_valid: 0.7066, 11.5609sec\n",
            "epoch: 9, loss_train: 0.7598, accuracy_train: 0.7390, loss_valid: 0.8423, accuracy_valid: 0.7111, 11.6830sec\n",
            "epoch: 10, loss_train: 0.7295, accuracy_train: 0.7484, loss_valid: 0.8189, accuracy_valid: 0.7208, 11.6048sec\n",
            "epoch: 11, loss_train: 0.7045, accuracy_train: 0.7558, loss_valid: 0.8030, accuracy_valid: 0.7231, 11.5285sec\n",
            "epoch: 12, loss_train: 0.6826, accuracy_train: 0.7613, loss_valid: 0.7923, accuracy_valid: 0.7231, 11.6273sec\n",
            "epoch: 13, loss_train: 0.6592, accuracy_train: 0.7717, loss_valid: 0.7787, accuracy_valid: 0.7298, 11.6457sec\n",
            "epoch: 14, loss_train: 0.6403, accuracy_train: 0.7752, loss_valid: 0.7677, accuracy_valid: 0.7328, 11.6210sec\n",
            "epoch: 15, loss_train: 0.6229, accuracy_train: 0.7818, loss_valid: 0.7554, accuracy_valid: 0.7350, 11.5783sec\n",
            "epoch: 16, loss_train: 0.6075, accuracy_train: 0.7880, loss_valid: 0.7469, accuracy_valid: 0.7403, 11.7105sec\n",
            "epoch: 17, loss_train: 0.5936, accuracy_train: 0.7936, loss_valid: 0.7388, accuracy_valid: 0.7425, 11.5795sec\n",
            "epoch: 18, loss_train: 0.5831, accuracy_train: 0.7957, loss_valid: 0.7307, accuracy_valid: 0.7455, 11.5198sec\n",
            "epoch: 19, loss_train: 0.5711, accuracy_train: 0.8006, loss_valid: 0.7234, accuracy_valid: 0.7515, 11.4524sec\n",
            "epoch: 20, loss_train: 0.5619, accuracy_train: 0.8065, loss_valid: 0.7204, accuracy_valid: 0.7522, 11.4167sec\n",
            "epoch: 21, loss_train: 0.5545, accuracy_train: 0.8069, loss_valid: 0.7148, accuracy_valid: 0.7552, 11.4174sec\n",
            "epoch: 22, loss_train: 0.5483, accuracy_train: 0.8094, loss_valid: 0.7115, accuracy_valid: 0.7575, 11.4340sec\n",
            "epoch: 23, loss_train: 0.5432, accuracy_train: 0.8105, loss_valid: 0.7083, accuracy_valid: 0.7575, 11.4954sec\n",
            "epoch: 24, loss_train: 0.5395, accuracy_train: 0.8129, loss_valid: 0.7069, accuracy_valid: 0.7605, 11.5765sec\n",
            "epoch: 25, loss_train: 0.5367, accuracy_train: 0.8138, loss_valid: 0.7051, accuracy_valid: 0.7597, 11.5896sec\n",
            "epoch: 26, loss_train: 0.5348, accuracy_train: 0.8141, loss_valid: 0.7040, accuracy_valid: 0.7620, 11.6399sec\n",
            "epoch: 27, loss_train: 0.5334, accuracy_train: 0.8145, loss_valid: 0.7032, accuracy_valid: 0.7620, 11.6131sec\n",
            "epoch: 28, loss_train: 0.5327, accuracy_train: 0.8147, loss_valid: 0.7026, accuracy_valid: 0.7635, 11.6706sec\n",
            "epoch: 29, loss_train: 0.5323, accuracy_train: 0.8144, loss_valid: 0.7023, accuracy_valid: 0.7627, 11.5839sec\n",
            "epoch: 30, loss_train: 0.5322, accuracy_train: 0.8145, loss_valid: 0.7023, accuracy_valid: 0.7627, 11.7261sec\n"
          ],
          "name": "stdout"
        },
        {
          "output_type": "stream",
          "text": [
            "[I 2020-06-17 14:50:08,949] Finished trial#19 with value: 0.7022905419329684 with parameters: {'emb_size': 300.0, 'out_channels': 100.0, 'drop_rate': 0.4, 'learning_rate': 0.011440724685094026, 'momentum': 0.8, 'batch_size': 128.0}. Best is trial#17 with value: 0.46946281966513503.\n"
          ],
          "name": "stderr"
        },
        {
          "output_type": "stream",
          "text": [
            "epoch: 1, loss_train: 1.0770, accuracy_train: 0.5420, loss_valid: 1.0842, accuracy_valid: 0.5427, 13.6607sec\n",
            "epoch: 2, loss_train: 1.0059, accuracy_train: 0.6220, loss_valid: 1.0280, accuracy_valid: 0.6138, 13.6412sec\n",
            "epoch: 3, loss_train: 0.9329, accuracy_train: 0.6854, loss_valid: 0.9752, accuracy_valid: 0.6699, 13.6081sec\n",
            "epoch: 4, loss_train: 0.8613, accuracy_train: 0.7134, loss_valid: 0.9126, accuracy_valid: 0.6864, 13.5973sec\n",
            "epoch: 5, loss_train: 0.7997, accuracy_train: 0.7291, loss_valid: 0.8732, accuracy_valid: 0.6976, 13.6652sec\n",
            "epoch: 6, loss_train: 0.7469, accuracy_train: 0.7449, loss_valid: 0.8356, accuracy_valid: 0.7103, 13.6177sec\n",
            "epoch: 7, loss_train: 0.7004, accuracy_train: 0.7593, loss_valid: 0.8088, accuracy_valid: 0.7156, 13.6470sec\n",
            "epoch: 8, loss_train: 0.6572, accuracy_train: 0.7734, loss_valid: 0.7818, accuracy_valid: 0.7268, 13.5972sec\n",
            "epoch: 9, loss_train: 0.6185, accuracy_train: 0.7867, loss_valid: 0.7609, accuracy_valid: 0.7290, 13.6327sec\n",
            "epoch: 10, loss_train: 0.5882, accuracy_train: 0.7964, loss_valid: 0.7457, accuracy_valid: 0.7373, 13.6561sec\n",
            "epoch: 11, loss_train: 0.5502, accuracy_train: 0.8059, loss_valid: 0.7179, accuracy_valid: 0.7455, 13.6521sec\n",
            "epoch: 12, loss_train: 0.5184, accuracy_train: 0.8198, loss_valid: 0.7027, accuracy_valid: 0.7485, 13.7864sec\n",
            "epoch: 13, loss_train: 0.4920, accuracy_train: 0.8236, loss_valid: 0.6838, accuracy_valid: 0.7522, 13.7816sec\n",
            "epoch: 14, loss_train: 0.4726, accuracy_train: 0.8429, loss_valid: 0.6837, accuracy_valid: 0.7470, 13.5920sec\n",
            "epoch: 15, loss_train: 0.4459, accuracy_train: 0.8529, loss_valid: 0.6614, accuracy_valid: 0.7702, 13.6781sec\n",
            "epoch: 16, loss_train: 0.4273, accuracy_train: 0.8556, loss_valid: 0.6498, accuracy_valid: 0.7627, 13.6505sec\n",
            "epoch: 17, loss_train: 0.4104, accuracy_train: 0.8644, loss_valid: 0.6393, accuracy_valid: 0.7627, 13.6413sec\n",
            "epoch: 18, loss_train: 0.3962, accuracy_train: 0.8793, loss_valid: 0.6362, accuracy_valid: 0.7747, 13.4601sec\n",
            "epoch: 19, loss_train: 0.3842, accuracy_train: 0.8838, loss_valid: 0.6297, accuracy_valid: 0.7792, 13.4599sec\n",
            "epoch: 20, loss_train: 0.3738, accuracy_train: 0.8853, loss_valid: 0.6225, accuracy_valid: 0.7769, 13.4992sec\n",
            "epoch: 21, loss_train: 0.3660, accuracy_train: 0.8872, loss_valid: 0.6184, accuracy_valid: 0.7814, 13.5792sec\n",
            "epoch: 22, loss_train: 0.3586, accuracy_train: 0.8948, loss_valid: 0.6165, accuracy_valid: 0.7867, 13.6090sec\n",
            "epoch: 23, loss_train: 0.3542, accuracy_train: 0.8891, loss_valid: 0.6111, accuracy_valid: 0.7814, 13.6348sec\n",
            "epoch: 24, loss_train: 0.3491, accuracy_train: 0.8981, loss_valid: 0.6118, accuracy_valid: 0.7867, 13.7345sec\n",
            "epoch: 25, loss_train: 0.3462, accuracy_train: 0.8976, loss_valid: 0.6094, accuracy_valid: 0.7852, 13.5958sec\n",
            "epoch: 26, loss_train: 0.3440, accuracy_train: 0.9008, loss_valid: 0.6093, accuracy_valid: 0.7889, 13.5322sec\n",
            "epoch: 27, loss_train: 0.3427, accuracy_train: 0.9004, loss_valid: 0.6084, accuracy_valid: 0.7867, 13.5995sec\n",
            "epoch: 28, loss_train: 0.3418, accuracy_train: 0.9004, loss_valid: 0.6076, accuracy_valid: 0.7882, 13.5387sec\n",
            "epoch: 29, loss_train: 0.3414, accuracy_train: 0.9009, loss_valid: 0.6074, accuracy_valid: 0.7882, 13.6297sec\n",
            "epoch: 30, loss_train: 0.3413, accuracy_train: 0.9009, loss_valid: 0.6074, accuracy_valid: 0.7882, 13.5492sec\n"
          ],
          "name": "stdout"
        },
        {
          "output_type": "stream",
          "text": [
            "[I 2020-06-17 14:56:59,057] Finished trial#20 with value: 0.6073545772515371 with parameters: {'emb_size': 100.0, 'out_channels': 150.0, 'drop_rate': 0.2, 'learning_rate': 0.0060052779587425435, 'momentum': 0.7, 'batch_size': 32.0}. Best is trial#17 with value: 0.46946281966513503.\n"
          ],
          "name": "stderr"
        },
        {
          "output_type": "stream",
          "text": [
            "Best trial:\n",
            "  Value: 0.469\n",
            "  Params: \n",
            "    emb_size: 300.0\n",
            "    out_channels: 100.0\n",
            "    drop_rate: 0.4\n",
            "    learning_rate: 0.013345934577557608\n",
            "    momentum: 0.8\n",
            "    batch_size: 32.0\n"
          ],
          "name": "stdout"
        }
      ]
    },
    {
      "cell_type": "code",
      "metadata": {
        "id": "Afro6W-MTdQP",
        "colab": {
          "base_uri": "https://localhost:8080/",
          "height": 503
        },
        "outputId": "539e4cb4-d0e1-4c86-f883-bff9f1589a1b"
      },
      "source": [
        "# パラメータの設定\n",
        "VOCAB_SIZE = len(set(word2id.values())) + 1\n",
        "EMB_SIZE = int(trial.params['emb_size'])\n",
        "PADDING_IDX = len(set(word2id.values()))\n",
        "OUTPUT_SIZE = 4\n",
        "OUT_CHANNELS = int(trial.params['out_channels'])\n",
        "CONV_PARAMS = [[2, 0], [3, 1], [4, 2]]\n",
        "DROP_RATE = trial.params['drop_rate']\n",
        "LEARNING_RATE = trial.params['learning_rate']\n",
        "BATCH_SIZE = int(trial.params['batch_size'])\n",
        "NUM_EPOCHS = 30\n",
        "\n",
        "# モデルの定義\n",
        "model = textCNN(VOCAB_SIZE, EMB_SIZE, PADDING_IDX, OUTPUT_SIZE, OUT_CHANNELS, CONV_PARAMS, DROP_RATE, emb_weights=weights)\n",
        "print(model)\n",
        "\n",
        "# 損失関数の定義\n",
        "criterion = nn.CrossEntropyLoss()\n",
        "\n",
        "# オプティマイザの定義\n",
        "optimizer = torch.optim.SGD(model.parameters(), lr=LEARNING_RATE, momentum=0.9)\n",
        "\n",
        "# デバイスの指定\n",
        "device = torch.device('cuda')\n",
        "\n",
        "# モデルの学習\n",
        "log = train_model(dataset_train, dataset_valid, BATCH_SIZE, model, criterion, optimizer, NUM_EPOCHS, collate_fn=Padsequence(PADDING_IDX), device=device)"
      ],
      "execution_count": null,
      "outputs": [
        {
          "output_type": "stream",
          "text": [
            "textCNN(\n",
            "  (emb): Embedding(9406, 300, padding_idx=9405)\n",
            "  (convs): ModuleList(\n",
            "    (0): Conv2d(1, 100, kernel_size=(2, 300), stride=(1, 1))\n",
            "    (1): Conv2d(1, 100, kernel_size=(3, 300), stride=(1, 1), padding=(1, 0))\n",
            "    (2): Conv2d(1, 100, kernel_size=(4, 300), stride=(1, 1), padding=(2, 0))\n",
            "  )\n",
            "  (drop): Dropout(p=0.4, inplace=False)\n",
            "  (fc): Linear(in_features=300, out_features=4, bias=True)\n",
            ")\n",
            "epoch: 1, loss_train: 0.7908, accuracy_train: 0.7239, loss_valid: 0.8660, accuracy_valid: 0.6901, 12.2279sec\n",
            "epoch: 2, loss_train: 0.5800, accuracy_train: 0.7944, loss_valid: 0.7384, accuracy_valid: 0.7485, 12.1637sec\n",
            "epoch: 3, loss_train: 0.3951, accuracy_train: 0.8738, loss_valid: 0.6189, accuracy_valid: 0.7919, 12.1612sec\n",
            "epoch: 4, loss_train: 0.2713, accuracy_train: 0.9217, loss_valid: 0.5499, accuracy_valid: 0.8136, 12.1877sec\n",
            "epoch: 5, loss_train: 0.1913, accuracy_train: 0.9593, loss_valid: 0.5176, accuracy_valid: 0.8293, 12.1722sec\n",
            "epoch: 6, loss_train: 0.1322, accuracy_train: 0.9749, loss_valid: 0.5042, accuracy_valid: 0.8234, 12.4483sec\n",
            "epoch: 7, loss_train: 0.1033, accuracy_train: 0.9807, loss_valid: 0.4922, accuracy_valid: 0.8323, 12.1556sec\n",
            "epoch: 8, loss_train: 0.0723, accuracy_train: 0.9943, loss_valid: 0.4900, accuracy_valid: 0.8308, 12.0309sec\n",
            "epoch: 9, loss_train: 0.0537, accuracy_train: 0.9966, loss_valid: 0.4903, accuracy_valid: 0.8346, 11.9471sec\n",
            "epoch: 10, loss_train: 0.0414, accuracy_train: 0.9966, loss_valid: 0.4801, accuracy_valid: 0.8421, 11.9275sec\n",
            "epoch: 11, loss_train: 0.0366, accuracy_train: 0.9978, loss_valid: 0.4943, accuracy_valid: 0.8406, 11.9691sec\n",
            "epoch: 12, loss_train: 0.0292, accuracy_train: 0.9983, loss_valid: 0.4839, accuracy_valid: 0.8436, 11.9665sec\n",
            "epoch: 13, loss_train: 0.0271, accuracy_train: 0.9982, loss_valid: 0.5042, accuracy_valid: 0.8421, 11.9634sec\n",
            "epoch: 14, loss_train: 0.0222, accuracy_train: 0.9986, loss_valid: 0.4912, accuracy_valid: 0.8458, 11.9298sec\n",
            "epoch: 15, loss_train: 0.0194, accuracy_train: 0.9988, loss_valid: 0.4925, accuracy_valid: 0.8436, 11.9375sec\n",
            "epoch: 16, loss_train: 0.0176, accuracy_train: 0.9988, loss_valid: 0.5074, accuracy_valid: 0.8451, 11.9333sec\n",
            "epoch: 17, loss_train: 0.0163, accuracy_train: 0.9991, loss_valid: 0.5124, accuracy_valid: 0.8436, 11.9137sec\n"
          ],
          "name": "stdout"
        }
      ]
    },
    {
      "cell_type": "code",
      "metadata": {
        "id": "yS1NJmI8UFSt",
        "colab": {
          "base_uri": "https://localhost:8080/",
          "height": 370
        },
        "outputId": "4034d26c-6aee-40fc-f262-9cf19d0dccd5"
      },
      "source": [
        "# ログの可視化\n",
        "visualize_logs(log)\n",
        "\n",
        "# 正解率の算出\n",
        "_, acc_train = calculate_loss_and_accuracy(model, dataset_train, device)\n",
        "_, acc_test = calculate_loss_and_accuracy(model, dataset_test, device)\n",
        "print(f'正解率（学習データ）：{acc_train:.3f}')\n",
        "print(f'正解率（評価データ）：{acc_test:.3f}')"
      ],
      "execution_count": null,
      "outputs": [
        {
          "output_type": "display_data",
          "data": {
            "image/png": "[encoded data removed]",
            "text/plain": [
              "<Figure size 1080x360 with 2 Axes>"
            ]
          },
          "metadata": {
            "tags": [],
            "needs_background": "light"
          }
        },
        {
          "output_type": "stream",
          "text": [
            "正解率（学習データ）：0.999\n",
            "正解率（評価データ）：0.851\n"
          ],
          "name": "stdout"
        }
      ]
    }
  ]
}