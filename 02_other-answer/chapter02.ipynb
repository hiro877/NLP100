{
  "nbformat": 4,
  "nbformat_minor": 0,
  "metadata": {
    "colab": {
      "name": "chapter02.ipynb",
      "provenance": [],
      "collapsed_sections": [],
      "mount_file_id": "1wj3dwWG5483CYOFe_SbeYmOVX4sUQFtD",
      "authorship_tag": "ABX9TyMOIJ8vkvKqVJkk76EWhcxo"
    },
    "kernelspec": {
      "name": "python3",
      "display_name": "Python 3"
    }
  },
  "cells": [
    {
      "cell_type": "markdown",
      "metadata": {
        "id": "uGHU9Bpd2SS1",
        "colab_type": "text"
      },
      "source": [
        "# 第2章: UNIXコマンド\n",
        "popular-names.txtは，アメリカで生まれた赤ちゃんの「名前」「性別」「人数」「年」をタブ区切り形式で格納したファイルである．以下の処理を行うプログラムを作成し，popular-names.txtを入力ファイルとして実行せよ．さらに，同様の処理をUNIXコマンドでも実行し，プログラムの実行結果を確認せよ．"
      ]
    },
    {
      "cell_type": "code",
      "metadata": {
        "id": "cn-6zG3wkQYx",
        "colab_type": "code",
        "colab": {
          "base_uri": "https://localhost:8080/",
          "height": 215
        },
        "outputId": "c1311745-583e-447d-8768-5c4e524ec011"
      },
      "source": [
        "!wget https://nlp100.github.io/data/popular-names.txt"
      ],
      "execution_count": 1,
      "outputs": [
        {
          "output_type": "stream",
          "text": [
            "--2020-06-01 11:12:13--  https://nlp100.github.io/data/popular-names.txt\n",
            "Resolving nlp100.github.io (nlp100.github.io)... 185.199.111.153, 185.199.109.153, 185.199.110.153, ...\n",
            "Connecting to nlp100.github.io (nlp100.github.io)|185.199.111.153|:443... connected.\n",
            "HTTP request sent, awaiting response... 200 OK\n",
            "Length: 55026 (54K) [text/plain]\n",
            "Saving to: ‘popular-names.txt’\n",
            "\n",
            "\rpopular-names.txt     0%[                    ]       0  --.-KB/s               \rpopular-names.txt   100%[===================>]  53.74K  --.-KB/s    in 0.03s   \n",
            "\n",
            "2020-06-01 11:12:13 (1.96 MB/s) - ‘popular-names.txt’ saved [55026/55026]\n",
            "\n"
          ],
          "name": "stdout"
        }
      ]
    },
    {
      "cell_type": "markdown",
      "metadata": {
        "id": "vDLdqfP92QtB",
        "colab_type": "text"
      },
      "source": [
        "## 10. 行数のカウント\n",
        "***\n",
        "行数をカウントせよ．確認にはwcコマンドを用いよ．"
      ]
    },
    {
      "cell_type": "code",
      "metadata": {
        "id": "eh0mAyU12Z6Y",
        "colab_type": "code",
        "outputId": "4d7b2f69-f574-4607-9282-0f515843f70e",
        "colab": {
          "base_uri": "https://localhost:8080/",
          "height": 35
        }
      },
      "source": [
        "import pandas as pd\n",
        "\n",
        "df = pd.read_table('./popular-names.txt', header=None, sep='\\t', names=['name', 'sex', 'number', 'year'])\n",
        "print(len(df))"
      ],
      "execution_count": 2,
      "outputs": [
        {
          "output_type": "stream",
          "text": [
            "2780\n"
          ],
          "name": "stdout"
        }
      ]
    },
    {
      "cell_type": "code",
      "metadata": {
        "id": "CBqi7ErykONb",
        "colab_type": "code",
        "outputId": "f6250070-d641-4c0c-9321-175004366026",
        "colab": {
          "base_uri": "https://localhost:8080/",
          "height": 35
        }
      },
      "source": [
        "# 確認\n",
        "!wc -l ./popular-names.txt"
      ],
      "execution_count": 3,
      "outputs": [
        {
          "output_type": "stream",
          "text": [
            "2780 ./popular-names.txt\n"
          ],
          "name": "stdout"
        }
      ]
    },
    {
      "cell_type": "markdown",
      "metadata": {
        "id": "0j76rjw_hqu6",
        "colab_type": "text"
      },
      "source": [
        "## 11. タブをスペースに置換\n",
        "***\n",
        "タブ1文字につきスペース1文字に置換せよ．確認にはsedコマンド，trコマンド，もしくはexpandコマンドを用いよ．"
      ]
    },
    {
      "cell_type": "code",
      "metadata": {
        "id": "XTjWaKzLhyR9",
        "colab_type": "code",
        "outputId": "54f2a9a7-2907-4404-dcf8-13c984c3c913",
        "colab": {
          "base_uri": "https://localhost:8080/",
          "height": 107
        }
      },
      "source": [
        "# 確認\n",
        "!sed -e 's/\\t/ /g' ./popular-names.txt | head -n 5"
      ],
      "execution_count": 4,
      "outputs": [
        {
          "output_type": "stream",
          "text": [
            "Mary F 7065 1880\n",
            "Anna F 2604 1880\n",
            "Emma F 2003 1880\n",
            "Elizabeth F 1939 1880\n",
            "Minnie F 1746 1880\n"
          ],
          "name": "stdout"
        }
      ]
    },
    {
      "cell_type": "markdown",
      "metadata": {
        "id": "98L6Id8Ni-uy",
        "colab_type": "text"
      },
      "source": [
        "## 12. 1列目をcol1.txtに，2列目をcol2.txtに保存\n",
        "***\n",
        "各行の1列目だけを抜き出したものをcol1.txtに，2列目だけを抜き出したものをcol2.txtとしてファイルに保存せよ．確認にはcutコマンドを用いよ．"
      ]
    },
    {
      "cell_type": "code",
      "metadata": {
        "id": "q8UDMdgzi9Ps",
        "colab_type": "code",
        "colab": {
          "base_uri": "https://localhost:8080/",
          "height": 125
        },
        "outputId": "1da78848-6259-4c0d-e8d1-f4634003d1b6"
      },
      "source": [
        "col1 = df['name']\n",
        "col1.to_csv('./col1.txt', index=False)\n",
        "print(col1.head())"
      ],
      "execution_count": 5,
      "outputs": [
        {
          "output_type": "stream",
          "text": [
            "0         Mary\n",
            "1         Anna\n",
            "2         Emma\n",
            "3    Elizabeth\n",
            "4       Minnie\n",
            "Name: name, dtype: object\n"
          ],
          "name": "stdout"
        }
      ]
    },
    {
      "cell_type": "code",
      "metadata": {
        "id": "JjiBMxx5kS6I",
        "colab_type": "code",
        "outputId": "5ae13f25-5fd3-4e05-c05d-8beecb6971da",
        "colab": {
          "base_uri": "https://localhost:8080/",
          "height": 107
        }
      },
      "source": [
        "# 確認\n",
        "!cut -f 1 ./popular-names.txt > ./col1_chk.txt\n",
        "!cat ./col1_chk.txt | head -n 5"
      ],
      "execution_count": 6,
      "outputs": [
        {
          "output_type": "stream",
          "text": [
            "Mary\n",
            "Anna\n",
            "Emma\n",
            "Elizabeth\n",
            "Minnie\n"
          ],
          "name": "stdout"
        }
      ]
    },
    {
      "cell_type": "code",
      "metadata": {
        "id": "yVAnsQbclCAc",
        "colab_type": "code",
        "colab": {
          "base_uri": "https://localhost:8080/",
          "height": 125
        },
        "outputId": "824d6139-b0c2-476e-94d0-6b354a346399"
      },
      "source": [
        "col2 = df['sex']\n",
        "col2.to_csv('./col2.txt', index=False)\n",
        "print(col2.head())"
      ],
      "execution_count": 7,
      "outputs": [
        {
          "output_type": "stream",
          "text": [
            "0    F\n",
            "1    F\n",
            "2    F\n",
            "3    F\n",
            "4    F\n",
            "Name: sex, dtype: object\n"
          ],
          "name": "stdout"
        }
      ]
    },
    {
      "cell_type": "code",
      "metadata": {
        "id": "-0dlDu0-kVXR",
        "colab_type": "code",
        "outputId": "9d4065ba-7ea3-4f81-bb83-be6c44aa70c5",
        "colab": {
          "base_uri": "https://localhost:8080/",
          "height": 107
        }
      },
      "source": [
        "!cut -f 2 ./popular-names.txt > ./col2_chk.txt\n",
        "!cat ./col2_chk.txt | head -n 5"
      ],
      "execution_count": 8,
      "outputs": [
        {
          "output_type": "stream",
          "text": [
            "F\n",
            "F\n",
            "F\n",
            "F\n",
            "F\n"
          ],
          "name": "stdout"
        }
      ]
    },
    {
      "cell_type": "markdown",
      "metadata": {
        "id": "Q5Hrt-KckVGG",
        "colab_type": "text"
      },
      "source": [
        "## 13. col1.txtとcol2.txtをマージ\n",
        "***\n",
        "12で作ったcol1.txtとcol2.txtを結合し，元のファイルの1列目と2列目をタブ区切りで並べたテキストファイルを作成せよ．確認にはpasteコマンドを用いよ．"
      ]
    },
    {
      "cell_type": "code",
      "metadata": {
        "id": "NbJWfXFtkLJH",
        "colab_type": "code",
        "outputId": "911734a8-c108-4a79-b253-78462e773a6d",
        "colab": {
          "base_uri": "https://localhost:8080/",
          "height": 125
        }
      },
      "source": [
        "col1 = pd.read_table('./col1.txt')\n",
        "col2 = pd.read_table('./col2.txt')\n",
        "merged_1_2 = pd.concat([col1, col2], axis=1)\n",
        "merged_1_2.to_csv('./merged_1_2.txt', sep='\\t', index=False)\n",
        "print(merged_1_2.head())"
      ],
      "execution_count": 9,
      "outputs": [
        {
          "output_type": "stream",
          "text": [
            "        name sex\n",
            "0       Mary   F\n",
            "1       Anna   F\n",
            "2       Emma   F\n",
            "3  Elizabeth   F\n",
            "4     Minnie   F\n"
          ],
          "name": "stdout"
        }
      ]
    },
    {
      "cell_type": "code",
      "metadata": {
        "id": "G2zz0sFTkXeZ",
        "colab_type": "code",
        "outputId": "6e607072-d538-4387-937d-e906cae40986",
        "colab": {
          "base_uri": "https://localhost:8080/",
          "height": 107
        }
      },
      "source": [
        "# 確認\n",
        "!paste ./col1_chk.txt ./col2_chk.txt | head -n 5"
      ],
      "execution_count": 10,
      "outputs": [
        {
          "output_type": "stream",
          "text": [
            "Mary\tF\n",
            "Anna\tF\n",
            "Emma\tF\n",
            "Elizabeth\tF\n",
            "Minnie\tF\n"
          ],
          "name": "stdout"
        }
      ]
    },
    {
      "cell_type": "markdown",
      "metadata": {
        "id": "1OT_n-pdk063",
        "colab_type": "text"
      },
      "source": [
        "## 14. 先頭からN行を出力\n",
        "***\n",
        "自然数Nをコマンドライン引数などの手段で受け取り，入力のうち先頭のN行だけを表示せよ．確認にはheadコマンドを用いよ．"
      ]
    },
    {
      "cell_type": "code",
      "metadata": {
        "id": "cBiIDFcOkhe_",
        "colab_type": "code",
        "outputId": "dbbf2d4c-f576-415e-f634-d5c9147e0a60",
        "colab": {
          "base_uri": "https://localhost:8080/",
          "height": 125
        }
      },
      "source": [
        "def output_head(N):\n",
        "  print(df.head(N))\n",
        "output_head(5)"
      ],
      "execution_count": 11,
      "outputs": [
        {
          "output_type": "stream",
          "text": [
            "        name sex  number  year\n",
            "0       Mary   F    7065  1880\n",
            "1       Anna   F    2604  1880\n",
            "2       Emma   F    2003  1880\n",
            "3  Elizabeth   F    1939  1880\n",
            "4     Minnie   F    1746  1880\n"
          ],
          "name": "stdout"
        }
      ]
    },
    {
      "cell_type": "code",
      "metadata": {
        "id": "kMzMJreQkgUK",
        "colab_type": "code",
        "outputId": "480f06c0-711c-40b0-8231-d787db5370e9",
        "colab": {
          "base_uri": "https://localhost:8080/",
          "height": 107
        }
      },
      "source": [
        "# 確認\n",
        "!head -n 5 ./popular-names.txt"
      ],
      "execution_count": 12,
      "outputs": [
        {
          "output_type": "stream",
          "text": [
            "Mary\tF\t7065\t1880\n",
            "Anna\tF\t2604\t1880\n",
            "Emma\tF\t2003\t1880\n",
            "Elizabeth\tF\t1939\t1880\n",
            "Minnie\tF\t1746\t1880\n"
          ],
          "name": "stdout"
        }
      ]
    },
    {
      "cell_type": "markdown",
      "metadata": {
        "id": "TGUOVzf4ldPk",
        "colab_type": "text"
      },
      "source": [
        "## 15. 末尾のN行を出力\n",
        "***\n",
        "自然数Nをコマンドライン引数などの手段で受け取り，入力のうち末尾のN行だけを表示せよ．確認にはtailコマンドを用いよ．"
      ]
    },
    {
      "cell_type": "code",
      "metadata": {
        "id": "tyxrecpylU8R",
        "colab_type": "code",
        "outputId": "e63a8969-5945-43e1-c5ec-5db9874631dc",
        "colab": {
          "base_uri": "https://localhost:8080/",
          "height": 125
        }
      },
      "source": [
        "def output_tail(N):\n",
        "  print(df.tail(N))\n",
        "output_tail(5)"
      ],
      "execution_count": 13,
      "outputs": [
        {
          "output_type": "stream",
          "text": [
            "          name sex  number  year\n",
            "2775  Benjamin   M   13381  2018\n",
            "2776    Elijah   M   12886  2018\n",
            "2777     Lucas   M   12585  2018\n",
            "2778     Mason   M   12435  2018\n",
            "2779     Logan   M   12352  2018\n"
          ],
          "name": "stdout"
        }
      ]
    },
    {
      "cell_type": "code",
      "metadata": {
        "id": "rHTViuLhkiJC",
        "colab_type": "code",
        "outputId": "140ce26b-0cdc-4ff9-ccef-5dd2c65d34f9",
        "colab": {
          "base_uri": "https://localhost:8080/",
          "height": 107
        }
      },
      "source": [
        "# 確認\n",
        "!tail -n 5 ./popular-names.txt"
      ],
      "execution_count": 14,
      "outputs": [
        {
          "output_type": "stream",
          "text": [
            "Benjamin\tM\t13381\t2018\n",
            "Elijah\tM\t12886\t2018\n",
            "Lucas\tM\t12585\t2018\n",
            "Mason\tM\t12435\t2018\n",
            "Logan\tM\t12352\t2018\n"
          ],
          "name": "stdout"
        }
      ]
    },
    {
      "cell_type": "markdown",
      "metadata": {
        "id": "nkoTJj2klmDA",
        "colab_type": "text"
      },
      "source": [
        "## 16. ファイルをN分割する\n",
        "***\n",
        "自然数Nをコマンドライン引数などの手段で受け取り，入力のファイルを行単位でN分割せよ．同様の処理をsplitコマンドで実現せよ．"
      ]
    },
    {
      "cell_type": "code",
      "metadata": {
        "id": "U76ylNCbljV6",
        "colab_type": "code",
        "outputId": "4e4f34f8-9a5b-43d5-83f2-f4cd2cd77eb5",
        "colab": {
          "base_uri": "https://localhost:8080/",
          "height": 323
        }
      },
      "source": [
        "def split_file(N):\n",
        "  tmp = df.reset_index(drop=False)\n",
        "  df_cut = pd.qcut(tmp.index, N, labels=[i for i in range(N)])\n",
        "  df_cut = pd.concat([df, pd.Series(df_cut, name='sp')], axis=1)\n",
        "\n",
        "  return df_cut\n",
        "  \n",
        "df_cut = split_file(10)\n",
        "print(df_cut['sp'].value_counts())\n",
        "print(df_cut.head())"
      ],
      "execution_count": 15,
      "outputs": [
        {
          "output_type": "stream",
          "text": [
            "9    278\n",
            "8    278\n",
            "7    278\n",
            "6    278\n",
            "5    278\n",
            "4    278\n",
            "3    278\n",
            "2    278\n",
            "1    278\n",
            "0    278\n",
            "Name: sp, dtype: int64\n",
            "        name sex  number  year sp\n",
            "0       Mary   F    7065  1880  0\n",
            "1       Anna   F    2604  1880  0\n",
            "2       Emma   F    2003  1880  0\n",
            "3  Elizabeth   F    1939  1880  0\n",
            "4     Minnie   F    1746  1880  0\n"
          ],
          "name": "stdout"
        }
      ]
    },
    {
      "cell_type": "code",
      "metadata": {
        "id": "jOYhMiANkkBi",
        "colab_type": "code",
        "colab": {}
      },
      "source": [
        "!split -l 200 -d ./popular-names.txt sp"
      ],
      "execution_count": 0,
      "outputs": []
    },
    {
      "cell_type": "markdown",
      "metadata": {
        "id": "rv5fVjIRl7QK",
        "colab_type": "text"
      },
      "source": [
        "## 17. １列目の文字列の異なり\n",
        "***\n",
        "1列目の文字列の種類（異なる文字列の集合）を求めよ．確認にはcut, sort, uniqコマンドを用いよ．"
      ]
    },
    {
      "cell_type": "code",
      "metadata": {
        "id": "5uNEHTi6luWr",
        "colab_type": "code",
        "outputId": "05cab633-05ee-4ab3-a232-0b1503755344",
        "colab": {
          "base_uri": "https://localhost:8080/",
          "height": 35
        }
      },
      "source": [
        "print(len(df.drop_duplicates(subset='name')))"
      ],
      "execution_count": 17,
      "outputs": [
        {
          "output_type": "stream",
          "text": [
            "136\n"
          ],
          "name": "stdout"
        }
      ]
    },
    {
      "cell_type": "code",
      "metadata": {
        "id": "J7qGmBkIkn6S",
        "colab_type": "code",
        "outputId": "711317e2-1189-4842-e1c1-1d6326d50f00",
        "colab": {
          "base_uri": "https://localhost:8080/",
          "height": 35
        }
      },
      "source": [
        "# 確認\n",
        "!cut -f 1 ./popular-names.txt | sort | uniq | wc -l"
      ],
      "execution_count": 18,
      "outputs": [
        {
          "output_type": "stream",
          "text": [
            "136\n"
          ],
          "name": "stdout"
        }
      ]
    },
    {
      "cell_type": "markdown",
      "metadata": {
        "id": "6JYgH5aUrWIc",
        "colab_type": "text"
      },
      "source": [
        "## 18. 各行を3コラム目の数値の降順にソート\n",
        "***\n",
        "各行を3コラム目の数値の逆順で整列せよ（注意: 各行の内容は変更せずに並び替えよ）．確認にはsortコマンドを用いよ（この問題はコマンドで実行した時の結果と合わなくてもよい）．"
      ]
    },
    {
      "cell_type": "code",
      "metadata": {
        "id": "jnqCTw3yqAKr",
        "colab_type": "code",
        "outputId": "1d3d2a1c-5187-4ce7-ec0c-3e503d319f22",
        "colab": {
          "base_uri": "https://localhost:8080/",
          "height": 125
        }
      },
      "source": [
        "df.sort_values(by='number', ascending=False, inplace=True)\n",
        "print(df.head())"
      ],
      "execution_count": 19,
      "outputs": [
        {
          "output_type": "stream",
          "text": [
            "         name sex  number  year\n",
            "1340    Linda   F   99689  1947\n",
            "1360    Linda   F   96211  1948\n",
            "1350    James   M   94757  1947\n",
            "1550  Michael   M   92704  1957\n",
            "1351   Robert   M   91640  1947\n"
          ],
          "name": "stdout"
        }
      ]
    },
    {
      "cell_type": "code",
      "metadata": {
        "id": "-i0wMa2ukpm7",
        "colab_type": "code",
        "outputId": "ca135bec-5397-4090-a2be-b8ca8285cf5f",
        "colab": {
          "base_uri": "https://localhost:8080/",
          "height": 107
        }
      },
      "source": [
        "# 確認\n",
        "!cat ./popular-names.txt | sort -rnk 3 | head -n 5"
      ],
      "execution_count": 20,
      "outputs": [
        {
          "output_type": "stream",
          "text": [
            "Linda\tF\t99689\t1947\n",
            "Linda\tF\t96211\t1948\n",
            "James\tM\t94757\t1947\n",
            "Michael\tM\t92704\t1957\n",
            "Robert\tM\t91640\t1947\n"
          ],
          "name": "stdout"
        }
      ]
    },
    {
      "cell_type": "markdown",
      "metadata": {
        "id": "4_AMuAgHsjfE",
        "colab_type": "text"
      },
      "source": [
        "## 19. 各行の1コラム目の文字列の出現頻度を求め，出現頻度の高い順に並べる\n",
        "***\n",
        "各行の1列目の文字列の出現頻度を求め，その高い順に並べて表示せよ．確認にはcut, uniq, sortコマンドを用いよ．"
      ]
    },
    {
      "cell_type": "code",
      "metadata": {
        "id": "yc8VXAKirFZs",
        "colab_type": "code",
        "outputId": "111fe99c-3da7-48db-b0bb-c7d2c69516ab",
        "colab": {
          "base_uri": "https://localhost:8080/",
          "height": 233
        }
      },
      "source": [
        "print(df['name'].value_counts())"
      ],
      "execution_count": 21,
      "outputs": [
        {
          "output_type": "stream",
          "text": [
            "James      118\n",
            "William    111\n",
            "Robert     108\n",
            "John       108\n",
            "Mary        92\n",
            "          ... \n",
            "Walter       1\n",
            "Julie        1\n",
            "Lori         1\n",
            "Laura        1\n",
            "Kelly        1\n",
            "Name: name, Length: 136, dtype: int64\n"
          ],
          "name": "stdout"
        }
      ]
    },
    {
      "cell_type": "code",
      "metadata": {
        "id": "zs5L5MMxkr1b",
        "colab_type": "code",
        "outputId": "dbf6ddd2-5a23-4c62-8ee5-985f32a44068",
        "colab": {
          "base_uri": "https://localhost:8080/",
          "height": 107
        }
      },
      "source": [
        "# 確認\n",
        "!cut -f 1 ./popular-names.txt | sort | uniq -c | sort -rn | head -n 5"
      ],
      "execution_count": 22,
      "outputs": [
        {
          "output_type": "stream",
          "text": [
            "    118 James\n",
            "    111 William\n",
            "    108 Robert\n",
            "    108 John\n",
            "     92 Mary\n"
          ],
          "name": "stdout"
        }
      ]
    }
  ]
}